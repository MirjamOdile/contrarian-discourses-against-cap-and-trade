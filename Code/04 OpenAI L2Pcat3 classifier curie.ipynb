{
 "cells": [
  {
   "attachments": {},
   "cell_type": "markdown",
   "metadata": {},
   "source": [
    "# Fine tuning classification: policy claims (IV) using curie\n",
    "\n",
    "We will fine-tune an curie classifier to train six classifiers for each level 2 policy claim 4.1 to 4.6"
   ]
  },
  {
   "cell_type": "code",
   "execution_count": 1,
   "metadata": {},
   "outputs": [],
   "source": [
    "import pandas as pd\n",
    "import numpy as np\n",
    "import re\n",
    "\n",
    "import openai\n",
    "import os\n",
    "\n",
    "from sklearn.metrics import classification_report\n",
    "\n",
    "# Set openai API key\n",
    "openai.api_key = os.getenv(\"OPENAI_API_KEY\")"
   ]
  },
  {
   "cell_type": "code",
   "execution_count": 2,
   "metadata": {},
   "outputs": [],
   "source": [
    "val = pd.read_json('../Classifiers/Data/cat_hearings_03_10_val.json')\n",
    "test = pd.read_json('../Classifiers/Data/cat_hearings_03_10_test.json')"
   ]
  },
  {
   "attachments": {},
   "cell_type": "markdown",
   "metadata": {},
   "source": [
    "## Fine-tuning"
   ]
  },
  {
   "attachments": {},
   "cell_type": "markdown",
   "metadata": {},
   "source": [
    "### 4.1 Climate policies are harmful"
   ]
  },
  {
   "cell_type": "code",
   "execution_count": 3,
   "metadata": {},
   "outputs": [],
   "source": [
    "# !openai api fine_tunes.create \\\n",
    "#     -t ../Classifiers/Data/train_4_1_prepared.jsonl \\\n",
    "#         -v ../Classifiers/Data/val_4_1_prepared.jsonl \\\n",
    "#             --compute_classification_metrics --classification_positive_class \" 1.0\" \\\n",
    "#                 -m curie --suffix \"L2Pcat3\""
   ]
  },
  {
   "attachments": {},
   "cell_type": "markdown",
   "metadata": {},
   "source": [
    "### 4.2 Climate policies are ineffective / flawed"
   ]
  },
  {
   "cell_type": "code",
   "execution_count": 4,
   "metadata": {},
   "outputs": [],
   "source": [
    "# !openai api fine_tunes.create \\\n",
    "#     -t ../Classifiers/Data/train_4_2_prepared.jsonl \\\n",
    "#         -v ../Classifiers/Data/val_4_2_prepared.jsonl \\\n",
    "#             --compute_classification_metrics --classification_positive_class \" 1.0\" \\\n",
    "#                 -m curie --suffix \"L2Pcat3\""
   ]
  },
  {
   "attachments": {},
   "cell_type": "markdown",
   "metadata": {},
   "source": [
    "### 4.3-4.6 Other reasons against policy "
   ]
  },
  {
   "cell_type": "code",
   "execution_count": 5,
   "metadata": {},
   "outputs": [],
   "source": [
    "# !openai api fine_tunes.create \\\n",
    "#     -t ../Classifiers/Data/train_4_3456_prepared.jsonl \\\n",
    "#         -v ../Classifiers/Data/val_4_3456_prepared.jsonl \\\n",
    "#             --compute_classification_metrics --classification_positive_class \" 1.0\" \\\n",
    "#                 -m curie --suffix \"L2Pcat3\""
   ]
  },
  {
   "attachments": {},
   "cell_type": "markdown",
   "metadata": {},
   "source": [
    "## Results"
   ]
  },
  {
   "attachments": {},
   "cell_type": "markdown",
   "metadata": {},
   "source": [
    "### 4.1 Climate policies are harmful"
   ]
  },
  {
   "cell_type": "code",
   "execution_count": 6,
   "metadata": {},
   "outputs": [
    {
     "name": "stdout",
     "output_type": "stream",
     "text": [
      "[2023-06-01 16:25:48] Created fine-tune: ft-c7VMnhgMbAOv5BF5O7jrhypX\n",
      "[2023-06-01 16:26:47] Fine-tune costs $1.22\n",
      "[2023-06-01 16:26:47] Fine-tune enqueued. Queue number: 0\n",
      "[2023-06-01 16:26:49] Fine-tune started\n",
      "[2023-06-01 16:32:38] Completed epoch 1/4\n",
      "[2023-06-01 16:37:26] Completed epoch 2/4\n",
      "[2023-06-01 16:47:01] Completed epoch 4/4\n",
      "[2023-06-01 16:47:23] Uploaded model: curie:ft-university-of-exeter:l2pcat3-2023-06-01-15-47-23\n",
      "[2023-06-01 16:47:24] Uploaded result file: file-wLXGp4BrAMJaVVALvvRugBo4\n",
      "[2023-06-01 16:47:25] Fine-tune succeeded\n",
      "\n",
      "Job complete! Status: succeeded 🎉\n",
      "Try out your fine-tuned model:\n",
      "\n",
      "openai api completions.create -m curie:ft-university-of-exeter:l2pcat3-2023-06-01-15-47-23 -p <YOUR_PROMPT>\n"
     ]
    }
   ],
   "source": [
    "!openai api fine_tunes.follow -i ft-c7VMnhgMbAOv5BF5O7jrhypX\n",
    "!openai api fine_tunes.results -i ft-c7VMnhgMbAOv5BF5O7jrhypX > ../Classifiers/Results/result_4_1_curie_1.csv"
   ]
  },
  {
   "cell_type": "code",
   "execution_count": 7,
   "metadata": {},
   "outputs": [
    {
     "data": {
      "text/html": [
       "<div>\n",
       "<style scoped>\n",
       "    .dataframe tbody tr th:only-of-type {\n",
       "        vertical-align: middle;\n",
       "    }\n",
       "\n",
       "    .dataframe tbody tr th {\n",
       "        vertical-align: top;\n",
       "    }\n",
       "\n",
       "    .dataframe thead th {\n",
       "        text-align: right;\n",
       "    }\n",
       "</style>\n",
       "<table border=\"1\" class=\"dataframe\">\n",
       "  <thead>\n",
       "    <tr style=\"text-align: right;\">\n",
       "      <th></th>\n",
       "      <th>LLM</th>\n",
       "      <th>claim</th>\n",
       "      <th>classification/accuracy</th>\n",
       "      <th>classification/precision</th>\n",
       "      <th>classification/recall</th>\n",
       "      <th>classification/auroc</th>\n",
       "      <th>classification/auprc</th>\n",
       "      <th>classification/f1.0</th>\n",
       "    </tr>\n",
       "  </thead>\n",
       "  <tbody>\n",
       "    <tr>\n",
       "      <th>2362</th>\n",
       "      <td>curie</td>\n",
       "      <td>4_1</td>\n",
       "      <td>0.881423</td>\n",
       "      <td>0.741935</td>\n",
       "      <td>0.766667</td>\n",
       "      <td>0.912824</td>\n",
       "      <td>0.794668</td>\n",
       "      <td>0.754098</td>\n",
       "    </tr>\n",
       "  </tbody>\n",
       "</table>\n",
       "</div>"
      ],
      "text/plain": [
       "        LLM claim  classification/accuracy  classification/precision  \\\n",
       "2362  curie   4_1                 0.881423                  0.741935   \n",
       "\n",
       "      classification/recall  classification/auroc  classification/auprc  \\\n",
       "2362               0.766667              0.912824              0.794668   \n",
       "\n",
       "      classification/f1.0  \n",
       "2362             0.754098  "
      ]
     },
     "execution_count": 7,
     "metadata": {},
     "output_type": "execute_result"
    }
   ],
   "source": [
    "results_4_1 = pd.read_csv('../Classifiers/Results/result_4_1_curie_1.csv')\n",
    "results_4_1.insert(9, 'claim', '4_1' )\n",
    "results_4_1.insert(9, 'LLM', 'curie')\n",
    "results_4_1[results_4_1['classification/accuracy'].notnull()].iloc[:,9:17].tail(1)"
   ]
  },
  {
   "cell_type": "code",
   "execution_count": 8,
   "metadata": {},
   "outputs": [
    {
     "data": {
      "text/plain": [
       "<AxesSubplot: >"
      ]
     },
     "execution_count": 8,
     "metadata": {},
     "output_type": "execute_result"
    },
    {
     "data": {
      "image/png": "[encoded data removed]",
      "text/plain": [
       "<Figure size 640x480 with 1 Axes>"
      ]
     },
     "metadata": {},
     "output_type": "display_data"
    }
   ],
   "source": [
    "results_4_1[results_4_1['classification/precision'].notnull()]['classification/precision'].plot()\n",
    "results_4_1[results_4_1['classification/recall'].notnull()]['classification/recall'].plot()\n",
    "results_4_1[results_4_1['classification/f1.0'].notnull()]['classification/f1.0'].plot()"
   ]
  },
  {
   "cell_type": "code",
   "execution_count": 9,
   "metadata": {},
   "outputs": [
    {
     "data": {
      "text/html": [
       "<div>\n",
       "<style scoped>\n",
       "    .dataframe tbody tr th:only-of-type {\n",
       "        vertical-align: middle;\n",
       "    }\n",
       "\n",
       "    .dataframe tbody tr th {\n",
       "        vertical-align: top;\n",
       "    }\n",
       "\n",
       "    .dataframe thead th {\n",
       "        text-align: right;\n",
       "    }\n",
       "</style>\n",
       "<table border=\"1\" class=\"dataframe\">\n",
       "  <thead>\n",
       "    <tr style=\"text-align: right;\">\n",
       "      <th></th>\n",
       "      <th>predicted_probabilities</th>\n",
       "      <th>predicted_label</th>\n",
       "    </tr>\n",
       "  </thead>\n",
       "  <tbody>\n",
       "    <tr>\n",
       "      <th>0</th>\n",
       "      <td>{'0': -11.385856, ' 0': -1.8788729e-05}</td>\n",
       "      <td>0</td>\n",
       "    </tr>\n",
       "    <tr>\n",
       "      <th>1</th>\n",
       "      <td>{'0': -9.311458, ' 0': -9.687513e-05}</td>\n",
       "      <td>0</td>\n",
       "    </tr>\n",
       "    <tr>\n",
       "      <th>2</th>\n",
       "      <td>{'0': -14.311573, ' 0': -5.460492e-07}</td>\n",
       "      <td>0</td>\n",
       "    </tr>\n",
       "    <tr>\n",
       "      <th>3</th>\n",
       "      <td>{' 1': -10.968528, ' 0': -2.3795494e-05}</td>\n",
       "      <td>0</td>\n",
       "    </tr>\n",
       "    <tr>\n",
       "      <th>4</th>\n",
       "      <td>{' 1': -7.103118, ' 0': -0.00082349137}</td>\n",
       "      <td>0</td>\n",
       "    </tr>\n",
       "    <tr>\n",
       "      <th>...</th>\n",
       "      <td>...</td>\n",
       "      <td>...</td>\n",
       "    </tr>\n",
       "    <tr>\n",
       "      <th>248</th>\n",
       "      <td>{'0': -9.765374, ' 0': -7.398424e-05}</td>\n",
       "      <td>0</td>\n",
       "    </tr>\n",
       "    <tr>\n",
       "      <th>249</th>\n",
       "      <td>{' 1': -4.842947, ' 0': -0.007923224}</td>\n",
       "      <td>0</td>\n",
       "    </tr>\n",
       "    <tr>\n",
       "      <th>250</th>\n",
       "      <td>{'0': -10.771782, ' 0': -2.3078366e-05}</td>\n",
       "      <td>0</td>\n",
       "    </tr>\n",
       "    <tr>\n",
       "      <th>251</th>\n",
       "      <td>{' 1': -4.243733, ' 0': -0.01448658}</td>\n",
       "      <td>0</td>\n",
       "    </tr>\n",
       "    <tr>\n",
       "      <th>252</th>\n",
       "      <td>{'1': -12.523071, ' 1': -5.912312e-06}</td>\n",
       "      <td>1</td>\n",
       "    </tr>\n",
       "  </tbody>\n",
       "</table>\n",
       "<p>253 rows × 2 columns</p>\n",
       "</div>"
      ],
      "text/plain": [
       "                      predicted_probabilities predicted_label\n",
       "0     {'0': -11.385856, ' 0': -1.8788729e-05}               0\n",
       "1       {'0': -9.311458, ' 0': -9.687513e-05}               0\n",
       "2      {'0': -14.311573, ' 0': -5.460492e-07}               0\n",
       "3    {' 1': -10.968528, ' 0': -2.3795494e-05}               0\n",
       "4     {' 1': -7.103118, ' 0': -0.00082349137}               0\n",
       "..                                        ...             ...\n",
       "248     {'0': -9.765374, ' 0': -7.398424e-05}               0\n",
       "249     {' 1': -4.842947, ' 0': -0.007923224}               0\n",
       "250   {'0': -10.771782, ' 0': -2.3078366e-05}               0\n",
       "251      {' 1': -4.243733, ' 0': -0.01448658}               0\n",
       "252    {'1': -12.523071, ' 1': -5.912312e-06}               1\n",
       "\n",
       "[253 rows x 2 columns]"
      ]
     },
     "execution_count": 9,
     "metadata": {},
     "output_type": "execute_result"
    }
   ],
   "source": [
    "ft_model_4_1 = 'curie:ft-university-of-exeter:l2pcat3-2023-06-01-15-47-23'\n",
    "\n",
    "predicted_probabilities_4_1 = []\n",
    "predicted_label_4_1 = []\n",
    "for i in val.text:\n",
    "    result = openai.Completion.create(model=ft_model_4_1, prompt=i + ' ->', max_tokens=1, temperature=0, logprobs=2)\n",
    "    predicted_probabilities_4_1.append(result['choices'][0]['logprobs']['top_logprobs'][0])\n",
    "    predicted_label_4_1.append(result['choices'][0]['text'])\n",
    "\n",
    "predictions_4_1 = pd.DataFrame(zip(predicted_probabilities_4_1, predicted_label_4_1), columns=['predicted_probabilities', 'predicted_label'])\n",
    "\n",
    "predictions_4_1"
   ]
  },
  {
   "attachments": {},
   "cell_type": "markdown",
   "metadata": {},
   "source": [
    "### 4.2 Climate policies are ineffective / flawed"
   ]
  },
  {
   "cell_type": "code",
   "execution_count": 10,
   "metadata": {},
   "outputs": [
    {
     "name": "stdout",
     "output_type": "stream",
     "text": [
      "[2023-06-01 16:27:07] Created fine-tune: ft-WBP6rtIrLF491Bzbd7RjfmxO\n",
      "[2023-06-01 16:47:26] Fine-tune costs $1.22\n",
      "[2023-06-01 16:47:26] Fine-tune enqueued. Queue number: 0\n",
      "[2023-06-01 16:47:27] Fine-tune started\n",
      "[2023-06-01 16:53:11] Completed epoch 1/4\n",
      "[2023-06-01 16:57:54] Completed epoch 2/4\n",
      "[2023-06-01 17:07:20] Completed epoch 4/4\n",
      "[2023-06-01 17:07:42] Uploaded model: curie:ft-university-of-exeter:l2pcat3-2023-06-01-16-07-41\n",
      "[2023-06-01 17:07:43] Uploaded result file: file-BZV44NZYwNnH7pAQqJwo9AjV\n",
      "[2023-06-01 17:07:43] Fine-tune succeeded\n",
      "\n",
      "Job complete! Status: succeeded 🎉\n",
      "Try out your fine-tuned model:\n",
      "\n",
      "openai api completions.create -m curie:ft-university-of-exeter:l2pcat3-2023-06-01-16-07-41 -p <YOUR_PROMPT>\n"
     ]
    }
   ],
   "source": [
    "!openai api fine_tunes.follow -i ft-WBP6rtIrLF491Bzbd7RjfmxO\n",
    "!openai api fine_tunes.results -i ft-WBP6rtIrLF491Bzbd7RjfmxO > ../Classifiers/Results/result_4_2_curie_1.csv"
   ]
  },
  {
   "cell_type": "code",
   "execution_count": 11,
   "metadata": {},
   "outputs": [
    {
     "data": {
      "text/html": [
       "<div>\n",
       "<style scoped>\n",
       "    .dataframe tbody tr th:only-of-type {\n",
       "        vertical-align: middle;\n",
       "    }\n",
       "\n",
       "    .dataframe tbody tr th {\n",
       "        vertical-align: top;\n",
       "    }\n",
       "\n",
       "    .dataframe thead th {\n",
       "        text-align: right;\n",
       "    }\n",
       "</style>\n",
       "<table border=\"1\" class=\"dataframe\">\n",
       "  <thead>\n",
       "    <tr style=\"text-align: right;\">\n",
       "      <th></th>\n",
       "      <th>LLM</th>\n",
       "      <th>claim</th>\n",
       "      <th>classification/accuracy</th>\n",
       "      <th>classification/precision</th>\n",
       "      <th>classification/recall</th>\n",
       "      <th>classification/auroc</th>\n",
       "      <th>classification/auprc</th>\n",
       "      <th>classification/f1.0</th>\n",
       "    </tr>\n",
       "  </thead>\n",
       "  <tbody>\n",
       "    <tr>\n",
       "      <th>2362</th>\n",
       "      <td>curie</td>\n",
       "      <td>4_2</td>\n",
       "      <td>0.940711</td>\n",
       "      <td>0.75</td>\n",
       "      <td>0.666667</td>\n",
       "      <td>0.960505</td>\n",
       "      <td>0.79421</td>\n",
       "      <td>0.705882</td>\n",
       "    </tr>\n",
       "  </tbody>\n",
       "</table>\n",
       "</div>"
      ],
      "text/plain": [
       "        LLM claim  classification/accuracy  classification/precision  \\\n",
       "2362  curie   4_2                 0.940711                      0.75   \n",
       "\n",
       "      classification/recall  classification/auroc  classification/auprc  \\\n",
       "2362               0.666667              0.960505               0.79421   \n",
       "\n",
       "      classification/f1.0  \n",
       "2362             0.705882  "
      ]
     },
     "execution_count": 11,
     "metadata": {},
     "output_type": "execute_result"
    }
   ],
   "source": [
    "results_4_2 = pd.read_csv('../Classifiers/Results/result_4_2_curie_1.csv')\n",
    "results_4_2.insert(9, 'claim', '4_2' )\n",
    "results_4_2.insert(9, 'LLM', 'curie')\n",
    "results_4_2[results_4_2['classification/accuracy'].notnull()].iloc[:,9:17].tail(1)"
   ]
  },
  {
   "cell_type": "code",
   "execution_count": 12,
   "metadata": {},
   "outputs": [
    {
     "data": {
      "text/plain": [
       "<AxesSubplot: >"
      ]
     },
     "execution_count": 12,
     "metadata": {},
     "output_type": "execute_result"
    },
    {
     "data": {
      "image/png": "[encoded data removed]",
      "text/plain": [
       "<Figure size 640x480 with 1 Axes>"
      ]
     },
     "metadata": {},
     "output_type": "display_data"
    }
   ],
   "source": [
    "results_4_2[results_4_2['classification/precision'].notnull()]['classification/precision'].plot()\n",
    "results_4_2[results_4_2['classification/recall'].notnull()]['classification/recall'].plot()\n",
    "results_4_2[results_4_2['classification/f1.0'].notnull()]['classification/f1.0'].plot()"
   ]
  },
  {
   "cell_type": "code",
   "execution_count": 14,
   "metadata": {},
   "outputs": [
    {
     "data": {
      "text/html": [
       "<div>\n",
       "<style scoped>\n",
       "    .dataframe tbody tr th:only-of-type {\n",
       "        vertical-align: middle;\n",
       "    }\n",
       "\n",
       "    .dataframe tbody tr th {\n",
       "        vertical-align: top;\n",
       "    }\n",
       "\n",
       "    .dataframe thead th {\n",
       "        text-align: right;\n",
       "    }\n",
       "</style>\n",
       "<table border=\"1\" class=\"dataframe\">\n",
       "  <thead>\n",
       "    <tr style=\"text-align: right;\">\n",
       "      <th></th>\n",
       "      <th>predicted_probabilities</th>\n",
       "      <th>predicted_label</th>\n",
       "    </tr>\n",
       "  </thead>\n",
       "  <tbody>\n",
       "    <tr>\n",
       "      <th>0</th>\n",
       "      <td>{' 1': -13.890435, ' 0': -1.3823812e-06}</td>\n",
       "      <td>0</td>\n",
       "    </tr>\n",
       "    <tr>\n",
       "      <th>1</th>\n",
       "      <td>{'0': -11.466201, ' 0': -2.1171965e-05}</td>\n",
       "      <td>0</td>\n",
       "    </tr>\n",
       "    <tr>\n",
       "      <th>2</th>\n",
       "      <td>{' 1': -15.535475, ' 0': -1.8841804e-07}</td>\n",
       "      <td>0</td>\n",
       "    </tr>\n",
       "    <tr>\n",
       "      <th>3</th>\n",
       "      <td>{'0': -14.424158, ' 0': -9.055464e-07}</td>\n",
       "      <td>0</td>\n",
       "    </tr>\n",
       "    <tr>\n",
       "      <th>4</th>\n",
       "      <td>{' 1': -0.13078246, ' 0': -2.0994925}</td>\n",
       "      <td>1</td>\n",
       "    </tr>\n",
       "    <tr>\n",
       "      <th>...</th>\n",
       "      <td>...</td>\n",
       "      <td>...</td>\n",
       "    </tr>\n",
       "    <tr>\n",
       "      <th>248</th>\n",
       "      <td>{' 1': -9.601126, ' 0': -6.89756e-05}</td>\n",
       "      <td>0</td>\n",
       "    </tr>\n",
       "    <tr>\n",
       "      <th>249</th>\n",
       "      <td>{' 1': -1.3762366, ' 0': -0.29116702}</td>\n",
       "      <td>0</td>\n",
       "    </tr>\n",
       "    <tr>\n",
       "      <th>250</th>\n",
       "      <td>{' 1': -12.871115, ' 0': -4.721163e-06}</td>\n",
       "      <td>0</td>\n",
       "    </tr>\n",
       "    <tr>\n",
       "      <th>251</th>\n",
       "      <td>{' 1': -11.049654, ' 0': -1.771398e-05}</td>\n",
       "      <td>0</td>\n",
       "    </tr>\n",
       "    <tr>\n",
       "      <th>252</th>\n",
       "      <td>{' 1': -0.0002329739, ' 0': -8.574026}</td>\n",
       "      <td>1</td>\n",
       "    </tr>\n",
       "  </tbody>\n",
       "</table>\n",
       "<p>253 rows × 2 columns</p>\n",
       "</div>"
      ],
      "text/plain": [
       "                      predicted_probabilities predicted_label\n",
       "0    {' 1': -13.890435, ' 0': -1.3823812e-06}               0\n",
       "1     {'0': -11.466201, ' 0': -2.1171965e-05}               0\n",
       "2    {' 1': -15.535475, ' 0': -1.8841804e-07}               0\n",
       "3      {'0': -14.424158, ' 0': -9.055464e-07}               0\n",
       "4       {' 1': -0.13078246, ' 0': -2.0994925}               1\n",
       "..                                        ...             ...\n",
       "248     {' 1': -9.601126, ' 0': -6.89756e-05}               0\n",
       "249     {' 1': -1.3762366, ' 0': -0.29116702}               0\n",
       "250   {' 1': -12.871115, ' 0': -4.721163e-06}               0\n",
       "251   {' 1': -11.049654, ' 0': -1.771398e-05}               0\n",
       "252    {' 1': -0.0002329739, ' 0': -8.574026}               1\n",
       "\n",
       "[253 rows x 2 columns]"
      ]
     },
     "execution_count": 14,
     "metadata": {},
     "output_type": "execute_result"
    }
   ],
   "source": [
    "ft_model_4_2 = 'curie:ft-university-of-exeter:l2pcat3-2023-06-01-16-07-41'\n",
    "\n",
    "predicted_probabilities_4_2 = []\n",
    "predicted_label_4_2 = []\n",
    "for i in val.text:\n",
    "    result = openai.Completion.create(model=ft_model_4_2, prompt=i + ' ->', max_tokens=1, temperature=0, logprobs=2)\n",
    "    predicted_probabilities_4_2.append(result['choices'][0]['logprobs']['top_logprobs'][0])\n",
    "    predicted_label_4_2.append(result['choices'][0]['text'])\n",
    "\n",
    "predictions_4_2 = pd.DataFrame(zip(predicted_probabilities_4_2, predicted_label_4_2), columns=['predicted_probabilities', 'predicted_label'])\n",
    "\n",
    "predictions_4_2"
   ]
  },
  {
   "attachments": {},
   "cell_type": "markdown",
   "metadata": {},
   "source": [
    "### 4.3-4.6 Other reasons against policy "
   ]
  },
  {
   "cell_type": "code",
   "execution_count": 15,
   "metadata": {},
   "outputs": [
    {
     "name": "stdout",
     "output_type": "stream",
     "text": [
      "[2023-06-01 16:27:22] Created fine-tune: ft-40FcATWzcMM9GuRU5IlnPs2H\n",
      "[2023-06-01 17:08:00] Fine-tune costs $1.22\n",
      "[2023-06-01 17:08:00] Fine-tune enqueued. Queue number: 5\n",
      "[2023-06-01 17:10:59] Fine-tune is in the queue. Queue number: 4\n",
      "[2023-06-01 17:12:34] Fine-tune is in the queue. Queue number: 3\n",
      "[2023-06-01 17:13:59] Fine-tune is in the queue. Queue number: 2\n",
      "[2023-06-01 17:14:06] Fine-tune is in the queue. Queue number: 1\n",
      "[2023-06-01 17:15:43] Fine-tune is in the queue. Queue number: 0\n",
      "[2023-06-01 17:15:44] Fine-tune started\n",
      "[2023-06-01 17:21:20] Completed epoch 1/4\n",
      "[2023-06-01 17:30:37] Completed epoch 3/4\n",
      "[2023-06-01 17:35:38] Uploaded model: curie:ft-university-of-exeter:l2pcat3-2023-06-01-16-35-38\n",
      "[2023-06-01 17:35:39] Uploaded result file: file-0ubYTlRpAkXjU7qyimgZrjAJ\n",
      "[2023-06-01 17:35:39] Fine-tune succeeded\n",
      "\n",
      "Job complete! Status: succeeded 🎉\n",
      "Try out your fine-tuned model:\n",
      "\n",
      "openai api completions.create -m curie:ft-university-of-exeter:l2pcat3-2023-06-01-16-35-38 -p <YOUR_PROMPT>\n"
     ]
    }
   ],
   "source": [
    "!openai api fine_tunes.follow -i ft-40FcATWzcMM9GuRU5IlnPs2H\n",
    "!openai api fine_tunes.results -i ft-40FcATWzcMM9GuRU5IlnPs2H > ../Classifiers/Results/result_4_3456_curie_1.csv"
   ]
  },
  {
   "cell_type": "code",
   "execution_count": 16,
   "metadata": {},
   "outputs": [
    {
     "data": {
      "text/html": [
       "<div>\n",
       "<style scoped>\n",
       "    .dataframe tbody tr th:only-of-type {\n",
       "        vertical-align: middle;\n",
       "    }\n",
       "\n",
       "    .dataframe tbody tr th {\n",
       "        vertical-align: top;\n",
       "    }\n",
       "\n",
       "    .dataframe thead th {\n",
       "        text-align: right;\n",
       "    }\n",
       "</style>\n",
       "<table border=\"1\" class=\"dataframe\">\n",
       "  <thead>\n",
       "    <tr style=\"text-align: right;\">\n",
       "      <th></th>\n",
       "      <th>LLM</th>\n",
       "      <th>claim</th>\n",
       "      <th>classification/accuracy</th>\n",
       "      <th>classification/precision</th>\n",
       "      <th>classification/recall</th>\n",
       "      <th>classification/auroc</th>\n",
       "      <th>classification/auprc</th>\n",
       "      <th>classification/f1.0</th>\n",
       "    </tr>\n",
       "  </thead>\n",
       "  <tbody>\n",
       "    <tr>\n",
       "      <th>2362</th>\n",
       "      <td>curie</td>\n",
       "      <td>4_3456</td>\n",
       "      <td>0.865613</td>\n",
       "      <td>0.533333</td>\n",
       "      <td>0.444444</td>\n",
       "      <td>0.83615</td>\n",
       "      <td>0.499455</td>\n",
       "      <td>0.484848</td>\n",
       "    </tr>\n",
       "  </tbody>\n",
       "</table>\n",
       "</div>"
      ],
      "text/plain": [
       "        LLM   claim  classification/accuracy  classification/precision  \\\n",
       "2362  curie  4_3456                 0.865613                  0.533333   \n",
       "\n",
       "      classification/recall  classification/auroc  classification/auprc  \\\n",
       "2362               0.444444               0.83615              0.499455   \n",
       "\n",
       "      classification/f1.0  \n",
       "2362             0.484848  "
      ]
     },
     "execution_count": 16,
     "metadata": {},
     "output_type": "execute_result"
    }
   ],
   "source": [
    "results_4_3456 = pd.read_csv('../Classifiers/Results/result_4_3456_curie_1.csv')\n",
    "results_4_3456.insert(9, 'claim', '4_3456' )\n",
    "results_4_3456.insert(9, 'LLM', 'curie')\n",
    "results_4_3456[results_4_3456['classification/accuracy'].notnull()].iloc[:,9:17].tail(1)"
   ]
  },
  {
   "cell_type": "code",
   "execution_count": 17,
   "metadata": {},
   "outputs": [
    {
     "data": {
      "text/plain": [
       "<AxesSubplot: >"
      ]
     },
     "execution_count": 17,
     "metadata": {},
     "output_type": "execute_result"
    },
    {
     "data": {
      "image/png": "[encoded data removed]",
      "text/plain": [
       "<Figure size 640x480 with 1 Axes>"
      ]
     },
     "metadata": {},
     "output_type": "display_data"
    }
   ],
   "source": [
    "results_4_3456[results_4_3456['classification/precision'].notnull()]['classification/precision'].plot()\n",
    "results_4_3456[results_4_3456['classification/recall'].notnull()]['classification/recall'].plot()\n",
    "results_4_3456[results_4_3456['classification/f1.0'].notnull()]['classification/f1.0'].plot()"
   ]
  },
  {
   "cell_type": "code",
   "execution_count": 18,
   "metadata": {},
   "outputs": [
    {
     "data": {
      "text/html": [
       "<div>\n",
       "<style scoped>\n",
       "    .dataframe tbody tr th:only-of-type {\n",
       "        vertical-align: middle;\n",
       "    }\n",
       "\n",
       "    .dataframe tbody tr th {\n",
       "        vertical-align: top;\n",
       "    }\n",
       "\n",
       "    .dataframe thead th {\n",
       "        text-align: right;\n",
       "    }\n",
       "</style>\n",
       "<table border=\"1\" class=\"dataframe\">\n",
       "  <thead>\n",
       "    <tr style=\"text-align: right;\">\n",
       "      <th></th>\n",
       "      <th>predicted_probabilities</th>\n",
       "      <th>predicted_label</th>\n",
       "    </tr>\n",
       "  </thead>\n",
       "  <tbody>\n",
       "    <tr>\n",
       "      <th>0</th>\n",
       "      <td>{' 1': -7.584048e-06, ' 0': -11.93118}</td>\n",
       "      <td>1</td>\n",
       "    </tr>\n",
       "    <tr>\n",
       "      <th>1</th>\n",
       "      <td>{'0': -8.900749, ' 0': -0.00013872207}</td>\n",
       "      <td>0</td>\n",
       "    </tr>\n",
       "    <tr>\n",
       "      <th>2</th>\n",
       "      <td>{'0': -14.874582, ' 0': -4.277735e-07}</td>\n",
       "      <td>0</td>\n",
       "    </tr>\n",
       "    <tr>\n",
       "      <th>3</th>\n",
       "      <td>{' 1': -0.00063243933, ' 0': -7.3672433}</td>\n",
       "      <td>1</td>\n",
       "    </tr>\n",
       "    <tr>\n",
       "      <th>4</th>\n",
       "      <td>{'0': -16.322348, ' 0': -1.8841804e-07}</td>\n",
       "      <td>0</td>\n",
       "    </tr>\n",
       "    <tr>\n",
       "      <th>...</th>\n",
       "      <td>...</td>\n",
       "      <td>...</td>\n",
       "    </tr>\n",
       "    <tr>\n",
       "      <th>248</th>\n",
       "      <td>{'0': -11.286756, ' 0': -1.9860674e-05}</td>\n",
       "      <td>0</td>\n",
       "    </tr>\n",
       "    <tr>\n",
       "      <th>249</th>\n",
       "      <td>{' 1': -7.0445924, ' 0': -0.0008842211}</td>\n",
       "      <td>0</td>\n",
       "    </tr>\n",
       "    <tr>\n",
       "      <th>250</th>\n",
       "      <td>{'0': -10.146018, ' 0': -4.3227457e-05}</td>\n",
       "      <td>0</td>\n",
       "    </tr>\n",
       "    <tr>\n",
       "      <th>251</th>\n",
       "      <td>{' 1': -0.64931554, ' 0': -0.73902196}</td>\n",
       "      <td>1</td>\n",
       "    </tr>\n",
       "    <tr>\n",
       "      <th>252</th>\n",
       "      <td>{' instability': -10.056678, ' 0': -9.806815e-05}</td>\n",
       "      <td>0</td>\n",
       "    </tr>\n",
       "  </tbody>\n",
       "</table>\n",
       "<p>253 rows × 2 columns</p>\n",
       "</div>"
      ],
      "text/plain": [
       "                               predicted_probabilities predicted_label\n",
       "0               {' 1': -7.584048e-06, ' 0': -11.93118}               1\n",
       "1               {'0': -8.900749, ' 0': -0.00013872207}               0\n",
       "2               {'0': -14.874582, ' 0': -4.277735e-07}               0\n",
       "3             {' 1': -0.00063243933, ' 0': -7.3672433}               1\n",
       "4              {'0': -16.322348, ' 0': -1.8841804e-07}               0\n",
       "..                                                 ...             ...\n",
       "248            {'0': -11.286756, ' 0': -1.9860674e-05}               0\n",
       "249            {' 1': -7.0445924, ' 0': -0.0008842211}               0\n",
       "250            {'0': -10.146018, ' 0': -4.3227457e-05}               0\n",
       "251             {' 1': -0.64931554, ' 0': -0.73902196}               1\n",
       "252  {' instability': -10.056678, ' 0': -9.806815e-05}               0\n",
       "\n",
       "[253 rows x 2 columns]"
      ]
     },
     "execution_count": 18,
     "metadata": {},
     "output_type": "execute_result"
    }
   ],
   "source": [
    "ft_model_4_3 = 'curie:ft-university-of-exeter:l2pcat3-2023-06-01-16-35-38'\n",
    "\n",
    "predicted_probabilities_4_3 = []\n",
    "predicted_label_4_3 = []\n",
    "for i in val.text:\n",
    "    result = openai.Completion.create(model=ft_model_4_3, prompt=i + ' ->', max_tokens=1, temperature=0, logprobs=2)\n",
    "    predicted_probabilities_4_3.append(result['choices'][0]['logprobs']['top_logprobs'][0])\n",
    "    predicted_label_4_3.append(result['choices'][0]['text'])\n",
    "\n",
    "predictions_4_3 = pd.DataFrame(zip(predicted_probabilities_4_3, predicted_label_4_3), columns=['predicted_probabilities', 'predicted_label'])\n",
    "\n",
    "predictions_4_3"
   ]
  },
  {
   "attachments": {},
   "cell_type": "markdown",
   "metadata": {},
   "source": [
    "## Summary"
   ]
  },
  {
   "cell_type": "code",
   "execution_count": 19,
   "metadata": {},
   "outputs": [
    {
     "data": {
      "text/html": [
       "<div>\n",
       "<style scoped>\n",
       "    .dataframe tbody tr th:only-of-type {\n",
       "        vertical-align: middle;\n",
       "    }\n",
       "\n",
       "    .dataframe tbody tr th {\n",
       "        vertical-align: top;\n",
       "    }\n",
       "\n",
       "    .dataframe thead th {\n",
       "        text-align: right;\n",
       "    }\n",
       "</style>\n",
       "<table border=\"1\" class=\"dataframe\">\n",
       "  <thead>\n",
       "    <tr style=\"text-align: right;\">\n",
       "      <th></th>\n",
       "      <th>LLM</th>\n",
       "      <th>claim</th>\n",
       "      <th>classification/accuracy</th>\n",
       "      <th>classification/precision</th>\n",
       "      <th>classification/recall</th>\n",
       "      <th>classification/auroc</th>\n",
       "      <th>classification/auprc</th>\n",
       "      <th>classification/f1.0</th>\n",
       "    </tr>\n",
       "  </thead>\n",
       "  <tbody>\n",
       "    <tr>\n",
       "      <th>0</th>\n",
       "      <td>curie</td>\n",
       "      <td>4_1</td>\n",
       "      <td>0.881423</td>\n",
       "      <td>0.741935</td>\n",
       "      <td>0.766667</td>\n",
       "      <td>0.912824</td>\n",
       "      <td>0.794668</td>\n",
       "      <td>0.754098</td>\n",
       "    </tr>\n",
       "    <tr>\n",
       "      <th>1</th>\n",
       "      <td>curie</td>\n",
       "      <td>4_2</td>\n",
       "      <td>0.940711</td>\n",
       "      <td>0.750000</td>\n",
       "      <td>0.666667</td>\n",
       "      <td>0.960505</td>\n",
       "      <td>0.794210</td>\n",
       "      <td>0.705882</td>\n",
       "    </tr>\n",
       "    <tr>\n",
       "      <th>2</th>\n",
       "      <td>curie</td>\n",
       "      <td>4_3456</td>\n",
       "      <td>0.865613</td>\n",
       "      <td>0.533333</td>\n",
       "      <td>0.444444</td>\n",
       "      <td>0.836150</td>\n",
       "      <td>0.499455</td>\n",
       "      <td>0.484848</td>\n",
       "    </tr>\n",
       "  </tbody>\n",
       "</table>\n",
       "</div>"
      ],
      "text/plain": [
       "     LLM   claim  classification/accuracy  classification/precision  \\\n",
       "0  curie     4_1                 0.881423                  0.741935   \n",
       "1  curie     4_2                 0.940711                  0.750000   \n",
       "2  curie  4_3456                 0.865613                  0.533333   \n",
       "\n",
       "   classification/recall  classification/auroc  classification/auprc  \\\n",
       "0               0.766667              0.912824              0.794668   \n",
       "1               0.666667              0.960505              0.794210   \n",
       "2               0.444444              0.836150              0.499455   \n",
       "\n",
       "   classification/f1.0  \n",
       "0             0.754098  \n",
       "1             0.705882  \n",
       "2             0.484848  "
      ]
     },
     "execution_count": 19,
     "metadata": {},
     "output_type": "execute_result"
    }
   ],
   "source": [
    "pd.concat([results_4_1[results_4_1['classification/accuracy'].notnull()].iloc[:,9:17].tail(1),\n",
    "           results_4_2[results_4_2['classification/accuracy'].notnull()].iloc[:,9:17].tail(1),\n",
    "           results_4_3456[results_4_3456['classification/accuracy'].notnull()].iloc[:,9:17].tail(1)]).reset_index(drop=True)"
   ]
  },
  {
   "cell_type": "code",
   "execution_count": 20,
   "metadata": {},
   "outputs": [],
   "source": [
    "# Multi-hot encode the labels\n",
    "val['predicted_labels_curie'] = pd.concat([predictions_4_1.predicted_label.apply(lambda x: re.findall(r'\\d+', x)[0]).astype(int),\n",
    "                                          predictions_4_2.predicted_label.apply(lambda x: re.findall(r'\\d+', x)[0]).astype(int),\n",
    "                                          predictions_4_3.predicted_label.apply(lambda x: re.findall(r'\\d+', x)[0]).astype(int)], axis=1).values.tolist()"
   ]
  },
  {
   "cell_type": "code",
   "execution_count": 21,
   "metadata": {},
   "outputs": [
    {
     "name": "stdout",
     "output_type": "stream",
     "text": [
      "Classification performance\n",
      "-------------------\n",
      "              precision    recall  f1-score   support\n",
      "\n",
      "           0       0.74      0.77      0.75        60\n",
      "           1       0.75      0.67      0.71        27\n",
      "           2       0.53      0.44      0.48        36\n",
      "\n",
      "   micro avg       0.69      0.65      0.67       123\n",
      "   macro avg       0.68      0.63      0.65       123\n",
      "weighted avg       0.68      0.65      0.66       123\n",
      " samples avg       0.26      0.26      0.25       123\n",
      "\n",
      "Overall performance\n",
      "-------------------\n",
      "              precision    recall  f1-score   support\n",
      "\n",
      "           0       0.84      0.86      0.85       153\n",
      "           1       0.78      0.75      0.77       100\n",
      "\n",
      "    accuracy                           0.82       253\n",
      "   macro avg       0.81      0.81      0.81       253\n",
      "weighted avg       0.82      0.82      0.82       253\n",
      "\n"
     ]
    },
    {
     "name": "stderr",
     "output_type": "stream",
     "text": [
      "/Users/mn/Library/CloudStorage/OneDrive-UniversityofExeter/Projects/GitHub/.venv/lib/python3.11/site-packages/sklearn/metrics/_classification.py:1344: UndefinedMetricWarning: Precision and F-score are ill-defined and being set to 0.0 in samples with no predicted labels. Use `zero_division` parameter to control this behavior.\n",
      "  _warn_prf(average, modifier, msg_start, len(result))\n",
      "/Users/mn/Library/CloudStorage/OneDrive-UniversityofExeter/Projects/GitHub/.venv/lib/python3.11/site-packages/sklearn/metrics/_classification.py:1344: UndefinedMetricWarning: Recall and F-score are ill-defined and being set to 0.0 in samples with no true labels. Use `zero_division` parameter to control this behavior.\n",
      "  _warn_prf(average, modifier, msg_start, len(result))\n"
     ]
    }
   ],
   "source": [
    "# curie model results on validation data\n",
    "\n",
    "# Print the classification report\n",
    "print(\"Classification performance\\n-------------------\")\n",
    "print(classification_report(val['labels'].values.tolist(), val['predicted_labels_curie'].values.tolist()))\n",
    "\n",
    "# Check overall performance\n",
    "# Print the classification report\n",
    "print(\"Overall performance\\n-------------------\")\n",
    "print(classification_report([1 if sum(i)>0 else 0 for i in val['labels']], [1 if sum(i)>0 else 0 for i in val['predicted_labels_curie']]))"
   ]
  },
  {
   "cell_type": "code",
   "execution_count": 22,
   "metadata": {},
   "outputs": [],
   "source": [
    "# Save the predictions\n",
    "\n",
    "val.to_json(\"../Classifiers/Data/cat_hearings_03_10_val_curie_labels.json\")"
   ]
  }
 ],
 "metadata": {
  "interpreter": {
   "hash": "3b138a8faad971cc852f62bcf00f59ea0e31721743ea2c5a866ca26adf572e75"
  },
  "kernelspec": {
   "display_name": "Python 3.7.3 64-bit ('base': conda)",
   "name": "python3"
  },
  "language_info": {
   "codemirror_mode": {
    "name": "ipython",
    "version": 3
   },
   "file_extension": ".py",
   "mimetype": "text/x-python",
   "name": "python",
   "nbconvert_exporter": "python",
   "pygments_lexer": "ipython3",
   "version": "3.11.1"
  },
  "orig_nbformat": 4
 },
 "nbformat": 4,
 "nbformat_minor": 2
}
