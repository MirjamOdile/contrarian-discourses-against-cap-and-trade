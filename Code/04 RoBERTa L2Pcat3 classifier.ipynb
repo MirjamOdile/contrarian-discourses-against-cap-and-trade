{
 "cells": [
  {
   "cell_type": "code",
   "execution_count": 1,
   "metadata": {
    "execution": {
     "iopub.execute_input": "2023-05-31T09:33:54.910841Z",
     "iopub.status.busy": "2023-05-31T09:33:54.910445Z",
     "iopub.status.idle": "2023-05-31T09:33:54.916860Z",
     "shell.execute_reply": "2023-05-31T09:33:54.915932Z",
     "shell.execute_reply.started": "2023-05-31T09:33:54.910798Z"
    }
   },
   "outputs": [],
   "source": [
    "# https://www.youtube.com/watch?v=vNKIg8rXK6w\n",
    "# https://colab.research.google.com/drive/1ejBYmu0P5urzghoTTDB-GBUxpbUFX0Gz?usp=sharing#scrollTo=2h6ZoDAzafnY"
   ]
  },
  {
   "cell_type": "code",
   "execution_count": 2,
   "metadata": {
    "execution": {
     "iopub.execute_input": "2023-05-31T09:33:54.933435Z",
     "iopub.status.busy": "2023-05-31T09:33:54.933133Z",
     "iopub.status.idle": "2023-05-31T09:33:58.349085Z"
    }
   },
   "outputs": [
    {
     "name": "stderr",
     "output_type": "stream",
     "text": [
      "/Users/mn/Library/CloudStorage/OneDrive-UniversityofExeter/Projects/GitHub/.venv/lib/python3.11/site-packages/tqdm/auto.py:22: TqdmWarning: IProgress not found. Please update jupyter and ipywidgets. See https://ipywidgets.readthedocs.io/en/stable/user_install.html\n",
      "  from .autonotebook import tqdm as notebook_tqdm\n"
     ]
    },
    {
     "data": {
      "text/plain": [
       "False"
      ]
     },
     "execution_count": 2,
     "metadata": {},
     "output_type": "execute_result"
    }
   ],
   "source": [
    "import pandas as pd\n",
    "import numpy as np\n",
    "import logging\n",
    "import wandb\n",
    "\n",
    "from sklearn.model_selection import train_test_split\n",
    "from sklearn.metrics import coverage_error\n",
    "from sklearn.metrics import label_ranking_average_precision_score\n",
    "from sklearn.metrics import label_ranking_loss\n",
    "from sklearn.metrics import classification_report\n",
    "\n",
    "import torch\n",
    "from torch.utils.data import Dataset, DataLoader\n",
    "from transformers import AutoTokenizer, RobertaForSequenceClassification\n",
    "\n",
    "import pytorch_lightning as pl\n",
    "from torch.utils.data import DataLoader\n",
    "\n",
    "torch.cuda.is_available()\n"
   ]
  },
  {
   "cell_type": "code",
   "execution_count": 3,
   "metadata": {
    "execution": {
     "iopub.execute_input": "2023-05-31T09:33:58.350801Z",
     "iopub.status.busy": "2023-05-31T09:33:58.350323Z",
     "iopub.status.idle": "2023-05-31T09:34:01.472093Z"
    }
   },
   "outputs": [],
   "source": [
    "from transformers import AutoModel, AdamW, get_cosine_schedule_with_warmup\n",
    "import torch.nn as nn\n",
    "import math\n",
    "from torchmetrics.functional.classification import auroc\n",
    "import torch.nn.functional as F"
   ]
  },
  {
   "cell_type": "code",
   "execution_count": 4,
   "metadata": {
    "execution": {
     "iopub.execute_input": "2023-05-31T09:34:01.474102Z",
     "iopub.status.busy": "2023-05-31T09:34:01.473441Z",
     "iopub.status.idle": "2023-05-31T09:34:01.505569Z"
    }
   },
   "outputs": [],
   "source": [
    "# Define classes\n",
    "\n",
    "class CARDS_ClassificationDataSet(Dataset):\n",
    "    \n",
    "    def __init__(self, data: pd.DataFrame, tokenizer: AutoTokenizer, label_columns: list, max_token_len: int = 512):\n",
    "        \n",
    "        self.data = data\n",
    "        self.tokenizer = tokenizer\n",
    "        self.max_token_len = max_token_len\n",
    "        self.label_columns = label_columns\n",
    "        \n",
    "    def __len__(self):\n",
    "        return len(self.data)\n",
    "    \n",
    "    def __getitem__(self, index: int):\n",
    "    \n",
    "        data_row = self.data.iloc[index]\n",
    "        \n",
    "        text = data_row.text\n",
    "        labels = data_row[self.label_columns]\n",
    "        \n",
    "        encoding = self.tokenizer.encode_plus(\n",
    "            text,\n",
    "            add_special_tokens=True,\n",
    "            max_length=self.max_token_len,\n",
    "            return_token_type_ids=False,\n",
    "            padding=\"max_length\",\n",
    "            truncation=True,\n",
    "            return_attention_mask=True,\n",
    "            return_tensors='pt',\n",
    "    )\n",
    "        \n",
    "        return dict(\n",
    "            # comment=text,\n",
    "            input_ids=encoding[\"input_ids\"].flatten(),\n",
    "            attention_mask=encoding[\"attention_mask\"].flatten(),\n",
    "            labels=torch.FloatTensor(labels)\n",
    "        )\n",
    "    \n",
    "class CARDS_ClassificationDataModule(pl.LightningDataModule):\n",
    "\n",
    "    def __init__(self, train_df, val_df, tokenizer, label_columns, batch_size=8, max_token_len=512):\n",
    "        super().__init__()\n",
    "        self.batch_size = batch_size\n",
    "        self.train_df = train_df\n",
    "        self.val_df = val_df\n",
    "        self.tokenizer = tokenizer\n",
    "        self.max_token_len = max_token_len\n",
    "        self.label_columns = label_columns\n",
    "\n",
    "    def setup(self, stage=None):\n",
    "        self.train_dataset = CARDS_ClassificationDataSet(\n",
    "        self.train_df,\n",
    "        self.tokenizer,\n",
    "        self.label_columns,\n",
    "        self.max_token_len\n",
    "        )\n",
    "        self.val_dataset = CARDS_ClassificationDataSet(\n",
    "        self.val_df,\n",
    "        self.tokenizer,\n",
    "        self.label_columns,\n",
    "        self.max_token_len\n",
    "        )\n",
    "    \n",
    "    def train_dataloader(self):\n",
    "        return DataLoader(\n",
    "        self.train_dataset,\n",
    "        batch_size=self.batch_size,\n",
    "        shuffle=True,\n",
    "        num_workers=8\n",
    "        )\n",
    "    \n",
    "    def val_dataloader(self):\n",
    "        return DataLoader(\n",
    "        self.val_dataset,\n",
    "        batch_size=self.batch_size,\n",
    "        num_workers=8\n",
    "        )\n",
    "    \n",
    "    def predict_dataloader(self):\n",
    "        return DataLoader(\n",
    "            self.val_dataset,\n",
    "            batch_size=self.batch_size,\n",
    "            num_workers=8\n",
    "        )\n",
    "    \n",
    "class CARDS_Classifier(pl.LightningModule):\n",
    "\n",
    "  def __init__(self, config: dict):\n",
    "    super().__init__()\n",
    "    self.config = config\n",
    "    self.save_hyperparameters()\n",
    "    self.pretrained_model = AutoModel.from_pretrained(config['model_name'], return_dict = True)\n",
    "    self.hidden = torch.nn.Linear(self.pretrained_model.config.hidden_size, self.pretrained_model.config.hidden_size)\n",
    "    self.classifier = torch.nn.Linear(self.pretrained_model.config.hidden_size, self.config['n_labels'])\n",
    "    torch.nn.init.xavier_uniform_(self.classifier.weight)\n",
    "    self.loss_func = nn.BCEWithLogitsLoss(reduction='mean')\n",
    "    self.dropout = nn.Dropout()\n",
    "    \n",
    "  def forward(self, input_ids, attention_mask, labels=None):\n",
    "    # roberta layer\n",
    "    output = self.pretrained_model(input_ids=input_ids, attention_mask=attention_mask)\n",
    "    pooled_output = torch.mean(output.last_hidden_state, 1)\n",
    "    # final logits\n",
    "    pooled_output = self.dropout(pooled_output)\n",
    "    pooled_output = self.hidden(pooled_output)\n",
    "    pooled_output = F.relu(pooled_output)\n",
    "    pooled_output = self.dropout(pooled_output)\n",
    "    logits = self.classifier(pooled_output)\n",
    "    # calculate loss\n",
    "    loss = 0\n",
    "    if labels is not None:\n",
    "      loss = self.loss_func(logits.view(-1, self.config['n_labels']), labels.view(-1, self.config['n_labels']))\n",
    "    return loss, logits\n",
    "\n",
    "  def training_step(self, batch, batch_index):\n",
    "    loss, outputs = self(**batch)\n",
    "    self.log(\"train loss\", loss, prog_bar = True, logger=True)\n",
    "    return {\"loss\":loss, \"predictions\":outputs, \"labels\": batch[\"labels\"]}\n",
    "\n",
    "  def validation_step(self, batch, batch_index):\n",
    "    loss, outputs = self(**batch)\n",
    "    self.log(\"validation loss\", loss, prog_bar = True, logger=True)\n",
    "    return {\"val_loss\": loss, \"predictions\":outputs, \"labels\": batch[\"labels\"]}\n",
    "\n",
    "  def predict_step(self, batch, batch_index):\n",
    "    loss, outputs = self(**batch)\n",
    "    return outputs\n",
    "\n",
    "  def configure_optimizers(self):\n",
    "    optimizer = AdamW(self.parameters(), lr=self.config['lr'], weight_decay=self.config['weight_decay'])\n",
    "    total_steps = self.config['train_size']/self.config['batch_size']\n",
    "    warmup_steps = math.floor(total_steps * self.config['warmup'])\n",
    "    warmup_steps = math.floor(total_steps * self.config['warmup'])\n",
    "    scheduler = get_cosine_schedule_with_warmup(optimizer, warmup_steps, total_steps)\n",
    "    return [optimizer],[scheduler]\n",
    "\n",
    "  # def validation_epoch_end(self, outputs):\n",
    "  #   losses = []\n",
    "  #   for output in outputs:\n",
    "  #     loss = output['val_loss'].detach().cpu()\n",
    "  #     losses.append(loss)\n",
    "  #   avg_loss = torch.mean(torch.stack(losses))\n",
    "  #   self.log(\"avg_val_loss\", avg_loss)\n",
    "    "
   ]
  },
  {
   "attachments": {},
   "cell_type": "markdown",
   "metadata": {},
   "source": [
    "# Prepare the data"
   ]
  },
  {
   "cell_type": "code",
   "execution_count": 5,
   "metadata": {
    "execution": {
     "iopub.execute_input": "2023-05-31T09:34:01.508876Z",
     "iopub.status.busy": "2023-05-31T09:34:01.507433Z",
     "iopub.status.idle": "2023-05-31T09:34:12.760595Z"
    }
   },
   "outputs": [
    {
     "data": {
      "text/html": [
       "<div>\n",
       "<style scoped>\n",
       "    .dataframe tbody tr th:only-of-type {\n",
       "        vertical-align: middle;\n",
       "    }\n",
       "\n",
       "    .dataframe tbody tr th {\n",
       "        vertical-align: top;\n",
       "    }\n",
       "\n",
       "    .dataframe thead th {\n",
       "        text-align: right;\n",
       "    }\n",
       "</style>\n",
       "<table border=\"1\" class=\"dataframe\">\n",
       "  <thead>\n",
       "    <tr style=\"text-align: right;\">\n",
       "      <th></th>\n",
       "      <th>congress</th>\n",
       "      <th>chamber</th>\n",
       "      <th>committee</th>\n",
       "      <th>committee_short</th>\n",
       "      <th>year</th>\n",
       "      <th>date</th>\n",
       "      <th>title</th>\n",
       "      <th>hearing_id</th>\n",
       "      <th>type</th>\n",
       "      <th>last_name</th>\n",
       "      <th>...</th>\n",
       "      <th>L3claims_multi_hot</th>\n",
       "      <th>L4claims</th>\n",
       "      <th>L4claims_multi_hot</th>\n",
       "      <th>L1policyclaims</th>\n",
       "      <th>L2policyclaims</th>\n",
       "      <th>L3policyclaims</th>\n",
       "      <th>L4policyclaims</th>\n",
       "      <th>L2policyclaims_multi_hot</th>\n",
       "      <th>labelled</th>\n",
       "      <th>L2dummy_4_3456</th>\n",
       "    </tr>\n",
       "  </thead>\n",
       "  <tbody>\n",
       "    <tr>\n",
       "      <th>0</th>\n",
       "      <td>108</td>\n",
       "      <td>SENATE</td>\n",
       "      <td>Committee on Environment and Public Works</td>\n",
       "      <td>Environment and Public Works</td>\n",
       "      <td>2003</td>\n",
       "      <td>2003-04-08</td>\n",
       "      <td>The Clear Skies Act of 2003</td>\n",
       "      <td>108shrg91748</td>\n",
       "      <td>witness</td>\n",
       "      <td>Rogers</td>\n",
       "      <td>...</td>\n",
       "      <td>[1, 0, 0, 0, 0, 0, 0, 0, 0, 0, 0, 0, 0, 0, 0, ...</td>\n",
       "      <td>[0]</td>\n",
       "      <td>[1, 0, 0, 0, 0, 0, 0, 0, 0, 0, 0]</td>\n",
       "      <td>0.0</td>\n",
       "      <td>[0.0]</td>\n",
       "      <td>[0.0]</td>\n",
       "      <td>[0.0]</td>\n",
       "      <td>[1, 0, 0, 0, 0, 0, 0, 0]</td>\n",
       "      <td>True</td>\n",
       "      <td>0.0</td>\n",
       "    </tr>\n",
       "  </tbody>\n",
       "</table>\n",
       "<p>1 rows × 177 columns</p>\n",
       "</div>"
      ],
      "text/plain": [
       "   congress chamber                                  committee  \\\n",
       "0       108  SENATE  Committee on Environment and Public Works   \n",
       "\n",
       "                committee_short  year       date                        title  \\\n",
       "0  Environment and Public Works  2003 2003-04-08  The Clear Skies Act of 2003   \n",
       "\n",
       "     hearing_id     type last_name  ...  \\\n",
       "0  108shrg91748  witness    Rogers  ...   \n",
       "\n",
       "                                  L3claims_multi_hot  L4claims  \\\n",
       "0  [1, 0, 0, 0, 0, 0, 0, 0, 0, 0, 0, 0, 0, 0, 0, ...       [0]   \n",
       "\n",
       "                  L4claims_multi_hot L1policyclaims L2policyclaims  \\\n",
       "0  [1, 0, 0, 0, 0, 0, 0, 0, 0, 0, 0]            0.0          [0.0]   \n",
       "\n",
       "  L3policyclaims L4policyclaims  L2policyclaims_multi_hot labelled  \\\n",
       "0          [0.0]          [0.0]  [1, 0, 0, 0, 0, 0, 0, 0]     True   \n",
       "\n",
       "   L2dummy_4_3456  \n",
       "0             0.0  \n",
       "\n",
       "[1 rows x 177 columns]"
      ]
     },
     "execution_count": 5,
     "metadata": {},
     "output_type": "execute_result"
    }
   ],
   "source": [
    "df = pd.read_json('../Data/cat_hearings_03_10_utterances_witnesses_MoCs_labels.json')\n",
    "df = df[df.labelled == True].reset_index(drop=True)\n",
    "# Add a new dummy combining policy claim 4.3 ,4.4, 4.5 and 4.6\n",
    "df[\"L2dummy_4_3456\"] = df.apply(lambda x: [1.0 if i > 0 else 0.0 for i in [x.L2dummy_4_3 + x.L2dummy_4_4 + x.L2dummy_4_5 + x.L2dummy_4_6]][0], axis = 1)\n",
    "df.head(1)"
   ]
  },
  {
   "cell_type": "code",
   "execution_count": 6,
   "metadata": {
    "execution": {
     "iopub.execute_input": "2023-05-31T09:34:12.769318Z",
     "iopub.status.busy": "2023-05-31T09:34:12.769047Z",
     "iopub.status.idle": "2023-05-31T09:34:12.842424Z"
    }
   },
   "outputs": [
    {
     "name": "stdout",
     "output_type": "stream",
     "text": [
      "Training data set size:  1181\n",
      "Validation data set size:  253\n",
      "Testing data set size:  253\n",
      "Training data level 2 policy claims:\n",
      "\n",
      "Claim 4_1 count:  276 (23.37%)\n",
      "Claim 4_2 count:  128 (10.84%)\n",
      "Claim 4_3456 count: 169 (14.31%)\n",
      "\n",
      "Validation data level 2 policy claims:\n",
      "Claim 4_1 count:  60 (23.72%)\n",
      "Claim 4_2 count:  27 (10.67%)\n",
      "Claim 4_3456 count: 36 (14.23%)\n",
      "\n",
      "Testing data level 2 policy claims:\n",
      "Claim 4_1 count:  38 (15.02%)\n",
      "Claim 4_2 count:  17 (6.72%)\n",
      "Claim 4_3456 count: 35 (13.83%)\n"
     ]
    }
   ],
   "source": [
    "# Split the data into training, validation and testing data (70-15-15 split)\n",
    "\n",
    "# Create stratified random train, val and test data sets\n",
    "\n",
    "CLAIMS = ['L2dummy_4_1', 'L2dummy_4_2', 'L2dummy_4_3456']\n",
    "\n",
    "df[\"CLAIMS\"] = df.loc[:,CLAIMS].values.tolist()\n",
    "\n",
    "# Reserve a testing data set of only the randomly sampled labelled data (First batch)\n",
    "train, test = train_test_split(df[df.batch == \"Batch 1: Random sample\"],\n",
    "                               test_size=0.364,\n",
    "                               random_state=12, \n",
    "                               stratify = df[df.batch == \"Batch 1: Random sample\"].CLAIMS, \n",
    "                               shuffle=True)\n",
    "\n",
    "# Merge the active learning batches with the remaining random sample training data\n",
    "train = pd.concat([train, df[df.batch != \"Batch 1: Random sample\"]])\n",
    "\n",
    "# Split the training data into training and validation sets\n",
    "train, val = train_test_split(train, \n",
    "                              test_size=0.176, \n",
    "                              random_state=12,\n",
    "                              stratify = train.CLAIMS, \n",
    "                              shuffle=True)\n",
    "\n",
    "# Print the number or paragraphs in each data set\n",
    "print(\"Training data set size: \", len(train))\n",
    "print(\"Validation data set size: \", len(val))\n",
    "print(\"Testing data set size: \", len(test))\n",
    "\n",
    "# Transform the labels into the correct form (drop 4.7 as no observations in data)\n",
    "train[\"labels\"] = train.loc[:,CLAIMS].values.astype(int).tolist()\n",
    "val[\"labels\"] = val.loc[:,CLAIMS].values.astype(int).tolist()\n",
    "test[\"labels\"] = test.loc[:,CLAIMS].values.astype(int).tolist()\n",
    "\n",
    "# Print the number of level 2 policy claims in each data set and the percentage of the total\n",
    "print(\"Training data level 2 policy claims:\\n\")\n",
    "for i in range(1, 3):\n",
    "    print(\"Claim 4_{} count: \".format(i), train[\"L2dummy_4_{}\".format(i)].value_counts()[1], \"({}%)\".format(round(train[\"L2dummy_4_{}\".format(i)].value_counts()[1] / len(train) * 100, 2)))\n",
    "print(\"Claim 4_3456 count:\", train[\"L2dummy_4_3456\"].value_counts()[1], \"({}%)\".format(round(train[\"L2dummy_4_3456\"].value_counts()[1] / len(train) * 100, 2)))\n",
    "print()\n",
    "print(\"Validation data level 2 policy claims:\")\n",
    "for i in range(1, 3):\n",
    "    print(\"Claim 4_{} count: \".format(i), val[\"L2dummy_4_{}\".format(i)].value_counts()[1], \"({}%)\".format(round(val[\"L2dummy_4_{}\".format(i)].value_counts()[1] / len(val) * 100, 2)))\n",
    "print(\"Claim 4_3456 count:\", val[\"L2dummy_4_3456\"].value_counts()[1], \"({}%)\".format(round(val[\"L2dummy_4_3456\"].value_counts()[1] / len(val) * 100, 2)))\n",
    "print()\n",
    "print(\"Testing data level 2 policy claims:\")\n",
    "for i in range(1, 3):\n",
    "    print(\"Claim 4_{} count: \".format(i), test[\"L2dummy_4_{}\".format(i)].value_counts()[1], \"({}%)\".format(round(test[\"L2dummy_4_{}\".format(i)].value_counts()[1] / len(test) * 100, 2)))\n",
    "print(\"Claim 4_3456 count:\", test[\"L2dummy_4_3456\"].value_counts()[1], \"({}%)\".format(round(test[\"L2dummy_4_3456\"].value_counts()[1] / len(test) * 100, 2)))\n",
    "\n",
    "\n",
    "# Note, there are no occurences of the new claim 4_7: No need for more action"
   ]
  },
  {
   "attachments": {},
   "cell_type": "markdown",
   "metadata": {},
   "source": [
    "# Train"
   ]
  },
  {
   "cell_type": "code",
   "execution_count": 17,
   "metadata": {},
   "outputs": [
    {
     "name": "stdout",
     "output_type": "stream",
     "text": [
      "Package                  Version     Latest    Type\n",
      "------------------------ ----------- --------- -----\n",
      "altair                   4.2.2       5.0.1     wheel\n",
      "anyio                    3.6.2       3.7.0     wheel\n",
      "attrs                    22.2.0      23.1.0    wheel\n",
      "backoff                  1.10.0      2.2.1     wheel\n",
      "beautifulsoup4           4.11.2      4.12.2    wheel\n",
      "blis                     0.7.9       0.9.1     sdist\n",
      "cachetools               5.3.0       5.3.1     wheel\n",
      "certifi                  2022.12.7   2023.5.7  wheel\n",
      "charset-normalizer       3.0.1       3.1.0     wheel\n",
      "comm                     0.1.2       0.1.3     wheel\n",
      "cryptography             39.0.0      41.0.1    wheel\n",
      "debugpy                  1.6.6       1.6.7     wheel\n",
      "fastjsonschema           2.16.2      2.17.1    wheel\n",
      "filelock                 3.9.0       3.12.0    wheel\n",
      "fonttools                4.38.0      4.39.4    wheel\n",
      "fsspec                   2023.4.0    2023.5.0  wheel\n",
      "geojson                  2.5.0       3.0.1     wheel\n",
      "google-auth              2.16.0      2.19.0    wheel\n",
      "googleapis-common-protos 1.58.0      1.59.0    wheel\n",
      "grpcio                   1.54.0      1.54.2    wheel\n",
      "huggingface-hub          0.12.0      0.15.1    wheel\n",
      "ipykernel                6.20.2      6.23.1    wheel\n",
      "ipython                  8.8.0       8.13.2    wheel\n",
      "jupyter_client           7.4.9       8.2.0     wheel\n",
      "jupyter_core             5.1.4       5.3.0     wheel\n",
      "jupyter_server           2.2.1       2.6.0     wheel\n",
      "labelbox                 3.36.1      3.47.1    wheel\n",
      "langchain                0.0.186     0.0.188   wheel\n",
      "matplotlib               3.6.3       3.7.1     wheel\n",
      "mypy-extensions          0.4.3       1.0.0     wheel\n",
      "nbclassic                0.5.1       1.0.0     wheel\n",
      "nbclient                 0.7.2       0.8.0     wheel\n",
      "nbconvert                7.2.9       7.4.0     wheel\n",
      "nbformat                 5.7.3       5.9.0     wheel\n",
      "notebook                 6.5.2       6.5.4     wheel\n",
      "notebook_shim            0.2.2       0.2.3     wheel\n",
      "numpy                    1.24.1      1.24.3    wheel\n",
      "openai                   0.27.6      0.27.7    wheel\n",
      "opencv-python            4.7.0.68    4.7.0.72  wheel\n",
      "packaging                23.0        23.1      wheel\n",
      "pandas                   1.5.3       2.0.2     wheel\n",
      "pathspec                 0.11.0      0.11.1    wheel\n",
      "Pillow                   9.4.0       9.5.0     wheel\n",
      "platformdirs             2.6.2       3.5.1     wheel\n",
      "prometheus-client        0.16.0      0.17.0    wheel\n",
      "prompt-toolkit           3.0.36      3.0.38    wheel\n",
      "protobuf                 3.20.3      4.23.2    wheel\n",
      "psutil                   5.9.4       5.9.5     wheel\n",
      "pyasn1                   0.4.8       0.5.0     wheel\n",
      "pyasn1-modules           0.2.8       0.3.0     wheel\n",
      "pycryptodome             3.16.0      3.18.0    wheel\n",
      "pydantic                 1.10.4      1.10.8    wheel\n",
      "Pygments                 2.14.0      2.15.1    wheel\n",
      "pyproj                   3.4.1       3.5.0     wheel\n",
      "python-json-logger       2.0.4       2.0.7     wheel\n",
      "pytz                     2022.7.1    2023.3    wheel\n",
      "pyzmq                    25.0.0      25.1.0    wheel\n",
      "regex                    2022.10.31  2023.5.5  wheel\n",
      "requests                 2.28.2      2.31.0    wheel\n",
      "responses                0.18.0      0.23.1    wheel\n",
      "rich                     13.3.5      13.4.1    wheel\n",
      "scikit-learn             1.2.1       1.2.2     wheel\n",
      "scipy                    1.10.0      1.10.1    wheel\n",
      "Send2Trash               1.8.0       1.8.2     wheel\n",
      "sentry-sdk               1.21.1      1.24.0    wheel\n",
      "setuptools               65.5.0      67.8.0    wheel\n",
      "sklearn                  0.0.post1   0.0.post5 sdist\n",
      "soupsieve                2.3.2.post1 2.4.1     wheel\n",
      "spacy                    3.5.0       3.5.3     wheel\n",
      "srsly                    2.4.5       2.4.6     wheel\n",
      "thinc                    8.1.7       8.1.10    wheel\n",
      "tokenizers               0.13.2      0.13.3    wheel\n",
      "tornado                  6.2         6.3.2     wheel\n",
      "tqdm                     4.64.1      4.65.0    wheel\n",
      "traitlets                5.8.1       5.9.0     wheel\n",
      "transformers             4.26.0      4.29.2    wheel\n",
      "typeguard                2.13.3      4.0.0     wheel\n",
      "typer                    0.7.0       0.9.0     wheel\n",
      "typing_extensions        4.4.0       4.6.2     wheel\n",
      "tzlocal                  4.3         5.0.1     wheel\n",
      "urllib3                  1.26.14     2.0.2     wheel\n",
      "wandb                    0.15.1      0.15.3    wheel\n",
      "webcolors                1.12        1.13      wheel\n",
      "websocket-client         1.5.1       1.5.2     wheel\n",
      "Werkzeug                 2.3.3       2.3.4     wheel\n"
     ]
    }
   ],
   "source": [
    "!pip list --outdated"
   ]
  },
  {
   "cell_type": "code",
   "execution_count": 11,
   "metadata": {
    "execution": {
     "iopub.execute_input": "2023-05-31T09:34:12.845305Z",
     "iopub.status.busy": "2023-05-31T09:34:12.844305Z",
     "iopub.status.idle": "2023-05-31T09:34:14.742496Z"
    }
   },
   "outputs": [],
   "source": [
    "from pytorch_lightning import seed_everything\n",
    "\n",
    "# WD .15 LR 2.5e-05 - 8\n",
    "\n",
    "MODEL_NAME = \"roberta-base\"\n",
    "TOKENIZER = AutoTokenizer.from_pretrained(MODEL_NAME)\n",
    "N_EPOCHS = 20\n",
    "# BATCH_SIZE = 16\n",
    "BATCH_SIZE = 4\n",
    "MAX_TOKEN_COUNT = 512\n",
    "LEARNING_RATE = 2.5e-5\n",
    "WEIGHT_DECAY = 0.15\n",
    "\n",
    "\n",
    "# Set up the data module\n",
    "CARDS_data_module = CARDS_ClassificationDataModule(\n",
    "    train_df = train,\n",
    "    val_df = val,\n",
    "    label_columns = CLAIMS,\n",
    "    tokenizer = TOKENIZER,\n",
    "    batch_size=BATCH_SIZE,\n",
    "    max_token_len=MAX_TOKEN_COUNT)\n",
    "\n",
    "CARDS_data_module.setup()\n",
    "\n",
    "# Define model configuration\n",
    "config = {\n",
    "    'model_name': MODEL_NAME,\n",
    "    'n_labels': len(CLAIMS),\n",
    "    # 'batch_size': 32,\n",
    "    'batch_size': 8,\n",
    "    'lr': LEARNING_RATE,\n",
    "    'warmup': 0.2, \n",
    "    'train_size': len(CARDS_data_module.train_dataloader()),\n",
    "    'weight_decay': WEIGHT_DECAY,\n",
    "    'n_epochs': N_EPOCHS\n",
    "}\n"
   ]
  },
  {
   "cell_type": "code",
   "execution_count": 12,
   "metadata": {
    "execution": {
     "iopub.execute_input": "2023-05-31T09:34:14.744334Z",
     "iopub.status.busy": "2023-05-31T09:34:14.743950Z",
     "iopub.status.idle": "2023-05-31T11:39:35.150746Z"
    }
   },
   "outputs": [
    {
     "name": "stderr",
     "output_type": "stream",
     "text": [
      "Global seed set to 8\n",
      "Some weights of the model checkpoint at roberta-base were not used when initializing RobertaModel: ['lm_head.layer_norm.bias', 'lm_head.dense.weight', 'lm_head.decoder.weight', 'lm_head.dense.bias', 'lm_head.bias', 'lm_head.layer_norm.weight']\n",
      "- This IS expected if you are initializing RobertaModel from the checkpoint of a model trained on another task or with another architecture (e.g. initializing a BertForSequenceClassification model from a BertForPreTraining model).\n",
      "- This IS NOT expected if you are initializing RobertaModel from the checkpoint of a model that you expect to be exactly identical (initializing a BertForSequenceClassification model from a BertForSequenceClassification model).\n",
      "GPU available: True (mps), used: True\n",
      "TPU available: False, using: 0 TPU cores\n",
      "IPU available: False, using: 0 IPUs\n",
      "HPU available: False, using: 0 HPUs\n",
      "\n",
      "  | Name             | Type              | Params\n",
      "-------------------------------------------------------\n",
      "0 | pretrained_model | RobertaModel      | 124 M \n",
      "1 | hidden           | Linear            | 590 K \n",
      "2 | classifier       | Linear            | 2.3 K \n",
      "3 | loss_func        | BCEWithLogitsLoss | 0     \n",
      "4 | dropout          | Dropout           | 0     \n",
      "-------------------------------------------------------\n",
      "125 M     Trainable params\n",
      "0         Non-trainable params\n",
      "125 M     Total params\n",
      "500.954   Total estimated model params size (MB)\n"
     ]
    },
    {
     "name": "stdout",
     "output_type": "stream",
     "text": [
      "Sanity Checking: 0it [00:00, ?it/s]"
     ]
    },
    {
     "name": "stderr",
     "output_type": "stream",
     "text": [
      "Traceback (most recent call last):\n",
      "  File \"<string>\", line 1, in <module>\n",
      "  File \"/Library/Frameworks/Python.framework/Versions/3.11/lib/python3.11/multiprocessing/spawn.py\", line 120, in spawn_main\n",
      "    exitcode = _main(fd, parent_sentinel)\n",
      "               ^^^^^^^^^^^^^^^^^^^^^^^^^^\n",
      "  File \"/Library/Frameworks/Python.framework/Versions/3.11/lib/python3.11/multiprocessing/spawn.py\", line 130, in _main\n",
      "    self = reduction.pickle.load(from_parent)\n",
      "           ^^^^^^^^^^^^^^^^^^^^^^^^^^^^^^^^^^\n",
      "AttributeError: Can't get attribute 'CARDS_ClassificationDataSet' on <module '__main__' (built-in)>\n"
     ]
    }
   ],
   "source": [
    "for i in range(8,9):\n",
    "    SEED = i\n",
    "    seed_everything(SEED, workers=True)\n",
    "    \n",
    "    # Logging results and saving checkpoints\n",
    "\n",
    "    # Set up model save locations\n",
    "\n",
    "    model_identifier = \"cat-70_15_15-L2claims4-3cat-wd_\" + str(WEIGHT_DECAY).replace(\".\", \"_\") + \"_\" + MODEL_NAME +  \"-\" + str(LEARNING_RATE) +  \"-seed\" + str(SEED)\n",
    "    path_to_save = \"../Models/\"\n",
    "\n",
    "    from pytorch_lightning.loggers import TensorBoardLogger\n",
    "    logger = TensorBoardLogger(save_dir=\"../Models/\", version=model_identifier)\n",
    "\n",
    "\n",
    "    from pytorch_lightning.callbacks import ModelCheckpoint\n",
    "    checkpoint_callback = ModelCheckpoint(\n",
    "             # monitor='validation loss',\n",
    "             dirpath=path_to_save + model_identifier,\n",
    "             # filename='{epoch:02d}-{validation loss:.2f}',\n",
    "             filename='{epoch:02d}',\n",
    "             verbose=False,\n",
    "             save_top_k = 1\n",
    "         )\n",
    "    \n",
    "    # Set up the model\n",
    "    model = CARDS_Classifier(config)\n",
    "\n",
    "    # Define the trainer\n",
    "    trainer = pl.Trainer(max_epochs=config['n_epochs'], \n",
    "                         num_sanity_val_steps=50,\n",
    "                         check_val_every_n_epoch=1,\n",
    "                         # val_check_interval=0.25,\n",
    "                         logger = logger,\n",
    "                         callbacks=[checkpoint_callback])\n",
    "\n",
    "    # Train the trainer\n",
    "    trainer.fit(model, CARDS_data_module)"
   ]
  },
  {
   "cell_type": "code",
   "execution_count": null,
   "metadata": {
    "execution": {
     "iopub.execute_input": "2023-05-31T11:39:35.159899Z",
     "iopub.status.busy": "2023-05-31T11:39:35.159066Z",
     "iopub.status.idle": "2023-05-31T11:39:36.407735Z"
    }
   },
   "outputs": [
    {
     "name": "stdout",
     "output_type": "stream",
     "text": [
      "cat-70_15_15-L2claims4-3cat-wd_0_15_roberta-large-2.5e-05-seed8\n"
     ]
    }
   ],
   "source": [
    "!ls /storage/classifiers/"
   ]
  },
  {
   "attachments": {},
   "cell_type": "markdown",
   "metadata": {},
   "source": [
    "# Predict and evaluate"
   ]
  },
  {
   "cell_type": "code",
   "execution_count": null,
   "metadata": {
    "execution": {
     "iopub.execute_input": "2023-05-31T11:39:36.415901Z",
     "iopub.status.busy": "2023-05-31T11:39:36.415454Z",
     "iopub.status.idle": "2023-05-31T11:39:45.594819Z"
    }
   },
   "outputs": [
    {
     "name": "stderr",
     "output_type": "stream",
     "text": [
      "Some weights of the model checkpoint at roberta-large were not used when initializing RobertaModel: ['lm_head.dense.weight', 'lm_head.layer_norm.weight', 'lm_head.dense.bias', 'lm_head.bias', 'lm_head.decoder.weight', 'lm_head.layer_norm.bias']\n",
      "- This IS expected if you are initializing RobertaModel from the checkpoint of a model trained on another task or with another architecture (e.g. initializing a BertForSequenceClassification model from a BertForPreTraining model).\n",
      "- This IS NOT expected if you are initializing RobertaModel from the checkpoint of a model that you expect to be exactly identical (initializing a BertForSequenceClassification model from a BertForSequenceClassification model).\n",
      "GPU available: True (cuda), used: True\n",
      "TPU available: False, using: 0 TPU cores\n",
      "IPU available: False, using: 0 IPUs\n",
      "HPU available: False, using: 0 HPUs\n"
     ]
    }
   ],
   "source": [
    "from sklearn.metrics import average_precision_score\n",
    "from sklearn import metrics\n",
    "import matplotlib.pyplot as plt\n",
    "\n",
    "# Set up\n",
    "\n",
    "# Set up the model\n",
    "model = CARDS_Classifier(config)\n",
    "\n",
    "from pytorch_lightning.loggers import TensorBoardLogger\n",
    "logger = TensorBoardLogger(save_dir='/storage')\n",
    "\n",
    "\n",
    "from pytorch_lightning.callbacks import ModelCheckpoint\n",
    "checkpoint_callback = ModelCheckpoint(\n",
    "         filename='{epoch:02d}',\n",
    "         verbose=False,\n",
    "         save_top_k = 1\n",
    "     )\n",
    "\n",
    "# Define the trainer\n",
    "trainer = pl.Trainer(max_epochs=config['n_epochs'], \n",
    "                     num_sanity_val_steps=50,\n",
    "                     check_val_every_n_epoch=1,\n",
    "                     # val_check_interval=0.25,\n",
    "                     logger = logger,\n",
    "                     callbacks=[checkpoint_callback])\n",
    "\n",
    "# Set up the testing data data module\n",
    "CARDS_data_module_test = CARDS_ClassificationDataModule(\n",
    "    train_df = train,\n",
    "    val_df = test,\n",
    "    label_columns = CLAIMS,\n",
    "    tokenizer = TOKENIZER,\n",
    "    batch_size=BATCH_SIZE,\n",
    "    max_token_len=MAX_TOKEN_COUNT\n",
    ")\n",
    "\n",
    "CARDS_data_module_test.setup()"
   ]
  },
  {
   "cell_type": "code",
   "execution_count": null,
   "metadata": {
    "execution": {
     "iopub.execute_input": "2023-05-31T11:39:45.601204Z",
     "iopub.status.busy": "2023-05-31T11:39:45.600956Z",
     "iopub.status.idle": "2023-05-31T11:39:45.608540Z"
    }
   },
   "outputs": [],
   "source": [
    "# method to convert list of comments into predictions for each paragraph\n",
    "def classify_raw_paragraphs(model, dm):\n",
    "  predictions = trainer.predict(model, datamodule=dm)\n",
    "  flattened_predictions = np.stack([torch.sigmoid(torch.Tensor(p)) for batch in predictions for p in batch])\n",
    "  return flattened_predictions"
   ]
  },
  {
   "cell_type": "code",
   "execution_count": null,
   "metadata": {
    "execution": {
     "iopub.execute_input": "2023-05-31T11:39:45.615617Z",
     "iopub.status.busy": "2023-05-31T11:39:45.615219Z",
     "iopub.status.idle": "2023-05-31T11:40:59.242545Z"
    }
   },
   "outputs": [
    {
     "name": "stdout",
     "output_type": "stream",
     "text": [
      "/storage/classifiers/cat-70_15_15-L2claims4-3cat-wd_0_15_roberta-large-2.5e-05-seed8/epoch=19.ckpt\n",
      "------------------ \n",
      "\n"
     ]
    },
    {
     "name": "stderr",
     "output_type": "stream",
     "text": [
      "Some weights of the model checkpoint at roberta-large were not used when initializing RobertaModel: ['lm_head.dense.weight', 'lm_head.layer_norm.weight', 'lm_head.dense.bias', 'lm_head.bias', 'lm_head.decoder.weight', 'lm_head.layer_norm.bias']\n",
      "- This IS expected if you are initializing RobertaModel from the checkpoint of a model trained on another task or with another architecture (e.g. initializing a BertForSequenceClassification model from a BertForPreTraining model).\n",
      "- This IS NOT expected if you are initializing RobertaModel from the checkpoint of a model that you expect to be exactly identical (initializing a BertForSequenceClassification model from a BertForSequenceClassification model).\n",
      "LOCAL_RANK: 0 - CUDA_VISIBLE_DEVICES: [0]\n"
     ]
    },
    {
     "data": {
      "application/vnd.jupyter.widget-view+json": {
       "model_id": "d23bb830bf90455b9df86f2da880da5f",
       "version_major": 2,
       "version_minor": 0
      },
      "text/plain": [
       "Predicting: 0it [00:00, ?it/s]"
      ]
     },
     "metadata": {},
     "output_type": "display_data"
    },
    {
     "name": "stderr",
     "output_type": "stream",
     "text": [
      "/usr/local/lib/python3.9/dist-packages/sklearn/metrics/_classification.py:1334: UndefinedMetricWarning: Precision and F-score are ill-defined and being set to 0.0 in samples with no predicted labels. Use `zero_division` parameter to control this behavior.\n",
      "  _warn_prf(average, modifier, msg_start, len(result))\n",
      "/usr/local/lib/python3.9/dist-packages/sklearn/metrics/_classification.py:1334: UndefinedMetricWarning: Recall and F-score are ill-defined and being set to 0.0 in samples with no true labels. Use `zero_division` parameter to control this behavior.\n",
      "  _warn_prf(average, modifier, msg_start, len(result))\n"
     ]
    },
    {
     "name": "stdout",
     "output_type": "stream",
     "text": [
      "                precision    recall  f1-score   support\n",
      "\n",
      "   L2dummy_4_1       0.73      0.78      0.76        60\n",
      "   L2dummy_4_2       0.71      0.74      0.73        27\n",
      "L2dummy_4_3456       0.58      0.61      0.59        36\n",
      "\n",
      "     micro avg       0.68      0.72      0.70       123\n",
      "     macro avg       0.68      0.71      0.69       123\n",
      "  weighted avg       0.68      0.72      0.70       123\n",
      "   samples avg       0.29      0.29      0.28       123\n",
      "\n",
      "\n",
      "Overall performance\n",
      "-------------------\n",
      "              precision    recall  f1-score   support\n",
      "\n",
      "           0       0.89      0.85      0.87       153\n",
      "           1       0.79      0.84      0.81       100\n",
      "\n",
      "    accuracy                           0.85       253\n",
      "   macro avg       0.84      0.84      0.84       253\n",
      "weighted avg       0.85      0.85      0.85       253\n",
      "\n"
     ]
    },
    {
     "name": "stderr",
     "output_type": "stream",
     "text": [
      "LOCAL_RANK: 0 - CUDA_VISIBLE_DEVICES: [0]\n",
      "Traceback (most recent call last):\n",
      "  File \"/usr/lib/python3.9/multiprocessing/util.py\", line 300, in _run_finalizers\n",
      "    finalizer()\n",
      "  File \"/usr/lib/python3.9/multiprocessing/util.py\", line 224, in __call__\n",
      "    res = self._callback(*self._args, **self._kwargs)\n",
      "  File \"/usr/lib/python3.9/multiprocessing/util.py\", line 133, in _remove_temp_dir\n",
      "    rmtree(tempdir)\n",
      "  File \"/usr/lib/python3.9/shutil.py\", line 740, in rmtree\n",
      "    onerror(os.rmdir, path, sys.exc_info())\n",
      "  File \"/usr/lib/python3.9/shutil.py\", line 738, in rmtree\n",
      "    os.rmdir(path)\n",
      "OSError: [Errno 39] Directory not empty: '/tmp/pymp-g2vi6vwe'\n"
     ]
    },
    {
     "data": {
      "application/vnd.jupyter.widget-view+json": {
       "model_id": "4008bcad51b74f1f889219d9aa95ca07",
       "version_major": 2,
       "version_minor": 0
      },
      "text/plain": [
       "Predicting: 0it [00:00, ?it/s]"
      ]
     },
     "metadata": {},
     "output_type": "display_data"
    },
    {
     "name": "stderr",
     "output_type": "stream",
     "text": [
      "/usr/local/lib/python3.9/dist-packages/sklearn/metrics/_classification.py:1334: UndefinedMetricWarning: Precision and F-score are ill-defined and being set to 0.0 in samples with no predicted labels. Use `zero_division` parameter to control this behavior.\n",
      "  _warn_prf(average, modifier, msg_start, len(result))\n",
      "/usr/local/lib/python3.9/dist-packages/sklearn/metrics/_classification.py:1334: UndefinedMetricWarning: Recall and F-score are ill-defined and being set to 0.0 in samples with no true labels. Use `zero_division` parameter to control this behavior.\n",
      "  _warn_prf(average, modifier, msg_start, len(result))\n"
     ]
    },
    {
     "name": "stdout",
     "output_type": "stream",
     "text": [
      "                precision    recall  f1-score   support\n",
      "\n",
      "   L2dummy_4_1       0.64      0.79      0.71        38\n",
      "   L2dummy_4_2       0.53      0.47      0.50        17\n",
      "L2dummy_4_3456       0.47      0.66      0.55        35\n",
      "\n",
      "     micro avg       0.55      0.68      0.61        90\n",
      "     macro avg       0.55      0.64      0.58        90\n",
      "  weighted avg       0.55      0.68      0.61        90\n",
      "   samples avg       0.20      0.20      0.20        90\n",
      "\n",
      "\n",
      "Overall performance\n",
      "-------------------\n",
      "              precision    recall  f1-score   support\n",
      "\n",
      "           0       0.92      0.84      0.88       178\n",
      "           1       0.68      0.83      0.75        75\n",
      "\n",
      "    accuracy                           0.83       253\n",
      "   macro avg       0.80      0.83      0.81       253\n",
      "weighted avg       0.85      0.83      0.84       253\n",
      "\n",
      "------------------ \n",
      "\n",
      "\n"
     ]
    },
    {
     "data": {
      "image/png": "[encoded data removed]",
      "text/plain": [
       "<Figure size 1200x500 with 1 Axes>"
      ]
     },
     "metadata": {},
     "output_type": "display_data"
    }
   ],
   "source": [
    "# Results\n",
    "\n",
    "for i in range(8,9):\n",
    "    model_path =  \"/storage/classifiers/cat-70_15_15-L2claims4-3cat-wd_\" + str(WEIGHT_DECAY).replace(\".\", \"_\") + \"_\" + MODEL_NAME +  \"-\" + str(LEARNING_RATE) +  \"-seed\" + str(i) + \"/epoch=19.ckpt\"\n",
    "    print(model_path)\n",
    "    print(\"------------------\", \"\\n\")\n",
    "    model = CARDS_Classifier.load_from_checkpoint(model_path)\n",
    "    \n",
    "    # VAL DATA\n",
    "\n",
    "    predictions = classify_raw_paragraphs(model, CARDS_data_module)\n",
    "    true_labels = np.array(val[CLAIMS])\n",
    "    \n",
    "    # Precision  - Recall\n",
    "    plt.figure(figsize=(12, 5))\n",
    "    no_skill_auc_scores = list()\n",
    "    precision_recall_data = pd.DataFrame(columns = ['claim', 'precision', 'recall', 'threshold'])\n",
    "    for i, claim in enumerate(CLAIMS):\n",
    "        precision, recall, thresholds = metrics.precision_recall_curve(\n",
    "            true_labels[:,i].astype(int), predictions[:, i])\n",
    "        auc_score = metrics.auc(recall, precision)\n",
    "        no_skill_auc_scores.append(len(true_labels[:,i][true_labels[:,i]==1]) / len(true_labels[:,i]))\n",
    "        temp_data = pd.DataFrame(zip([claim] * len(thresholds), precision, recall, thresholds), columns = ['claim', 'precision', 'recall', 'threshold'])\n",
    "        precision_recall_data = pd.concat([precision_recall_data, temp_data])\n",
    "        plt.plot(recall, precision, label='%s %g' % (claim, auc_score))\n",
    "        plt.xlabel('Recall')\n",
    "        plt.ylabel('Precision')\n",
    "        plt.legend(loc='lower right')\n",
    "        plt.title('RoBERTa Trained on CARDS 4 claims (POLICY) - Precision-Recall')\n",
    "    \n",
    "    # Add the F1 score\n",
    "    precision_recall_data[\"F1score\"] = precision_recall_data.apply(lambda x: (2 * x.precision * x.recall) / (x.precision + x.recall + .00000001), axis = 1)\n",
    "    # Find the threshold of the highest recall value with at least 65% precision (except for 4.6, which only achieves .66 precision)\n",
    "    threshold_frame = pd.concat([precision_recall_data.loc[(precision_recall_data.claim == \"L2dummy_4_1\") &\n",
    "                                                           (precision_recall_data.precision>.1)].sort_values(\"F1score\", ascending = False).head(1),\n",
    "                                 precision_recall_data.loc[(precision_recall_data.claim == \"L2dummy_4_2\") &\n",
    "                                                           (precision_recall_data.precision>.1)].sort_values(\"F1score\", ascending = False).head(1),\n",
    "                                 precision_recall_data.loc[(precision_recall_data.claim == \"L2dummy_4_3456\") &\n",
    "                                                           (precision_recall_data.precision>.1)].sort_values(\"F1score\", ascending = False).head(1)]).reset_index(drop = True)\n",
    "    # Create predicted labels based on optimal cut-off thresholds using Recall & Precision scores instead. \n",
    "    predicted_labels = list()\n",
    "    for idx, claim in enumerate(CLAIMS):\n",
    "        predicted_labels.append([1 if i >= threshold_frame.threshold[idx] else 0 for i in predictions[:, idx]])\n",
    "    predicted_labels = list(zip(*predicted_labels))\n",
    "    \n",
    "    # Evaluate the classifier performance\n",
    "    # Print the classification report\n",
    "    print(classification_report(true_labels, predicted_labels, target_names=CLAIMS))\n",
    "    \n",
    "    # Check overall performance\n",
    "    true_label_4 = [1 if sum(i)>0 else 0 for i in true_labels]\n",
    "    predicted_label_4 = [1 if sum(i)>0 else 0 for i in predicted_labels]\n",
    "    # Print the classification report\n",
    "    print()\n",
    "    print(\"Overall performance\\n-------------------\")\n",
    "    print(classification_report(true_label_4, predicted_label_4))\n",
    "    \n",
    "    \n",
    "    # TEST DATA\n",
    "    predictions_test = classify_raw_paragraphs(model, CARDS_data_module_test)\n",
    "    true_labels_test = np.array(test[CLAIMS])\n",
    "    \n",
    "    # Create predicted labels based on optimal cut-off thresholds using Recall & Precision scores instead. \n",
    "    predicted_labels_test = list()\n",
    "    for idx, claim in enumerate(CLAIMS):\n",
    "        predicted_labels_test.append([1 if i >= threshold_frame.threshold[idx] else 0 for i in predictions_test[:, idx]])\n",
    "    predicted_labels_test = list(zip(*predicted_labels_test))\n",
    "    \n",
    "    # Evaluate the classifier performance\n",
    "    # Print the classification report\n",
    "    print(classification_report(true_labels_test, predicted_labels_test, target_names=CLAIMS))\n",
    "    \n",
    "    # Check overall performance\n",
    "    true_label_4_test = [1 if sum(i)>0 else 0 for i in true_labels_test]\n",
    "    predicted_label_4_test = [1 if sum(i)>0 else 0 for i in predicted_labels_test]\n",
    "    # Print the classification report\n",
    "    print()\n",
    "    print(\"Overall performance\\n-------------------\")\n",
    "    print(classification_report(true_label_4_test, predicted_label_4_test))\n",
    "    \n",
    "    print(\"------------------\", \"\\n\\n\")"
   ]
  },
  {
   "cell_type": "code",
   "execution_count": null,
   "metadata": {
    "execution": {
     "iopub.execute_input": "2023-05-31T11:40:59.249572Z",
     "iopub.status.busy": "2023-05-31T11:40:59.249186Z",
     "iopub.status.idle": "2023-05-31T11:41:00.469928Z"
    }
   },
   "outputs": [
    {
     "name": "stdout",
     "output_type": "stream",
     "text": [
      "cat-70_15_15-L2claims4-3cat-wd_0_15_roberta-large-2.5e-05-seed8\n"
     ]
    }
   ],
   "source": [
    "!ls /storage/classifiers/"
   ]
  },
  {
   "cell_type": "code",
   "execution_count": null,
   "metadata": {
    "execution": {
     "iopub.execute_input": "2023-05-31T11:41:00.474407Z",
     "iopub.status.busy": "2023-05-31T11:41:00.474247Z",
     "iopub.status.idle": "2023-05-31T11:41:00.480159Z"
    }
   },
   "outputs": [],
   "source": [
    "# # Code for download model to local storage\n",
    "# !tar -czvf cat-70_15_15-L2claims4-3cat-wd_0_05-roberta-base-2e-05_seed8-12.tar.gz /storage/classifiers/cat-70_15_15-L2claims4-3cat-wd_0_05_roberta-base-2e-05-seed8 /storage/classifiers/cat-70_15_15-L2claims4-3cat-wd_0_05_roberta-base-2e-05-seed9 /storage/classifiers/cat-70_15_15-L2claims4-3cat-wd_0_05_roberta-base-2e-05-seed10 /storage/classifiers/cat-70_15_15-L2claims4-3cat-wd_0_05_roberta-base-2e-05-seed11 /storage/classifiers/cat-70_15_15-L2claims4-3cat-wd_0_05_roberta-base-2e-05-seed12\n"
   ]
  },
  {
   "cell_type": "code",
   "execution_count": null,
   "metadata": {
    "execution": {
     "iopub.execute_input": "2023-05-31T11:41:00.485078Z",
     "iopub.status.busy": "2023-05-31T11:41:00.484807Z",
     "iopub.status.idle": "2023-05-31T11:41:00.489711Z"
    }
   },
   "outputs": [],
   "source": [
    "# !rm -r /storage/classifiers"
   ]
  },
  {
   "cell_type": "code",
   "execution_count": null,
   "metadata": {},
   "outputs": [],
   "source": []
  }
 ],
 "metadata": {
  "kernelspec": {
   "display_name": "Python 3 (ipykernel)",
   "language": "python",
   "name": "python3"
  },
  "language_info": {
   "codemirror_mode": {
    "name": "ipython",
    "version": 3
   },
   "file_extension": ".py",
   "mimetype": "text/x-python",
   "name": "python",
   "nbconvert_exporter": "python",
   "pygments_lexer": "ipython3",
   "version": "3.11.1"
  },
  "vscode": {
   "interpreter": {
    "hash": "b96e02473e1a50f4b07215bd0878944b5ead58de3c3d4ecfe5c8cb3b994c21a1"
   }
  }
 },
 "nbformat": 4,
 "nbformat_minor": 4
}
