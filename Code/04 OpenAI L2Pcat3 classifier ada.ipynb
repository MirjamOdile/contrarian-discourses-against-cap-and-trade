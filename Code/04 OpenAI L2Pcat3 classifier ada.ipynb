{
 "cells": [
  {
   "attachments": {},
   "cell_type": "markdown",
   "metadata": {},
   "source": [
    "# Fine tuning classification: policy claims (IV) using ada\n",
    "\n",
    "We will fine-tune an ada classifier to train six classifiers for each level 2 policy claim 4.1 to 4.6"
   ]
  },
  {
   "cell_type": "code",
   "execution_count": 1,
   "metadata": {},
   "outputs": [],
   "source": [
    "import pandas as pd\n",
    "import numpy as np\n",
    "import re\n",
    "\n",
    "import openai\n",
    "import os\n",
    "\n",
    "from sklearn.metrics import classification_report\n",
    "\n",
    "# Set openai API key\n",
    "openai.api_key = os.getenv(\"OPENAI_API_KEY\")"
   ]
  },
  {
   "cell_type": "code",
   "execution_count": 2,
   "metadata": {},
   "outputs": [
    {
     "data": {
      "text/plain": [
       "'/Users/mn/Library/CloudStorage/OneDrive-UniversityofExeter/Projects/GitHub/contrarian-discourses-against-cap-and-trade/Code'"
      ]
     },
     "execution_count": 2,
     "metadata": {},
     "output_type": "execute_result"
    }
   ],
   "source": [
    "os.getcwd()"
   ]
  },
  {
   "cell_type": "code",
   "execution_count": 3,
   "metadata": {},
   "outputs": [],
   "source": [
    "val = pd.read_json('../Classifiers/Data/cat_hearings_03_10_val.json')\n",
    "test = pd.read_json('../Classifiers/Data/cat_hearings_03_10_test.json')"
   ]
  },
  {
   "attachments": {},
   "cell_type": "markdown",
   "metadata": {},
   "source": [
    "## Fine-tuning"
   ]
  },
  {
   "attachments": {},
   "cell_type": "markdown",
   "metadata": {},
   "source": [
    "### 4.1 Climate policies are harmful"
   ]
  },
  {
   "cell_type": "code",
   "execution_count": 2,
   "metadata": {},
   "outputs": [
    {
     "name": "stdout",
     "output_type": "stream",
     "text": [
      "Upload progress: 100%|███████████████████████| 521k/521k [00:00<00:00, 586Mit/s]\n",
      "Uploaded file from ../Classifiers/Data/train_4_1_prepared.jsonl: file-P2sYm1xLw1Dg5RHjjBxqGBfW\n",
      "Upload progress: 100%|███████████████████████| 113k/113k [00:00<00:00, 169Mit/s]\n",
      "Uploaded file from ../Classifiers/Data/val_4_1_prepared.jsonl: file-l5YxjDPcyBhZeYgi3cZLocdW\n",
      "Created fine-tune: ft-A26hPLBHX9Al8IpTKObcMc3D\n",
      "Streaming events until fine-tuning is complete...\n",
      "\n",
      "(Ctrl-C will interrupt the stream, but not cancel the fine-tune)\n",
      "[2023-05-24 15:39:56] Created fine-tune: ft-A26hPLBHX9Al8IpTKObcMc3D\n",
      "\n",
      "Stream interrupted (client disconnected).\n",
      "To resume the stream, run:\n",
      "\n",
      "  openai api fine_tunes.follow -i ft-A26hPLBHX9Al8IpTKObcMc3D\n",
      "\n"
     ]
    }
   ],
   "source": [
    "!openai api fine_tunes.create -t ../Classifiers/Data/train_4_1_prepared.jsonl -v ../Classifiers/Data/val_4_1_prepared.jsonl --compute_classification_metrics --classification_positive_class \" 1.0\" -m ada"
   ]
  },
  {
   "attachments": {},
   "cell_type": "markdown",
   "metadata": {},
   "source": [
    "### 4.2 Climate policies are ineffective / flawed"
   ]
  },
  {
   "cell_type": "code",
   "execution_count": 3,
   "metadata": {},
   "outputs": [
    {
     "name": "stdout",
     "output_type": "stream",
     "text": [
      "Upload progress: 100%|███████████████████████| 521k/521k [00:00<00:00, 648Mit/s]\n",
      "Uploaded file from ../Classifiers/Data/train_4_2_prepared.jsonl: file-w0aH7HbBGqlWSbrrrz78OS3l\n",
      "Upload progress: 100%|███████████████████████| 113k/113k [00:00<00:00, 109Mit/s]\n",
      "Uploaded file from ../Classifiers/Data/val_4_2_prepared.jsonl: file-NZBpxlVRHQirl97obVnaBDxP\n",
      "Created fine-tune: ft-wR8SVFG4SzpAWWq9rH1hwjEq\n",
      "Streaming events until fine-tuning is complete...\n",
      "\n",
      "(Ctrl-C will interrupt the stream, but not cancel the fine-tune)\n",
      "[2023-05-24 15:41:02] Created fine-tune: ft-wR8SVFG4SzpAWWq9rH1hwjEq\n",
      "\n",
      "Stream interrupted (client disconnected).\n",
      "To resume the stream, run:\n",
      "\n",
      "  openai api fine_tunes.follow -i ft-wR8SVFG4SzpAWWq9rH1hwjEq\n",
      "\n"
     ]
    }
   ],
   "source": [
    "!openai api fine_tunes.create -t ../Classifiers/Data/train_4_2_prepared.jsonl -v ../Classifiers/Data/val_4_2_prepared.jsonl --compute_classification_metrics --classification_positive_class \" 1.0\" -m ada"
   ]
  },
  {
   "attachments": {},
   "cell_type": "markdown",
   "metadata": {},
   "source": [
    "### 4.3-4.6 Other reasons against policy "
   ]
  },
  {
   "cell_type": "code",
   "execution_count": 102,
   "metadata": {},
   "outputs": [
    {
     "name": "stdout",
     "output_type": "stream",
     "text": [
      "Found potentially duplicated files with name 'train_4_3456_prepared.jsonl', purpose 'fine-tune' and size 521374 bytes\n",
      "file-AgK5Vel0pxSFIEPhGoVel3bO\n",
      "Enter file ID to reuse an already uploaded file, or an empty string to upload this file anyway: ^C\n",
      "\n"
     ]
    }
   ],
   "source": [
    "!openai api fine_tunes.create -t ../Classifiers/Data/train_4_3456_prepared.jsonl -v ../Classifiers/Data/val_4_3456_prepared.jsonl --compute_classification_metrics --classification_positive_class \" 1.0\" -m ada"
   ]
  },
  {
   "attachments": {},
   "cell_type": "markdown",
   "metadata": {},
   "source": [
    "#### Train another classifier with only three epochs (the recall dropped drastically after the third epoch in the previous classifier)"
   ]
  },
  {
   "cell_type": "code",
   "execution_count": 104,
   "metadata": {},
   "outputs": [
    {
     "name": "stdout",
     "output_type": "stream",
     "text": [
      "Created fine-tune: ft-MebtMOxmZNsZo4p7jB2Lteqt\n",
      "Streaming events until fine-tuning is complete...\n",
      "\n",
      "(Ctrl-C will interrupt the stream, but not cancel the fine-tune)\n",
      "[2023-06-01 15:15:01] Created fine-tune: ft-MebtMOxmZNsZo4p7jB2Lteqt\n",
      "\n",
      "Stream interrupted (client disconnected).\n",
      "To resume the stream, run:\n",
      "\n",
      "  openai api fine_tunes.follow -i ft-MebtMOxmZNsZo4p7jB2Lteqt\n",
      "\n"
     ]
    }
   ],
   "source": [
    "!openai api fine_tunes.create \\\n",
    "    -t file-AgK5Vel0pxSFIEPhGoVel3bO \\\n",
    "        -v file-XI8WrVy6fVKhLSY1PUVxSItU \\\n",
    "            --compute_classification_metrics --classification_positive_class \" 1.0\" \\\n",
    "                -m ada --n_epochs=3"
   ]
  },
  {
   "attachments": {},
   "cell_type": "markdown",
   "metadata": {},
   "source": [
    "#### Add one more epoch"
   ]
  },
  {
   "cell_type": "code",
   "execution_count": 47,
   "metadata": {},
   "outputs": [
    {
     "name": "stdout",
     "output_type": "stream",
     "text": [
      "Created fine-tune: ft-HTOvzGiUgO64H9mO4XeY9US4\n",
      "Streaming events until fine-tuning is complete...\n",
      "\n",
      "(Ctrl-C will interrupt the stream, but not cancel the fine-tune)\n",
      "[2023-06-01 15:33:43] Created fine-tune: ft-HTOvzGiUgO64H9mO4XeY9US4\n",
      "\n",
      "Stream interrupted (client disconnected).\n",
      "To resume the stream, run:\n",
      "\n",
      "  openai api fine_tunes.follow -i ft-HTOvzGiUgO64H9mO4XeY9US4\n",
      "\n"
     ]
    }
   ],
   "source": [
    "!openai api fine_tunes.create \\\n",
    "    -t file-AgK5Vel0pxSFIEPhGoVel3bO \\\n",
    "        -v file-XI8WrVy6fVKhLSY1PUVxSItU \\\n",
    "            --compute_classification_metrics --classification_positive_class \" 1.0\" \\\n",
    "                -m ada:ft-university-of-exeter-2023-06-01-14-30-56 --n_epochs=1"
   ]
  },
  {
   "attachments": {},
   "cell_type": "markdown",
   "metadata": {},
   "source": [
    "## Results"
   ]
  },
  {
   "attachments": {},
   "cell_type": "markdown",
   "metadata": {},
   "source": [
    "### 4.1 Climate policies are harmful"
   ]
  },
  {
   "cell_type": "code",
   "execution_count": 4,
   "metadata": {},
   "outputs": [
    {
     "name": "stdout",
     "output_type": "stream",
     "text": [
      "[2023-05-24 15:39:56] Created fine-tune: ft-A26hPLBHX9Al8IpTKObcMc3D\n",
      "[2023-05-24 15:42:52] Fine-tune costs $0.16\n",
      "[2023-05-24 15:42:52] Fine-tune enqueued. Queue number: 2\n",
      "[2023-05-24 15:43:14] Fine-tune is in the queue. Queue number: 1\n",
      "[2023-05-24 15:43:58] Fine-tune is in the queue. Queue number: 0\n",
      "[2023-05-24 15:43:59] Fine-tune started\n",
      "[2023-05-24 15:48:02] Completed epoch 1/4\n",
      "[2023-05-24 15:51:58] Completed epoch 2/4\n",
      "[2023-05-24 15:55:52] Completed epoch 3/4\n",
      "[2023-05-24 15:59:43] Completed epoch 4/4\n",
      "[2023-05-24 16:00:11] Uploaded model: ada:ft-university-of-exeter-2023-05-24-15-00-10\n",
      "[2023-05-24 16:00:12] Uploaded result file: file-Jqsst7LgXsR2DyOhms7eKLay\n",
      "[2023-05-24 16:00:12] Fine-tune succeeded\n",
      "\n",
      "Job complete! Status: succeeded 🎉\n",
      "Try out your fine-tuned model:\n",
      "\n",
      "openai api completions.create -m ada:ft-university-of-exeter-2023-05-24-15-00-10 -p <YOUR_PROMPT>\n"
     ]
    }
   ],
   "source": [
    "!openai api fine_tunes.follow -i ft-A26hPLBHX9Al8IpTKObcMc3D\n",
    "!openai api fine_tunes.results -i ft-A26hPLBHX9Al8IpTKObcMc3D > ../Classifiers/Results/result_4_1_ada_1.csv"
   ]
  },
  {
   "cell_type": "code",
   "execution_count": 5,
   "metadata": {},
   "outputs": [
    {
     "data": {
      "text/html": [
       "<div>\n",
       "<style scoped>\n",
       "    .dataframe tbody tr th:only-of-type {\n",
       "        vertical-align: middle;\n",
       "    }\n",
       "\n",
       "    .dataframe tbody tr th {\n",
       "        vertical-align: top;\n",
       "    }\n",
       "\n",
       "    .dataframe thead th {\n",
       "        text-align: right;\n",
       "    }\n",
       "</style>\n",
       "<table border=\"1\" class=\"dataframe\">\n",
       "  <thead>\n",
       "    <tr style=\"text-align: right;\">\n",
       "      <th></th>\n",
       "      <th>LLM</th>\n",
       "      <th>claim</th>\n",
       "      <th>classification/accuracy</th>\n",
       "      <th>classification/precision</th>\n",
       "      <th>classification/recall</th>\n",
       "      <th>classification/auroc</th>\n",
       "      <th>classification/auprc</th>\n",
       "      <th>classification/f1.0</th>\n",
       "    </tr>\n",
       "  </thead>\n",
       "  <tbody>\n",
       "    <tr>\n",
       "      <th>2362</th>\n",
       "      <td>ada</td>\n",
       "      <td>4_1</td>\n",
       "      <td>0.857708</td>\n",
       "      <td>0.714286</td>\n",
       "      <td>0.666667</td>\n",
       "      <td>0.903109</td>\n",
       "      <td>0.731884</td>\n",
       "      <td>0.689655</td>\n",
       "    </tr>\n",
       "  </tbody>\n",
       "</table>\n",
       "</div>"
      ],
      "text/plain": [
       "      LLM claim  classification/accuracy  classification/precision  \\\n",
       "2362  ada   4_1                 0.857708                  0.714286   \n",
       "\n",
       "      classification/recall  classification/auroc  classification/auprc  \\\n",
       "2362               0.666667              0.903109              0.731884   \n",
       "\n",
       "      classification/f1.0  \n",
       "2362             0.689655  "
      ]
     },
     "execution_count": 5,
     "metadata": {},
     "output_type": "execute_result"
    }
   ],
   "source": [
    "results_4_1 = pd.read_csv('../Classifiers/Results/result_4_1_ada_1.csv')\n",
    "results_4_1.insert(9, 'claim', '4_1' )\n",
    "results_4_1.insert(9, 'LLM', 'ada')\n",
    "results_4_1[results_4_1['classification/accuracy'].notnull()].iloc[:,9:17].tail(1)"
   ]
  },
  {
   "cell_type": "code",
   "execution_count": 6,
   "metadata": {},
   "outputs": [
    {
     "data": {
      "text/plain": [
       "<AxesSubplot: >"
      ]
     },
     "execution_count": 6,
     "metadata": {},
     "output_type": "execute_result"
    },
    {
     "data": {
      "image/png": "[encoded data removed]",
      "text/plain": [
       "<Figure size 640x480 with 1 Axes>"
      ]
     },
     "metadata": {},
     "output_type": "display_data"
    }
   ],
   "source": [
    "results_4_1[results_4_1['classification/precision'].notnull()]['classification/precision'].plot()\n",
    "results_4_1[results_4_1['classification/recall'].notnull()]['classification/recall'].plot()\n",
    "results_4_1[results_4_1['classification/f1.0'].notnull()]['classification/f1.0'].plot()"
   ]
  },
  {
   "cell_type": "code",
   "execution_count": 7,
   "metadata": {},
   "outputs": [
    {
     "data": {
      "text/html": [
       "<div>\n",
       "<style scoped>\n",
       "    .dataframe tbody tr th:only-of-type {\n",
       "        vertical-align: middle;\n",
       "    }\n",
       "\n",
       "    .dataframe tbody tr th {\n",
       "        vertical-align: top;\n",
       "    }\n",
       "\n",
       "    .dataframe thead th {\n",
       "        text-align: right;\n",
       "    }\n",
       "</style>\n",
       "<table border=\"1\" class=\"dataframe\">\n",
       "  <thead>\n",
       "    <tr style=\"text-align: right;\">\n",
       "      <th></th>\n",
       "      <th>predicted_probabilities</th>\n",
       "      <th>predicted_label</th>\n",
       "    </tr>\n",
       "  </thead>\n",
       "  <tbody>\n",
       "    <tr>\n",
       "      <th>0</th>\n",
       "      <td>{'0': -11.694058, ' 0': -1.4736571e-05}</td>\n",
       "      <td>0</td>\n",
       "    </tr>\n",
       "    <tr>\n",
       "      <th>1</th>\n",
       "      <td>{'0': -9.021887, ' 0': -0.00016602462}</td>\n",
       "      <td>0</td>\n",
       "    </tr>\n",
       "    <tr>\n",
       "      <th>2</th>\n",
       "      <td>{'0': -12.202266, ' 0': -1.0681599e-05}</td>\n",
       "      <td>0</td>\n",
       "    </tr>\n",
       "    <tr>\n",
       "      <th>3</th>\n",
       "      <td>{' 1': -8.496537, ' 0': -0.00022051518}</td>\n",
       "      <td>0</td>\n",
       "    </tr>\n",
       "    <tr>\n",
       "      <th>4</th>\n",
       "      <td>{' 1': -7.056975, ' 0': -0.00088195427}</td>\n",
       "      <td>0</td>\n",
       "    </tr>\n",
       "    <tr>\n",
       "      <th>...</th>\n",
       "      <td>...</td>\n",
       "      <td>...</td>\n",
       "    </tr>\n",
       "    <tr>\n",
       "      <th>248</th>\n",
       "      <td>{'0': -9.980046, ' 0': -7.422359e-05}</td>\n",
       "      <td>0</td>\n",
       "    </tr>\n",
       "    <tr>\n",
       "      <th>249</th>\n",
       "      <td>{' 1': -2.0958114, ' 0': -0.13240394}</td>\n",
       "      <td>0</td>\n",
       "    </tr>\n",
       "    <tr>\n",
       "      <th>250</th>\n",
       "      <td>{'0': -9.184864, ' 0': -0.000176637}</td>\n",
       "      <td>0</td>\n",
       "    </tr>\n",
       "    <tr>\n",
       "      <th>251</th>\n",
       "      <td>{' 1': -0.22641543, ' 0': -1.5982436}</td>\n",
       "      <td>1</td>\n",
       "    </tr>\n",
       "    <tr>\n",
       "      <th>252</th>\n",
       "      <td>{' 1': -0.00010450542, ' 0': -10.055335}</td>\n",
       "      <td>1</td>\n",
       "    </tr>\n",
       "  </tbody>\n",
       "</table>\n",
       "<p>253 rows × 2 columns</p>\n",
       "</div>"
      ],
      "text/plain": [
       "                      predicted_probabilities predicted_label\n",
       "0     {'0': -11.694058, ' 0': -1.4736571e-05}               0\n",
       "1      {'0': -9.021887, ' 0': -0.00016602462}               0\n",
       "2     {'0': -12.202266, ' 0': -1.0681599e-05}               0\n",
       "3     {' 1': -8.496537, ' 0': -0.00022051518}               0\n",
       "4     {' 1': -7.056975, ' 0': -0.00088195427}               0\n",
       "..                                        ...             ...\n",
       "248     {'0': -9.980046, ' 0': -7.422359e-05}               0\n",
       "249     {' 1': -2.0958114, ' 0': -0.13240394}               0\n",
       "250      {'0': -9.184864, ' 0': -0.000176637}               0\n",
       "251     {' 1': -0.22641543, ' 0': -1.5982436}               1\n",
       "252  {' 1': -0.00010450542, ' 0': -10.055335}               1\n",
       "\n",
       "[253 rows x 2 columns]"
      ]
     },
     "execution_count": 7,
     "metadata": {},
     "output_type": "execute_result"
    }
   ],
   "source": [
    "ft_model_4_1 = 'ada:ft-university-of-exeter-2023-05-24-15-00-10'\n",
    "\n",
    "predicted_probabilities_4_1 = []\n",
    "predicted_label_4_1 = []\n",
    "for i in val.text:\n",
    "    result = openai.Completion.create(model=ft_model_4_1, prompt=i + ' ->', max_tokens=1, temperature=0, logprobs=2)\n",
    "    predicted_probabilities_4_1.append(result['choices'][0]['logprobs']['top_logprobs'][0])\n",
    "    predicted_label_4_1.append(result['choices'][0]['text'])\n",
    "\n",
    "predictions_4_1 = pd.DataFrame(zip(predicted_probabilities_4_1, predicted_label_4_1), columns=['predicted_probabilities', 'predicted_label'])\n",
    "\n",
    "predictions_4_1"
   ]
  },
  {
   "attachments": {},
   "cell_type": "markdown",
   "metadata": {},
   "source": [
    "### 4.2 Climate policies are ineffective / flawed"
   ]
  },
  {
   "cell_type": "code",
   "execution_count": 8,
   "metadata": {},
   "outputs": [
    {
     "name": "stdout",
     "output_type": "stream",
     "text": [
      "[2023-05-24 15:41:02] Created fine-tune: ft-wR8SVFG4SzpAWWq9rH1hwjEq\n",
      "[2023-05-24 16:00:39] Fine-tune costs $0.16\n",
      "[2023-05-24 16:00:40] Fine-tune enqueued. Queue number: 6\n",
      "[2023-05-24 16:07:21] Fine-tune is in the queue. Queue number: 5\n",
      "[2023-05-24 16:09:24] Fine-tune is in the queue. Queue number: 4\n",
      "[2023-05-24 16:14:01] Fine-tune is in the queue. Queue number: 3\n",
      "[2023-05-24 16:14:17] Fine-tune is in the queue. Queue number: 2\n",
      "[2023-05-24 16:15:41] Fine-tune is in the queue. Queue number: 1\n",
      "[2023-05-24 16:19:19] Fine-tune is in the queue. Queue number: 0\n",
      "[2023-05-24 16:22:23] Fine-tune started\n",
      "[2023-05-24 16:26:36] Completed epoch 1/4\n",
      "[2023-05-24 16:30:23] Completed epoch 2/4\n",
      "[2023-05-24 16:34:15] Completed epoch 3/4\n",
      "[2023-05-24 16:38:07] Completed epoch 4/4\n",
      "[2023-05-24 16:38:35] Uploaded model: ada:ft-university-of-exeter-2023-05-24-15-38-34\n",
      "[2023-05-24 16:38:36] Uploaded result file: file-oa6ltL1JVzvYU4gW3sonsUW0\n",
      "[2023-05-24 16:38:36] Fine-tune succeeded\n",
      "\n",
      "Job complete! Status: succeeded 🎉\n",
      "Try out your fine-tuned model:\n",
      "\n",
      "openai api completions.create -m ada:ft-university-of-exeter-2023-05-24-15-38-34 -p <YOUR_PROMPT>\n"
     ]
    }
   ],
   "source": [
    "!openai api fine_tunes.follow -i ft-wR8SVFG4SzpAWWq9rH1hwjEq\n",
    "!openai api fine_tunes.results -i ft-wR8SVFG4SzpAWWq9rH1hwjEq > ../Classifiers/Results/result_4_2_ada_1.csv"
   ]
  },
  {
   "cell_type": "code",
   "execution_count": 9,
   "metadata": {},
   "outputs": [
    {
     "data": {
      "text/html": [
       "<div>\n",
       "<style scoped>\n",
       "    .dataframe tbody tr th:only-of-type {\n",
       "        vertical-align: middle;\n",
       "    }\n",
       "\n",
       "    .dataframe tbody tr th {\n",
       "        vertical-align: top;\n",
       "    }\n",
       "\n",
       "    .dataframe thead th {\n",
       "        text-align: right;\n",
       "    }\n",
       "</style>\n",
       "<table border=\"1\" class=\"dataframe\">\n",
       "  <thead>\n",
       "    <tr style=\"text-align: right;\">\n",
       "      <th></th>\n",
       "      <th>LLM</th>\n",
       "      <th>claim</th>\n",
       "      <th>classification/accuracy</th>\n",
       "      <th>classification/precision</th>\n",
       "      <th>classification/recall</th>\n",
       "      <th>classification/auroc</th>\n",
       "      <th>classification/auprc</th>\n",
       "      <th>classification/f1.0</th>\n",
       "    </tr>\n",
       "  </thead>\n",
       "  <tbody>\n",
       "    <tr>\n",
       "      <th>2362</th>\n",
       "      <td>ada</td>\n",
       "      <td>4_2</td>\n",
       "      <td>0.936759</td>\n",
       "      <td>0.761905</td>\n",
       "      <td>0.592593</td>\n",
       "      <td>0.950344</td>\n",
       "      <td>0.745878</td>\n",
       "      <td>0.666667</td>\n",
       "    </tr>\n",
       "  </tbody>\n",
       "</table>\n",
       "</div>"
      ],
      "text/plain": [
       "      LLM claim  classification/accuracy  classification/precision  \\\n",
       "2362  ada   4_2                 0.936759                  0.761905   \n",
       "\n",
       "      classification/recall  classification/auroc  classification/auprc  \\\n",
       "2362               0.592593              0.950344              0.745878   \n",
       "\n",
       "      classification/f1.0  \n",
       "2362             0.666667  "
      ]
     },
     "execution_count": 9,
     "metadata": {},
     "output_type": "execute_result"
    }
   ],
   "source": [
    "results_4_2 = pd.read_csv('../Classifiers/Results/result_4_2_ada_1.csv')\n",
    "results_4_2.insert(9, 'claim', '4_2' )\n",
    "results_4_2.insert(9, 'LLM', 'ada')\n",
    "results_4_2[results_4_2['classification/accuracy'].notnull()].iloc[:,9:17].tail(1)"
   ]
  },
  {
   "cell_type": "code",
   "execution_count": 10,
   "metadata": {},
   "outputs": [
    {
     "data": {
      "text/plain": [
       "<AxesSubplot: >"
      ]
     },
     "execution_count": 10,
     "metadata": {},
     "output_type": "execute_result"
    },
    {
     "data": {
      "image/png": "[encoded data removed]",
      "text/plain": [
       "<Figure size 640x480 with 1 Axes>"
      ]
     },
     "metadata": {},
     "output_type": "display_data"
    }
   ],
   "source": [
    "results_4_2[results_4_2['classification/precision'].notnull()]['classification/precision'].plot()\n",
    "results_4_2[results_4_2['classification/recall'].notnull()]['classification/recall'].plot()\n",
    "results_4_2[results_4_2['classification/f1.0'].notnull()]['classification/f1.0'].plot()"
   ]
  },
  {
   "cell_type": "code",
   "execution_count": 11,
   "metadata": {},
   "outputs": [
    {
     "data": {
      "text/html": [
       "<div>\n",
       "<style scoped>\n",
       "    .dataframe tbody tr th:only-of-type {\n",
       "        vertical-align: middle;\n",
       "    }\n",
       "\n",
       "    .dataframe tbody tr th {\n",
       "        vertical-align: top;\n",
       "    }\n",
       "\n",
       "    .dataframe thead th {\n",
       "        text-align: right;\n",
       "    }\n",
       "</style>\n",
       "<table border=\"1\" class=\"dataframe\">\n",
       "  <thead>\n",
       "    <tr style=\"text-align: right;\">\n",
       "      <th></th>\n",
       "      <th>predicted_probabilities</th>\n",
       "      <th>predicted_label</th>\n",
       "    </tr>\n",
       "  </thead>\n",
       "  <tbody>\n",
       "    <tr>\n",
       "      <th>0</th>\n",
       "      <td>{' 1': -10.0259075, ' 0': -7.124244e-05}</td>\n",
       "      <td>0</td>\n",
       "    </tr>\n",
       "    <tr>\n",
       "      <th>1</th>\n",
       "      <td>{'0': -10.091613, ' 0': -5.7177684e-05}</td>\n",
       "      <td>0</td>\n",
       "    </tr>\n",
       "    <tr>\n",
       "      <th>2</th>\n",
       "      <td>{'0': -10.056072, ' 0': -5.9321566e-05}</td>\n",
       "      <td>0</td>\n",
       "    </tr>\n",
       "    <tr>\n",
       "      <th>3</th>\n",
       "      <td>{' 1': -8.243139, ' 0': -0.00030702315}</td>\n",
       "      <td>0</td>\n",
       "    </tr>\n",
       "    <tr>\n",
       "      <th>4</th>\n",
       "      <td>{' 1': -1.1094158, ' 0': -0.4009082}</td>\n",
       "      <td>0</td>\n",
       "    </tr>\n",
       "    <tr>\n",
       "      <th>...</th>\n",
       "      <td>...</td>\n",
       "      <td>...</td>\n",
       "    </tr>\n",
       "    <tr>\n",
       "      <th>248</th>\n",
       "      <td>{' 1': -7.9248614, ' 0': -0.00048632707}</td>\n",
       "      <td>0</td>\n",
       "    </tr>\n",
       "    <tr>\n",
       "      <th>249</th>\n",
       "      <td>{' 1': -4.702289, ' 0': -0.009279034}</td>\n",
       "      <td>0</td>\n",
       "    </tr>\n",
       "    <tr>\n",
       "      <th>250</th>\n",
       "      <td>{' 1': -8.970902, ' 0': -0.00022987355}</td>\n",
       "      <td>0</td>\n",
       "    </tr>\n",
       "    <tr>\n",
       "      <th>251</th>\n",
       "      <td>{' 1': -6.469119, ' 0': -0.0016286067}</td>\n",
       "      <td>0</td>\n",
       "    </tr>\n",
       "    <tr>\n",
       "      <th>252</th>\n",
       "      <td>{' 1': -2.520153, ' 0': -0.08407216}</td>\n",
       "      <td>0</td>\n",
       "    </tr>\n",
       "  </tbody>\n",
       "</table>\n",
       "<p>253 rows × 2 columns</p>\n",
       "</div>"
      ],
      "text/plain": [
       "                      predicted_probabilities predicted_label\n",
       "0    {' 1': -10.0259075, ' 0': -7.124244e-05}               0\n",
       "1     {'0': -10.091613, ' 0': -5.7177684e-05}               0\n",
       "2     {'0': -10.056072, ' 0': -5.9321566e-05}               0\n",
       "3     {' 1': -8.243139, ' 0': -0.00030702315}               0\n",
       "4        {' 1': -1.1094158, ' 0': -0.4009082}               0\n",
       "..                                        ...             ...\n",
       "248  {' 1': -7.9248614, ' 0': -0.00048632707}               0\n",
       "249     {' 1': -4.702289, ' 0': -0.009279034}               0\n",
       "250   {' 1': -8.970902, ' 0': -0.00022987355}               0\n",
       "251    {' 1': -6.469119, ' 0': -0.0016286067}               0\n",
       "252      {' 1': -2.520153, ' 0': -0.08407216}               0\n",
       "\n",
       "[253 rows x 2 columns]"
      ]
     },
     "execution_count": 11,
     "metadata": {},
     "output_type": "execute_result"
    }
   ],
   "source": [
    "ft_model_4_2 = 'ada:ft-university-of-exeter-2023-05-24-15-38-34'\n",
    "\n",
    "predicted_probabilities_4_2 = []\n",
    "predicted_label_4_2 = []\n",
    "for i in val.text:\n",
    "    result = openai.Completion.create(model=ft_model_4_2, prompt=i + ' ->', max_tokens=1, temperature=0, logprobs=2)\n",
    "    predicted_probabilities_4_2.append(result['choices'][0]['logprobs']['top_logprobs'][0])\n",
    "    predicted_label_4_2.append(result['choices'][0]['text'])\n",
    "\n",
    "predictions_4_2 = pd.DataFrame(zip(predicted_probabilities_4_2, predicted_label_4_2), columns=['predicted_probabilities', 'predicted_label'])\n",
    "\n",
    "predictions_4_2"
   ]
  },
  {
   "attachments": {},
   "cell_type": "markdown",
   "metadata": {},
   "source": [
    "### 4.3-4.6 Other reasons against policy "
   ]
  },
  {
   "cell_type": "code",
   "execution_count": 12,
   "metadata": {},
   "outputs": [
    {
     "name": "stdout",
     "output_type": "stream",
     "text": [
      "[2023-05-24 15:42:09] Created fine-tune: ft-Cq6mRIYl5ZCtRagsio9Ix7iJ\n",
      "[2023-05-24 16:38:54] Fine-tune costs $0.16\n",
      "[2023-05-24 16:38:54] Fine-tune enqueued. Queue number: 4\n",
      "[2023-05-24 16:39:42] Fine-tune is in the queue. Queue number: 3\n",
      "[2023-05-24 16:43:27] Fine-tune is in the queue. Queue number: 2\n",
      "[2023-05-24 16:43:27] Fine-tune is in the queue. Queue number: 1\n",
      "[2023-05-24 16:44:12] Fine-tune is in the queue. Queue number: 0\n",
      "[2023-05-24 16:48:16] Fine-tune started\n",
      "[2023-05-24 16:52:21] Completed epoch 1/4\n",
      "[2023-05-24 16:56:16] Completed epoch 2/4\n",
      "[2023-05-24 17:00:07] Completed epoch 3/4\n",
      "[2023-05-24 17:04:00] Completed epoch 4/4\n",
      "[2023-05-24 17:04:28] Uploaded model: ada:ft-university-of-exeter-2023-05-24-16-04-28\n",
      "[2023-05-24 17:04:29] Uploaded result file: file-kyxw6A3OqC9YnKBbdTdWNcaD\n",
      "[2023-05-24 17:04:29] Fine-tune succeeded\n",
      "\n",
      "Job complete! Status: succeeded 🎉\n",
      "Try out your fine-tuned model:\n",
      "\n",
      "openai api completions.create -m ada:ft-university-of-exeter-2023-05-24-16-04-28 -p <YOUR_PROMPT>\n"
     ]
    }
   ],
   "source": [
    "!openai api fine_tunes.follow -i ft-Cq6mRIYl5ZCtRagsio9Ix7iJ\n",
    "!openai api fine_tunes.results -i ft-Cq6mRIYl5ZCtRagsio9Ix7iJ > ../Classifiers/Results/result_4_3456_ada_1.csv"
   ]
  },
  {
   "cell_type": "code",
   "execution_count": 13,
   "metadata": {},
   "outputs": [
    {
     "data": {
      "text/html": [
       "<div>\n",
       "<style scoped>\n",
       "    .dataframe tbody tr th:only-of-type {\n",
       "        vertical-align: middle;\n",
       "    }\n",
       "\n",
       "    .dataframe tbody tr th {\n",
       "        vertical-align: top;\n",
       "    }\n",
       "\n",
       "    .dataframe thead th {\n",
       "        text-align: right;\n",
       "    }\n",
       "</style>\n",
       "<table border=\"1\" class=\"dataframe\">\n",
       "  <thead>\n",
       "    <tr style=\"text-align: right;\">\n",
       "      <th></th>\n",
       "      <th>LLM</th>\n",
       "      <th>claim</th>\n",
       "      <th>classification/accuracy</th>\n",
       "      <th>classification/precision</th>\n",
       "      <th>classification/recall</th>\n",
       "      <th>classification/auroc</th>\n",
       "      <th>classification/auprc</th>\n",
       "      <th>classification/f1.0</th>\n",
       "    </tr>\n",
       "  </thead>\n",
       "  <tbody>\n",
       "    <tr>\n",
       "      <th>2363</th>\n",
       "      <td>ada</td>\n",
       "      <td>4_3456</td>\n",
       "      <td>0.956522</td>\n",
       "      <td>0.5</td>\n",
       "      <td>0.090909</td>\n",
       "      <td>0.872652</td>\n",
       "      <td>0.389667</td>\n",
       "      <td>0.153846</td>\n",
       "    </tr>\n",
       "  </tbody>\n",
       "</table>\n",
       "</div>"
      ],
      "text/plain": [
       "      LLM   claim  classification/accuracy  classification/precision  \\\n",
       "2363  ada  4_3456                 0.956522                       0.5   \n",
       "\n",
       "      classification/recall  classification/auroc  classification/auprc  \\\n",
       "2363               0.090909              0.872652              0.389667   \n",
       "\n",
       "      classification/f1.0  \n",
       "2363             0.153846  "
      ]
     },
     "execution_count": 13,
     "metadata": {},
     "output_type": "execute_result"
    }
   ],
   "source": [
    "results_4_3456 = pd.read_csv('../Classifiers/Results/result_4_3456_ada_1.csv')\n",
    "results_4_3456.insert(9, 'claim', '4_3456' )\n",
    "results_4_3456.insert(9, 'LLM', 'ada')\n",
    "results_4_3456[results_4_3456['classification/accuracy'].notnull()].iloc[:,9:17].tail(1)"
   ]
  },
  {
   "cell_type": "code",
   "execution_count": 14,
   "metadata": {},
   "outputs": [
    {
     "data": {
      "text/plain": [
       "<AxesSubplot: >"
      ]
     },
     "execution_count": 14,
     "metadata": {},
     "output_type": "execute_result"
    },
    {
     "data": {
      "image/png": "[encoded data removed]",
      "text/plain": [
       "<Figure size 640x480 with 1 Axes>"
      ]
     },
     "metadata": {},
     "output_type": "display_data"
    }
   ],
   "source": [
    "results_4_3456[results_4_3456['classification/precision'].notnull()]['classification/precision'].plot()\n",
    "results_4_3456[results_4_3456['classification/recall'].notnull()]['classification/recall'].plot()\n",
    "results_4_3456[results_4_3456['classification/f1.0'].notnull()]['classification/f1.0'].plot()"
   ]
  },
  {
   "cell_type": "code",
   "execution_count": 15,
   "metadata": {},
   "outputs": [],
   "source": [
    "# !openai api fine_tunes.follow -i ft-MebtMOxmZNsZo4p7jB2Lteqt\n",
    "# !openai api fine_tunes.results -i ft-MebtMOxmZNsZo4p7jB2Lteqt > ../Classifiers/Results/result_4_3456_ada_1.csv"
   ]
  },
  {
   "cell_type": "code",
   "execution_count": 16,
   "metadata": {},
   "outputs": [],
   "source": [
    "# results_4_3456 = pd.read_csv('../Classifiers/Results/result_4_3456_ada_1.csv')\n",
    "# results_4_3456.insert(9, 'claim', '4_3456' )\n",
    "# results_4_3456.insert(9, 'LLM', 'ada')\n",
    "# results_4_3456[results_4_3456['classification/accuracy'].notnull()].iloc[:,9:17].tail(1)"
   ]
  },
  {
   "cell_type": "code",
   "execution_count": 17,
   "metadata": {},
   "outputs": [],
   "source": [
    "# results_4_3456[results_4_3456['classification/precision'].notnull()]['classification/precision'].plot()\n",
    "# results_4_3456[results_4_3456['classification/recall'].notnull()]['classification/recall'].plot()\n",
    "# results_4_3456[results_4_3456['classification/f1.0'].notnull()]['classification/f1.0'].plot()"
   ]
  },
  {
   "cell_type": "code",
   "execution_count": 18,
   "metadata": {},
   "outputs": [],
   "source": [
    "# !openai api fine_tunes.follow -i ft-HTOvzGiUgO64H9mO4XeY9US4\n",
    "# !openai api fine_tunes.results -i ft-HTOvzGiUgO64H9mO4XeY9US4 > ../Classifiers/Results/result_4_3456_ada_1_epoch4.csv"
   ]
  },
  {
   "cell_type": "code",
   "execution_count": 19,
   "metadata": {},
   "outputs": [],
   "source": [
    "# results_4_3456_epoch4 = pd.read_csv('../Classifiers/Results/result_4_3456_ada_1_epoch4.csv')\n",
    "# results_4_3456_epoch4.insert(9, 'claim', '4_3456' )\n",
    "# results_4_3456_epoch4.insert(9, 'LLM', 'ada')\n",
    "# results_4_3456_epoch4.step = results_4_3456_epoch4.step + max(results_4_3456.step)\n",
    "# results_4_3456 = results_4_3456.append(results_4_3456_epoch4).reset_index(drop=True)\n",
    "# results_4_3456[results_4_3456['classification/accuracy'].notnull()].iloc[:,9:17].tail(1)"
   ]
  },
  {
   "cell_type": "code",
   "execution_count": 20,
   "metadata": {},
   "outputs": [],
   "source": [
    "# results_4_3456[results_4_3456['classification/precision'].notnull()]['classification/precision'].plot()\n",
    "# results_4_3456[results_4_3456['classification/recall'].notnull()]['classification/recall'].plot()\n",
    "# results_4_3456[results_4_3456['classification/f1.0'].notnull()]['classification/f1.0'].plot()"
   ]
  },
  {
   "cell_type": "code",
   "execution_count": 25,
   "metadata": {},
   "outputs": [
    {
     "data": {
      "text/html": [
       "<div>\n",
       "<style scoped>\n",
       "    .dataframe tbody tr th:only-of-type {\n",
       "        vertical-align: middle;\n",
       "    }\n",
       "\n",
       "    .dataframe tbody tr th {\n",
       "        vertical-align: top;\n",
       "    }\n",
       "\n",
       "    .dataframe thead th {\n",
       "        text-align: right;\n",
       "    }\n",
       "</style>\n",
       "<table border=\"1\" class=\"dataframe\">\n",
       "  <thead>\n",
       "    <tr style=\"text-align: right;\">\n",
       "      <th></th>\n",
       "      <th>predicted_probabilities</th>\n",
       "      <th>predicted_label</th>\n",
       "    </tr>\n",
       "  </thead>\n",
       "  <tbody>\n",
       "    <tr>\n",
       "      <th>0</th>\n",
       "      <td>{' 1': -9.541432, ' 0': -8.471396e-05}</td>\n",
       "      <td>0</td>\n",
       "    </tr>\n",
       "    <tr>\n",
       "      <th>1</th>\n",
       "      <td>{' 0': -1.2231317e-05, ' zero': -12.25751}</td>\n",
       "      <td>0</td>\n",
       "    </tr>\n",
       "    <tr>\n",
       "      <th>2</th>\n",
       "      <td>{' 1': -10.392835, ' 0': -4.179789e-05}</td>\n",
       "      <td>0</td>\n",
       "    </tr>\n",
       "    <tr>\n",
       "      <th>3</th>\n",
       "      <td>{' 1': -7.498197, ' 0': -0.0005835929}</td>\n",
       "      <td>0</td>\n",
       "    </tr>\n",
       "    <tr>\n",
       "      <th>4</th>\n",
       "      <td>{' 1': -10.737835, ' 0': -4.608659e-05}</td>\n",
       "      <td>0</td>\n",
       "    </tr>\n",
       "    <tr>\n",
       "      <th>...</th>\n",
       "      <td>...</td>\n",
       "      <td>...</td>\n",
       "    </tr>\n",
       "    <tr>\n",
       "      <th>248</th>\n",
       "      <td>{' -': -11.457744, ' 0': -2.0575926e-05}</td>\n",
       "      <td>0</td>\n",
       "    </tr>\n",
       "    <tr>\n",
       "      <th>249</th>\n",
       "      <td>{' 1': -11.155278, ' 0': -3.655083e-05}</td>\n",
       "      <td>0</td>\n",
       "    </tr>\n",
       "    <tr>\n",
       "      <th>250</th>\n",
       "      <td>{' 0': -1.7236207e-05, ' zero': -12.282022}</td>\n",
       "      <td>0</td>\n",
       "    </tr>\n",
       "    <tr>\n",
       "      <th>251</th>\n",
       "      <td>{' 1': -8.529353, ' 0': -0.00022802629}</td>\n",
       "      <td>0</td>\n",
       "    </tr>\n",
       "    <tr>\n",
       "      <th>252</th>\n",
       "      <td>{' 1': -10.436431, ' 0': -6.194322e-05}</td>\n",
       "      <td>0</td>\n",
       "    </tr>\n",
       "  </tbody>\n",
       "</table>\n",
       "<p>253 rows × 2 columns</p>\n",
       "</div>"
      ],
      "text/plain": [
       "                         predicted_probabilities predicted_label\n",
       "0         {' 1': -9.541432, ' 0': -8.471396e-05}               0\n",
       "1     {' 0': -1.2231317e-05, ' zero': -12.25751}               0\n",
       "2        {' 1': -10.392835, ' 0': -4.179789e-05}               0\n",
       "3         {' 1': -7.498197, ' 0': -0.0005835929}               0\n",
       "4        {' 1': -10.737835, ' 0': -4.608659e-05}               0\n",
       "..                                           ...             ...\n",
       "248     {' -': -11.457744, ' 0': -2.0575926e-05}               0\n",
       "249      {' 1': -11.155278, ' 0': -3.655083e-05}               0\n",
       "250  {' 0': -1.7236207e-05, ' zero': -12.282022}               0\n",
       "251      {' 1': -8.529353, ' 0': -0.00022802629}               0\n",
       "252      {' 1': -10.436431, ' 0': -6.194322e-05}               0\n",
       "\n",
       "[253 rows x 2 columns]"
      ]
     },
     "execution_count": 25,
     "metadata": {},
     "output_type": "execute_result"
    }
   ],
   "source": [
    "ft_model_4_3 = 'ada:ft-university-of-exeter-2023-05-24-16-04-28'\n",
    "\n",
    "predicted_probabilities_4_3 = []\n",
    "predicted_label_4_3 = []\n",
    "for i in val.text:\n",
    "    result = openai.Completion.create(model=ft_model_4_3, prompt=i + ' ->', max_tokens=1, temperature=0, logprobs=2)\n",
    "    predicted_probabilities_4_3.append(result['choices'][0]['logprobs']['top_logprobs'][0])\n",
    "    predicted_label_4_3.append(result['choices'][0]['text'])\n",
    "\n",
    "predictions_4_3 = pd.DataFrame(zip(predicted_probabilities_4_3, predicted_label_4_3), columns=['predicted_probabilities', 'predicted_label'])\n",
    "\n",
    "predictions_4_3"
   ]
  },
  {
   "attachments": {},
   "cell_type": "markdown",
   "metadata": {},
   "source": [
    "## Summary"
   ]
  },
  {
   "cell_type": "code",
   "execution_count": 26,
   "metadata": {},
   "outputs": [
    {
     "data": {
      "text/html": [
       "<div>\n",
       "<style scoped>\n",
       "    .dataframe tbody tr th:only-of-type {\n",
       "        vertical-align: middle;\n",
       "    }\n",
       "\n",
       "    .dataframe tbody tr th {\n",
       "        vertical-align: top;\n",
       "    }\n",
       "\n",
       "    .dataframe thead th {\n",
       "        text-align: right;\n",
       "    }\n",
       "</style>\n",
       "<table border=\"1\" class=\"dataframe\">\n",
       "  <thead>\n",
       "    <tr style=\"text-align: right;\">\n",
       "      <th></th>\n",
       "      <th>LLM</th>\n",
       "      <th>claim</th>\n",
       "      <th>classification/accuracy</th>\n",
       "      <th>classification/precision</th>\n",
       "      <th>classification/recall</th>\n",
       "      <th>classification/auroc</th>\n",
       "      <th>classification/auprc</th>\n",
       "      <th>classification/f1.0</th>\n",
       "    </tr>\n",
       "  </thead>\n",
       "  <tbody>\n",
       "    <tr>\n",
       "      <th>0</th>\n",
       "      <td>ada</td>\n",
       "      <td>4_1</td>\n",
       "      <td>0.857708</td>\n",
       "      <td>0.714286</td>\n",
       "      <td>0.666667</td>\n",
       "      <td>0.903109</td>\n",
       "      <td>0.731884</td>\n",
       "      <td>0.689655</td>\n",
       "    </tr>\n",
       "    <tr>\n",
       "      <th>1</th>\n",
       "      <td>ada</td>\n",
       "      <td>4_2</td>\n",
       "      <td>0.936759</td>\n",
       "      <td>0.761905</td>\n",
       "      <td>0.592593</td>\n",
       "      <td>0.950344</td>\n",
       "      <td>0.745878</td>\n",
       "      <td>0.666667</td>\n",
       "    </tr>\n",
       "    <tr>\n",
       "      <th>2</th>\n",
       "      <td>ada</td>\n",
       "      <td>4_3456</td>\n",
       "      <td>0.956522</td>\n",
       "      <td>0.500000</td>\n",
       "      <td>0.090909</td>\n",
       "      <td>0.872652</td>\n",
       "      <td>0.389667</td>\n",
       "      <td>0.153846</td>\n",
       "    </tr>\n",
       "  </tbody>\n",
       "</table>\n",
       "</div>"
      ],
      "text/plain": [
       "   LLM   claim  classification/accuracy  classification/precision  \\\n",
       "0  ada     4_1                 0.857708                  0.714286   \n",
       "1  ada     4_2                 0.936759                  0.761905   \n",
       "2  ada  4_3456                 0.956522                  0.500000   \n",
       "\n",
       "   classification/recall  classification/auroc  classification/auprc  \\\n",
       "0               0.666667              0.903109              0.731884   \n",
       "1               0.592593              0.950344              0.745878   \n",
       "2               0.090909              0.872652              0.389667   \n",
       "\n",
       "   classification/f1.0  \n",
       "0             0.689655  \n",
       "1             0.666667  \n",
       "2             0.153846  "
      ]
     },
     "execution_count": 26,
     "metadata": {},
     "output_type": "execute_result"
    }
   ],
   "source": [
    "pd.concat([results_4_1[results_4_1['classification/accuracy'].notnull()].iloc[:,9:17].tail(1),\n",
    "           results_4_2[results_4_2['classification/accuracy'].notnull()].iloc[:,9:17].tail(1),\n",
    "           results_4_3456[results_4_3456['classification/accuracy'].notnull()].iloc[:,9:17].tail(1)]).reset_index(drop=True)"
   ]
  },
  {
   "cell_type": "code",
   "execution_count": 27,
   "metadata": {},
   "outputs": [],
   "source": [
    "# Multi-hot encode the labels\n",
    "val['predicted_labels_ada'] = pd.concat([predictions_4_1.predicted_label.apply(lambda x: re.findall(r'\\d+', x)[0]).astype(int),\n",
    "                                          predictions_4_2.predicted_label.apply(lambda x: re.findall(r'\\d+', x)[0]).astype(int),\n",
    "                                          predictions_4_3.predicted_label.apply(lambda x: re.findall(r'\\d+', x)[0]).astype(int)], axis=1).values.tolist()"
   ]
  },
  {
   "cell_type": "code",
   "execution_count": 29,
   "metadata": {},
   "outputs": [
    {
     "name": "stdout",
     "output_type": "stream",
     "text": [
      "Classification performance\n",
      "-------------------\n",
      "              precision    recall  f1-score   support\n",
      "\n",
      "           0       0.73      0.72      0.72        60\n",
      "           1       0.80      0.59      0.68        27\n",
      "           2       0.67      0.06      0.10        36\n",
      "\n",
      "   micro avg       0.74      0.50      0.60       123\n",
      "   macro avg       0.73      0.45      0.50       123\n",
      "weighted avg       0.73      0.50      0.53       123\n",
      " samples avg       0.20      0.20      0.19       123\n",
      "\n",
      "Overall performance\n",
      "-------------------\n",
      "              precision    recall  f1-score   support\n",
      "\n",
      "           0       0.77      0.92      0.84       153\n",
      "           1       0.83      0.58      0.68       100\n",
      "\n",
      "    accuracy                           0.79       253\n",
      "   macro avg       0.80      0.75      0.76       253\n",
      "weighted avg       0.79      0.79      0.78       253\n",
      "\n"
     ]
    },
    {
     "name": "stderr",
     "output_type": "stream",
     "text": [
      "/Users/mn/Library/CloudStorage/OneDrive-UniversityofExeter/Projects/GitHub/.venv/lib/python3.11/site-packages/sklearn/metrics/_classification.py:1344: UndefinedMetricWarning: Precision and F-score are ill-defined and being set to 0.0 in samples with no predicted labels. Use `zero_division` parameter to control this behavior.\n",
      "  _warn_prf(average, modifier, msg_start, len(result))\n",
      "/Users/mn/Library/CloudStorage/OneDrive-UniversityofExeter/Projects/GitHub/.venv/lib/python3.11/site-packages/sklearn/metrics/_classification.py:1344: UndefinedMetricWarning: Recall and F-score are ill-defined and being set to 0.0 in samples with no true labels. Use `zero_division` parameter to control this behavior.\n",
      "  _warn_prf(average, modifier, msg_start, len(result))\n"
     ]
    }
   ],
   "source": [
    "# ADA model results on validation data\n",
    "\n",
    "# Print the classification report\n",
    "print(\"Classification performance\\n-------------------\")\n",
    "print(classification_report(val['labels'].values.tolist(), val['predicted_labels_ada'].values.tolist()))\n",
    "\n",
    "# Check overall performance\n",
    "# Print the classification report\n",
    "print(\"Overall performance\\n-------------------\")\n",
    "print(classification_report([1 if sum(i)>0 else 0 for i in val['labels']], [1 if sum(i)>0 else 0 for i in val['predicted_labels_ada']]))"
   ]
  },
  {
   "cell_type": "code",
   "execution_count": null,
   "metadata": {},
   "outputs": [],
   "source": [
    "# Classification performance with the retrained model 4_3456 >> even worse, so has been dropped\n",
    "\n",
    "# Classification performance\n",
    "# -------------------\n",
    "#               precision    recall  f1-score   support\n",
    "\n",
    "#            0       0.72      0.68      0.70        60\n",
    "#            1       0.76      0.59      0.67        27\n",
    "#            2       1.00      0.03      0.05        36\n",
    "\n",
    "#    micro avg       0.73      0.47      0.57       123\n",
    "#    macro avg       0.83      0.43      0.47       123\n",
    "# weighted avg       0.81      0.47      0.50       123\n",
    "#  samples avg       0.19      0.19      0.18       123\n",
    "\n",
    "# Overall performance\n",
    "# -------------------\n",
    "#               precision    recall  f1-score   support\n",
    "\n",
    "#            0       0.76      0.93      0.84       153\n",
    "#            1       0.84      0.56      0.67       100\n",
    "\n",
    "#     accuracy                           0.78       253\n",
    "#    macro avg       0.80      0.74      0.75       253\n",
    "# weighted avg       0.79      0.78      0.77       253"
   ]
  },
  {
   "cell_type": "code",
   "execution_count": 30,
   "metadata": {},
   "outputs": [],
   "source": [
    "# Save the predictions\n",
    "\n",
    "val.to_json(\"../Classifiers/Data/cat_hearings_03_10_val_ada_labels.json\")"
   ]
  }
 ],
 "metadata": {
  "interpreter": {
   "hash": "3b138a8faad971cc852f62bcf00f59ea0e31721743ea2c5a866ca26adf572e75"
  },
  "kernelspec": {
   "display_name": "Python 3.7.3 64-bit ('base': conda)",
   "name": "python3"
  },
  "language_info": {
   "codemirror_mode": {
    "name": "ipython",
    "version": 3
   },
   "file_extension": ".py",
   "mimetype": "text/x-python",
   "name": "python",
   "nbconvert_exporter": "python",
   "pygments_lexer": "ipython3",
   "version": "3.11.1"
  },
  "orig_nbformat": 4
 },
 "nbformat": 4,
 "nbformat_minor": 2
}
