{
 "cells": [
  {
   "attachments": {},
   "cell_type": "markdown",
   "metadata": {},
   "source": [
    "# Fine tuning classification: policy claims (IV) using davinci\n",
    "\n",
    "We will fine-tune an davinci classifier to train six classifiers for each level 2 policy claim 4.1 to 4.6"
   ]
  },
  {
   "cell_type": "code",
   "execution_count": 3,
   "metadata": {},
   "outputs": [],
   "source": [
    "import pandas as pd\n",
    "import numpy as np\n",
    "import re\n",
    "\n",
    "import openai\n",
    "import os\n",
    "\n",
    "from sklearn.metrics import classification_report\n",
    "\n",
    "# Set openai API key\n",
    "openai.api_key = os.getenv(\"OPENAI_API_KEY\")"
   ]
  },
  {
   "cell_type": "code",
   "execution_count": 4,
   "metadata": {},
   "outputs": [],
   "source": [
    "val = pd.read_json('../Classifiers/Data/cat_hearings_03_10_val.json')\n",
    "test = pd.read_json('../Classifiers/Data/cat_hearings_03_10_test.json')"
   ]
  },
  {
   "attachments": {},
   "cell_type": "markdown",
   "metadata": {},
   "source": [
    "## Fine-tuning"
   ]
  },
  {
   "attachments": {},
   "cell_type": "markdown",
   "metadata": {},
   "source": [
    "### 4.1 Climate policies are harmful"
   ]
  },
  {
   "cell_type": "code",
   "execution_count": null,
   "metadata": {},
   "outputs": [],
   "source": [
    "!openai api fine_tunes.create \\\n",
    "    -t ../Classifiers/Data/train_4_1_prepared.jsonl \\\n",
    "        -v ../Classifiers/Data/val_4_1_prepared.jsonl \\\n",
    "            --compute_classification_metrics --classification_positive_class \" 1.0\" \\\n",
    "                -m davinci --suffix \"L2Pcat3-e3\" --n_epochs 3"
   ]
  },
  {
   "cell_type": "code",
   "execution_count": 8,
   "metadata": {},
   "outputs": [
    {
     "name": "stdout",
     "output_type": "stream",
     "text": [
      "Created fine-tune: ft-Oox7yboe9YS2aaDWok6EjquB\n",
      "Streaming events until fine-tuning is complete...\n",
      "\n",
      "(Ctrl-C will interrupt the stream, but not cancel the fine-tune)\n",
      "[2023-06-03 10:12:30] Created fine-tune: ft-Oox7yboe9YS2aaDWok6EjquB\n",
      "\n",
      "Stream interrupted (client disconnected).\n",
      "To resume the stream, run:\n",
      "\n",
      "  openai api fine_tunes.follow -i ft-Oox7yboe9YS2aaDWok6EjquB\n",
      "\n"
     ]
    }
   ],
   "source": [
    "# Train classifier for three epochs\n",
    "!openai api fine_tunes.create \\\n",
    "    -t file-mGD0et0aiiqDCtLEiY0AA2aN \\\n",
    "        -v file-68itQ5VrFt3iHyEBYnc07edF \\\n",
    "            --compute_classification_metrics --classification_positive_class \" 1.0\" \\\n",
    "                -m davinci --suffix \"L2Pcat3-e3\" --n_epochs 3"
   ]
  },
  {
   "cell_type": "code",
   "execution_count": 32,
   "metadata": {},
   "outputs": [
    {
     "name": "stdout",
     "output_type": "stream",
     "text": [
      "[2023-06-03 10:12:30] Created fine-tune: ft-Oox7yboe9YS2aaDWok6EjquB\n",
      "[2023-06-03 10:14:39] Fine-tune costs $9.18\n",
      "[2023-06-03 10:14:39] Fine-tune enqueued. Queue number: 0\n",
      "[2023-06-03 10:14:41] Fine-tune started\n",
      "[2023-06-03 10:26:53] Completed epoch 1/3\n",
      "[2023-06-03 10:47:09] Completed epoch 3/3\n",
      "[2023-06-03 10:48:10] Uploaded model: davinci:ft-university-of-exeter:l2pcat3-e3-2023-06-03-09-48-10\n",
      "[2023-06-03 10:48:12] Uploaded result file: file-OC5JlaIXxT8rLH0qgiwL8ulX\n",
      "[2023-06-03 10:48:12] Fine-tune succeeded\n",
      "\n",
      "Job complete! Status: succeeded 🎉\n",
      "Try out your fine-tuned model:\n",
      "\n",
      "openai api completions.create -m davinci:ft-university-of-exeter:l2pcat3-e3-2023-06-03-09-48-10 -p <YOUR_PROMPT>\n"
     ]
    }
   ],
   "source": [
    "!  openai api fine_tunes.follow -i ft-Oox7yboe9YS2aaDWok6EjquB"
   ]
  },
  {
   "cell_type": "code",
   "execution_count": 47,
   "metadata": {},
   "outputs": [
    {
     "name": "stdout",
     "output_type": "stream",
     "text": [
      "Created fine-tune: ft-FuRrol8pulk9GLgSqZqHivn2\n",
      "Streaming events until fine-tuning is complete...\n",
      "\n",
      "(Ctrl-C will interrupt the stream, but not cancel the fine-tune)\n",
      "[2023-06-05 11:36:02] Created fine-tune: ft-FuRrol8pulk9GLgSqZqHivn2\n",
      "\n",
      "Stream interrupted (client disconnected).\n",
      "To resume the stream, run:\n",
      "\n",
      "  openai api fine_tunes.follow -i ft-FuRrol8pulk9GLgSqZqHivn2\n",
      "\n"
     ]
    }
   ],
   "source": [
    "# Add one more epoch\n",
    "!openai api fine_tunes.create \\\n",
    "    -t file-mGD0et0aiiqDCtLEiY0AA2aN \\\n",
    "        -v file-68itQ5VrFt3iHyEBYnc07edF \\\n",
    "            --compute_classification_metrics --classification_positive_class \" 1.0\" \\\n",
    "                -m davinci:ft-university-of-exeter:l2pcat3-e3-2023-06-03-09-48-10 --suffix \"L2Pcat3-e4\" --n_epochs=1"
   ]
  },
  {
   "cell_type": "code",
   "execution_count": 48,
   "metadata": {},
   "outputs": [
    {
     "name": "stdout",
     "output_type": "stream",
     "text": [
      "[2023-06-05 11:36:02] Created fine-tune: ft-FuRrol8pulk9GLgSqZqHivn2\n",
      "[2023-06-05 11:37:53] Fine-tune costs $3.06\n",
      "[2023-06-05 11:37:54] Fine-tune enqueued. Queue number: 1\n",
      "[2023-06-05 11:38:43] Fine-tune is in the queue. Queue number: 0\n",
      "[2023-06-05 11:39:27] Fine-tune started\n",
      "[2023-06-05 11:52:26] Completed epoch 1/1\n",
      "[2023-06-05 11:53:35] Uploaded model: davinci:ft-university-of-exeter:l2pcat3-e4-2023-06-05-10-53-34\n",
      "[2023-06-05 11:53:36] Uploaded result file: file-bLBLcw59YdDkimhwNaq6dMPm\n",
      "[2023-06-05 11:53:36] Fine-tune succeeded\n",
      "\n",
      "Job complete! Status: succeeded 🎉\n",
      "Try out your fine-tuned model:\n",
      "\n",
      "openai api completions.create -m davinci:ft-university-of-exeter:l2pcat3-e4-2023-06-05-10-53-34 -p <YOUR_PROMPT>\n"
     ]
    }
   ],
   "source": [
    "! openai api fine_tunes.follow -i ft-FuRrol8pulk9GLgSqZqHivn2\n"
   ]
  },
  {
   "cell_type": "code",
   "execution_count": null,
   "metadata": {},
   "outputs": [],
   "source": [
    "# # Add one more epoch\n",
    "# !openai api fine_tunes.create \\\n",
    "#     -t file-mGD0et0aiiqDCtLEiY0AA2aN \\\n",
    "#         -v file-68itQ5VrFt3iHyEBYnc07edF \\\n",
    "#             --compute_classification_metrics --classification_positive_class \" 1.0\" \\\n",
    "#                 -m ada:ft-university-of-exeter-2023-06-01-14-30-56 --suffix \"L2Pcat3-e5\" --n_epochs=1"
   ]
  },
  {
   "cell_type": "code",
   "execution_count": null,
   "metadata": {},
   "outputs": [],
   "source": [
    "# Models\n",
    "\n",
    "# epoch 1-3\n",
    "# ft-Oox7yboe9YS2aaDWok6EjquB\n",
    "# epoch 4\n",
    "# ft-FuRrol8pulk9GLgSqZqHivn2\n",
    "# epoch 5"
   ]
  },
  {
   "attachments": {},
   "cell_type": "markdown",
   "metadata": {},
   "source": [
    "### 4.2 Climate policies are ineffective / flawed"
   ]
  },
  {
   "cell_type": "code",
   "execution_count": 49,
   "metadata": {},
   "outputs": [
    {
     "name": "stdout",
     "output_type": "stream",
     "text": [
      "Found potentially duplicated files with name 'train_4_2_prepared.jsonl', purpose 'fine-tune' and size 520588 bytes\n",
      "file-clv1WFfd84RgFd9KB5RDmrBS\n",
      "Enter file ID to reuse an already uploaded file, or an empty string to upload this file anyway: ^C\n",
      "\n"
     ]
    }
   ],
   "source": [
    "!openai api fine_tunes.create \\\n",
    "    -t ../Classifiers/Data/train_4_2_prepared.jsonl \\\n",
    "        -v ../Classifiers/Data/val_4_2_prepared.jsonl \\\n",
    "            --compute_classification_metrics --classification_positive_class \" 1.0\" \\\n",
    "                -m davinci --suffix \"L2Pcat3_2-e3\" --n_epochs 3"
   ]
  },
  {
   "cell_type": "code",
   "execution_count": 51,
   "metadata": {},
   "outputs": [
    {
     "name": "stdout",
     "output_type": "stream",
     "text": [
      "Created fine-tune: ft-uXoZ9vO3MtMple5ZIIEPGUHd\n",
      "Streaming events until fine-tuning is complete...\n",
      "\n",
      "(Ctrl-C will interrupt the stream, but not cancel the fine-tune)\n",
      "[2023-06-05 12:22:05] Created fine-tune: ft-uXoZ9vO3MtMple5ZIIEPGUHd\n",
      "\n",
      "Stream interrupted (client disconnected).\n",
      "To resume the stream, run:\n",
      "\n",
      "  openai api fine_tunes.follow -i ft-uXoZ9vO3MtMple5ZIIEPGUHd\n",
      "\n"
     ]
    }
   ],
   "source": [
    "# Train classifier for three epochs\n",
    "!openai api fine_tunes.create \\\n",
    "    -t file-clv1WFfd84RgFd9KB5RDmrBS \\\n",
    "        -v  file-2XD8LIpZMnYVddGMkBGuzZCb \\\n",
    "            --compute_classification_metrics --classification_positive_class \" 1.0\" \\\n",
    "                -m davinci --suffix \"L2Pcat3_2-e3\" --n_epochs 3"
   ]
  },
  {
   "cell_type": "code",
   "execution_count": 62,
   "metadata": {},
   "outputs": [
    {
     "name": "stdout",
     "output_type": "stream",
     "text": [
      "[2023-06-05 12:22:05] Created fine-tune: ft-uXoZ9vO3MtMple5ZIIEPGUHd\n",
      "[2023-06-05 12:23:54] Fine-tune costs $9.18\n",
      "[2023-06-05 12:23:54] Fine-tune enqueued. Queue number: 0\n",
      "[2023-06-05 12:44:01] Fine-tune started\n",
      "[2023-06-05 12:56:36] Completed epoch 1/3\n",
      "[2023-06-05 13:16:47] Completed epoch 3/3\n",
      "[2023-06-05 13:17:50] Uploaded model: davinci:ft-university-of-exeter:l2pcat3-2-e3-2023-06-05-12-17-50\n",
      "[2023-06-05 13:17:52] Uploaded result file: file-9pM1WmT5RxTws2RzExzgnZsn\n",
      "[2023-06-05 13:17:52] Fine-tune succeeded\n",
      "\n",
      "Job complete! Status: succeeded 🎉\n",
      "Try out your fine-tuned model:\n",
      "\n",
      "openai api completions.create -m davinci:ft-university-of-exeter:l2pcat3-2-e3-2023-06-05-12-17-50 -p <YOUR_PROMPT>\n"
     ]
    }
   ],
   "source": [
    "! openai api fine_tunes.follow -i ft-uXoZ9vO3MtMple5ZIIEPGUHd"
   ]
  },
  {
   "cell_type": "code",
   "execution_count": 66,
   "metadata": {},
   "outputs": [
    {
     "name": "stdout",
     "output_type": "stream",
     "text": [
      "Created fine-tune: ft-WagWHlPaWwCVzliZwMn2edA6\n",
      "Streaming events until fine-tuning is complete...\n",
      "\n",
      "(Ctrl-C will interrupt the stream, but not cancel the fine-tune)\n",
      "[2023-06-05 13:47:32] Created fine-tune: ft-WagWHlPaWwCVzliZwMn2edA6\n",
      "\n",
      "Stream interrupted (client disconnected).\n",
      "To resume the stream, run:\n",
      "\n",
      "  openai api fine_tunes.follow -i ft-WagWHlPaWwCVzliZwMn2edA6\n",
      "\n"
     ]
    }
   ],
   "source": [
    "# Add one more epoch\n",
    "!openai api fine_tunes.create \\\n",
    "    -t file-clv1WFfd84RgFd9KB5RDmrBS \\\n",
    "        -v  file-2XD8LIpZMnYVddGMkBGuzZCb \\\n",
    "            --compute_classification_metrics --classification_positive_class \" 1.0\" \\\n",
    "                -m davinci:ft-university-of-exeter:l2pcat3-2-e3-2023-06-05-12-17-50 --suffix \"L2Pcat3_2-e4\" --n_epochs=1"
   ]
  },
  {
   "cell_type": "code",
   "execution_count": 72,
   "metadata": {},
   "outputs": [
    {
     "name": "stdout",
     "output_type": "stream",
     "text": [
      "[2023-06-05 13:47:32] Created fine-tune: ft-WagWHlPaWwCVzliZwMn2edA6\n",
      "[2023-06-05 13:49:06] Fine-tune costs $3.06\n",
      "[2023-06-05 13:49:07] Fine-tune enqueued. Queue number: 0\n",
      "[2023-06-05 13:52:12] Fine-tune started\n",
      "[2023-06-05 14:04:19] Completed epoch 1/1\n",
      "[2023-06-05 14:05:28] Uploaded model: davinci:ft-university-of-exeter:l2pcat3-2-e4-2023-06-05-13-05-28\n",
      "[2023-06-05 14:05:29] Uploaded result file: file-H3Kj1xiweoOz1fkP9jc0WRUi\n",
      "[2023-06-05 14:05:29] Fine-tune succeeded\n",
      "\n",
      "Job complete! Status: succeeded 🎉\n",
      "Try out your fine-tuned model:\n",
      "\n",
      "openai api completions.create -m davinci:ft-university-of-exeter:l2pcat3-2-e4-2023-06-05-13-05-28 -p <YOUR_PROMPT>\n"
     ]
    }
   ],
   "source": [
    "! openai api fine_tunes.follow -i ft-WagWHlPaWwCVzliZwMn2edA6"
   ]
  },
  {
   "cell_type": "code",
   "execution_count": null,
   "metadata": {},
   "outputs": [],
   "source": [
    "# # Add one more epoch\n",
    "# !openai api fine_tunes.create \\\n",
    "\n",
    "\n",
    "#             --compute_classification_metrics --classification_positive_class \" 1.0\" \\\n",
    "#                 -m ada:ft-university-of-exeter-2023-06-01-14-30-56 --suffix \"L2Pcat3_2-e5\" --n_epochs=1"
   ]
  },
  {
   "cell_type": "code",
   "execution_count": null,
   "metadata": {},
   "outputs": [],
   "source": [
    "# Models\n",
    "\n",
    "# epoch 1-3\n",
    "ft-uXoZ9vO3MtMple5ZIIEPGUHd\n",
    "# epoch 4\n",
    "ft-WagWHlPaWwCVzliZwMn2edA6\n",
    "# epoch 5"
   ]
  },
  {
   "attachments": {},
   "cell_type": "markdown",
   "metadata": {},
   "source": [
    "### 4.3-4.6 Other reasons against policy "
   ]
  },
  {
   "cell_type": "code",
   "execution_count": 20,
   "metadata": {},
   "outputs": [],
   "source": [
    "# !openai api fine_tunes.create \\\n",
    "#     -t ../Classifiers/Data/train_4_3456_prepared.jsonl \\\n",
    "#         -v ../Classifiers/Data/val_4_3456_prepared.jsonl \\\n",
    "#             --compute_classification_metrics --classification_positive_class \" 1.0\" \\\n",
    "#                 -m davinci --suffix \"L2Pcat3_3456-e3\" --n_epochs 3"
   ]
  },
  {
   "cell_type": "code",
   "execution_count": 19,
   "metadata": {},
   "outputs": [
    {
     "name": "stdout",
     "output_type": "stream",
     "text": [
      "Created fine-tune: ft-odHGXVgPpdYxVRnHG1EgTKjq\n",
      "Streaming events until fine-tuning is complete...\n",
      "\n",
      "(Ctrl-C will interrupt the stream, but not cancel the fine-tune)\n",
      "[2023-06-03 10:36:59] Created fine-tune: ft-odHGXVgPpdYxVRnHG1EgTKjq\n",
      "\n",
      "Stream interrupted (client disconnected).\n",
      "To resume the stream, run:\n",
      "\n",
      "  openai api fine_tunes.follow -i ft-odHGXVgPpdYxVRnHG1EgTKjq\n",
      "\n"
     ]
    }
   ],
   "source": [
    "# Train classifier for three epochs\n",
    "!openai api fine_tunes.create \\\n",
    "    -t file-4zNTzjAXb0zo3haRrxi18aJj \\\n",
    "        -v file-EPSjYjwUPScBSKC7iIjZKE1t \\\n",
    "            --compute_classification_metrics --classification_positive_class \" 1.0\" \\\n",
    "                -m davinci --suffix \"L2Pcat3_3456-e3\" --n_epochs 3"
   ]
  },
  {
   "cell_type": "code",
   "execution_count": 25,
   "metadata": {},
   "outputs": [
    {
     "name": "stdout",
     "output_type": "stream",
     "text": [
      "[2023-06-03 10:36:59] Created fine-tune: ft-odHGXVgPpdYxVRnHG1EgTKjq\n",
      "[2023-06-03 10:48:14] Fine-tune costs $9.18\n",
      "[2023-06-03 10:48:14] Fine-tune enqueued. Queue number: 0\n",
      "[2023-06-03 10:48:16] Fine-tune started\n",
      "[2023-06-03 11:01:01] Completed epoch 1/3\n",
      "[2023-06-03 11:21:18] Completed epoch 3/3\n",
      "[2023-06-03 11:22:25] Uploaded model: davinci:ft-university-of-exeter:l2pcat3-3456-e3-2023-06-03-10-22-24\n",
      "[2023-06-03 11:22:26] Uploaded result file: file-nCpGtu8K3P7N0rNDcJnPcbXU\n",
      "[2023-06-03 11:22:27] Fine-tune succeeded\n",
      "\n",
      "Job complete! Status: succeeded 🎉\n",
      "Try out your fine-tuned model:\n",
      "\n",
      "openai api completions.create -m davinci:ft-university-of-exeter:l2pcat3-3456-e3-2023-06-03-10-22-24 -p <YOUR_PROMPT>\n"
     ]
    }
   ],
   "source": [
    "! openai api fine_tunes.follow -i ft-odHGXVgPpdYxVRnHG1EgTKjq"
   ]
  },
  {
   "cell_type": "code",
   "execution_count": 36,
   "metadata": {},
   "outputs": [
    {
     "name": "stdout",
     "output_type": "stream",
     "text": [
      "Created fine-tune: ft-yK4GWEwOx9FoK0fQ7ubZaiCW\n",
      "Streaming events until fine-tuning is complete...\n",
      "\n",
      "(Ctrl-C will interrupt the stream, but not cancel the fine-tune)\n",
      "[2023-06-03 11:29:36] Created fine-tune: ft-yK4GWEwOx9FoK0fQ7ubZaiCW\n",
      "\n",
      "Stream interrupted (client disconnected).\n",
      "To resume the stream, run:\n",
      "\n",
      "  openai api fine_tunes.follow -i ft-yK4GWEwOx9FoK0fQ7ubZaiCW\n",
      "\n"
     ]
    }
   ],
   "source": [
    "# Add one more epoch\n",
    "!openai api fine_tunes.create \\\n",
    "    -t file-4zNTzjAXb0zo3haRrxi18aJj \\\n",
    "        -v file-EPSjYjwUPScBSKC7iIjZKE1t \\\n",
    "            --compute_classification_metrics --classification_positive_class \" 1.0\" \\\n",
    "                -m davinci:ft-university-of-exeter:l2pcat3-3456-e3-2023-06-03-10-22-24 --suffix \"L2Pcat3_3456-e4\" --n_epochs=1"
   ]
  },
  {
   "cell_type": "code",
   "execution_count": 37,
   "metadata": {},
   "outputs": [
    {
     "name": "stdout",
     "output_type": "stream",
     "text": [
      "[2023-06-03 11:29:36] Created fine-tune: ft-yK4GWEwOx9FoK0fQ7ubZaiCW\n",
      "[2023-06-03 11:31:06] Fine-tune costs $3.06\n",
      "[2023-06-03 11:31:06] Fine-tune enqueued. Queue number: 0\n",
      "[2023-06-03 11:31:08] Fine-tune started\n",
      "[2023-06-03 11:43:37] Completed epoch 1/1\n",
      "[2023-06-03 11:44:45] Uploaded model: davinci:ft-university-of-exeter:l2pcat3-3456-e4-2023-06-03-10-44-44\n",
      "[2023-06-03 11:44:46] Uploaded result file: file-7NiNrqIhU2YWqa81bVjNIWZU\n",
      "[2023-06-03 11:44:46] Fine-tune succeeded\n",
      "\n",
      "Job complete! Status: succeeded 🎉\n",
      "Try out your fine-tuned model:\n",
      "\n",
      "openai api completions.create -m davinci:ft-university-of-exeter:l2pcat3-3456-e4-2023-06-03-10-44-44 -p <YOUR_PROMPT>\n"
     ]
    }
   ],
   "source": [
    "! openai api fine_tunes.follow -i ft-yK4GWEwOx9FoK0fQ7ubZaiCW"
   ]
  },
  {
   "cell_type": "code",
   "execution_count": 41,
   "metadata": {},
   "outputs": [
    {
     "name": "stdout",
     "output_type": "stream",
     "text": [
      "Created fine-tune: ft-JtwazKbn6e5Ax7HMTLGaKpFt\n",
      "Streaming events until fine-tuning is complete...\n",
      "\n",
      "(Ctrl-C will interrupt the stream, but not cancel the fine-tune)\n",
      "[2023-06-03 12:15:11] Created fine-tune: ft-JtwazKbn6e5Ax7HMTLGaKpFt\n",
      "\n",
      "Stream interrupted (client disconnected).\n",
      "To resume the stream, run:\n",
      "\n",
      "  openai api fine_tunes.follow -i ft-JtwazKbn6e5Ax7HMTLGaKpFt\n",
      "\n"
     ]
    }
   ],
   "source": [
    "# Add one more epoch\n",
    "!openai api fine_tunes.create \\\n",
    "    -t file-4zNTzjAXb0zo3haRrxi18aJj \\\n",
    "        -v file-EPSjYjwUPScBSKC7iIjZKE1t \\\n",
    "            --compute_classification_metrics --classification_positive_class \" 1.0\" \\\n",
    "                -m davinci:ft-university-of-exeter:l2pcat3-3456-e4-2023-06-03-10-44-44 --suffix \"L2Pcat3_3456-e5\" --n_epochs=1"
   ]
  },
  {
   "cell_type": "code",
   "execution_count": 43,
   "metadata": {},
   "outputs": [
    {
     "name": "stdout",
     "output_type": "stream",
     "text": [
      "[2023-06-03 12:15:11] Created fine-tune: ft-JtwazKbn6e5Ax7HMTLGaKpFt\n",
      "[2023-06-03 12:17:27] Fine-tune costs $3.06\n",
      "[2023-06-03 12:17:27] Fine-tune enqueued. Queue number: 0\n",
      "[2023-06-03 12:17:29] Fine-tune started\n",
      "[2023-06-03 12:29:50] Completed epoch 1/1\n",
      "[2023-06-03 12:30:56] Uploaded model: davinci:ft-university-of-exeter:l2pcat3-3456-e5-2023-06-03-11-30-56\n",
      "[2023-06-03 12:30:57] Uploaded result file: file-JsnKecwyn5TPE0NDi8IQ6MdQ\n",
      "[2023-06-03 12:30:58] Fine-tune succeeded\n",
      "\n",
      "Job complete! Status: succeeded 🎉\n",
      "Try out your fine-tuned model:\n",
      "\n",
      "openai api completions.create -m davinci:ft-university-of-exeter:l2pcat3-3456-e5-2023-06-03-11-30-56 -p <YOUR_PROMPT>\n"
     ]
    }
   ],
   "source": [
    "! openai api fine_tunes.follow -i ft-JtwazKbn6e5Ax7HMTLGaKpFt"
   ]
  },
  {
   "cell_type": "code",
   "execution_count": null,
   "metadata": {},
   "outputs": [],
   "source": [
    "# Models\n",
    "\n",
    "# epoch 1-3\n",
    "# ft-odHGXVgPpdYxVRnHG1EgTKjq\n",
    "# epoch 4\n",
    "# ft-yK4GWEwOx9FoK0fQ7ubZaiCW\n",
    "# epoch 5\n",
    "# ft-JtwazKbn6e5Ax7HMTLGaKpFt"
   ]
  },
  {
   "attachments": {},
   "cell_type": "markdown",
   "metadata": {},
   "source": [
    "## Results"
   ]
  },
  {
   "attachments": {},
   "cell_type": "markdown",
   "metadata": {},
   "source": [
    "### 4.1 Climate policies are harmful"
   ]
  },
  {
   "cell_type": "code",
   "execution_count": 55,
   "metadata": {},
   "outputs": [
    {
     "name": "stdout",
     "output_type": "stream",
     "text": [
      "[2023-06-03 10:12:30] Created fine-tune: ft-Oox7yboe9YS2aaDWok6EjquB\n",
      "[2023-06-03 10:14:39] Fine-tune costs $9.18\n",
      "[2023-06-03 10:14:39] Fine-tune enqueued. Queue number: 0\n",
      "[2023-06-03 10:14:41] Fine-tune started\n",
      "[2023-06-03 10:26:53] Completed epoch 1/3\n",
      "[2023-06-03 10:47:09] Completed epoch 3/3\n",
      "[2023-06-03 10:48:10] Uploaded model: davinci:ft-university-of-exeter:l2pcat3-e3-2023-06-03-09-48-10\n",
      "[2023-06-03 10:48:12] Uploaded result file: file-OC5JlaIXxT8rLH0qgiwL8ulX\n",
      "[2023-06-03 10:48:12] Fine-tune succeeded\n",
      "\n",
      "Job complete! Status: succeeded 🎉\n",
      "Try out your fine-tuned model:\n",
      "\n",
      "openai api completions.create -m davinci:ft-university-of-exeter:l2pcat3-e3-2023-06-03-09-48-10 -p <YOUR_PROMPT>\n"
     ]
    }
   ],
   "source": [
    "!openai api fine_tunes.follow -i ft-Oox7yboe9YS2aaDWok6EjquB\n",
    "!openai api fine_tunes.results -i ft-Oox7yboe9YS2aaDWok6EjquB > ../Classifiers/Results/result_4_1_davinci_1.csv"
   ]
  },
  {
   "cell_type": "code",
   "execution_count": 56,
   "metadata": {},
   "outputs": [
    {
     "data": {
      "text/html": [
       "<div>\n",
       "<style scoped>\n",
       "    .dataframe tbody tr th:only-of-type {\n",
       "        vertical-align: middle;\n",
       "    }\n",
       "\n",
       "    .dataframe tbody tr th {\n",
       "        vertical-align: top;\n",
       "    }\n",
       "\n",
       "    .dataframe thead th {\n",
       "        text-align: right;\n",
       "    }\n",
       "</style>\n",
       "<table border=\"1\" class=\"dataframe\">\n",
       "  <thead>\n",
       "    <tr style=\"text-align: right;\">\n",
       "      <th></th>\n",
       "      <th>LLM</th>\n",
       "      <th>claim</th>\n",
       "      <th>classification/accuracy</th>\n",
       "      <th>classification/precision</th>\n",
       "      <th>classification/recall</th>\n",
       "      <th>classification/auroc</th>\n",
       "      <th>classification/auprc</th>\n",
       "      <th>classification/f1.0</th>\n",
       "    </tr>\n",
       "  </thead>\n",
       "  <tbody>\n",
       "    <tr>\n",
       "      <th>1773</th>\n",
       "      <td>davinci</td>\n",
       "      <td>4_1</td>\n",
       "      <td>0.905138</td>\n",
       "      <td>0.78125</td>\n",
       "      <td>0.833333</td>\n",
       "      <td>0.951727</td>\n",
       "      <td>0.879309</td>\n",
       "      <td>0.806452</td>\n",
       "    </tr>\n",
       "  </tbody>\n",
       "</table>\n",
       "</div>"
      ],
      "text/plain": [
       "          LLM claim  classification/accuracy  classification/precision  \\\n",
       "1773  davinci   4_1                 0.905138                   0.78125   \n",
       "\n",
       "      classification/recall  classification/auroc  classification/auprc  \\\n",
       "1773               0.833333              0.951727              0.879309   \n",
       "\n",
       "      classification/f1.0  \n",
       "1773             0.806452  "
      ]
     },
     "execution_count": 56,
     "metadata": {},
     "output_type": "execute_result"
    }
   ],
   "source": [
    "results_4_1 = pd.read_csv('../Classifiers/Results/result_4_1_davinci_1.csv')\n",
    "results_4_1.insert(9, 'claim', '4_1' )\n",
    "results_4_1.insert(9, 'LLM', 'davinci')\n",
    "results_4_1[results_4_1['classification/accuracy'].notnull()].iloc[:,9:17].tail(1)"
   ]
  },
  {
   "cell_type": "code",
   "execution_count": 57,
   "metadata": {},
   "outputs": [
    {
     "name": "stdout",
     "output_type": "stream",
     "text": [
      "[2023-06-05 11:36:02] Created fine-tune: ft-FuRrol8pulk9GLgSqZqHivn2\n",
      "[2023-06-05 11:37:53] Fine-tune costs $3.06\n",
      "[2023-06-05 11:37:54] Fine-tune enqueued. Queue number: 1\n",
      "[2023-06-05 11:38:43] Fine-tune is in the queue. Queue number: 0\n",
      "[2023-06-05 11:39:27] Fine-tune started\n",
      "[2023-06-05 11:52:26] Completed epoch 1/1\n",
      "[2023-06-05 11:53:35] Uploaded model: davinci:ft-university-of-exeter:l2pcat3-e4-2023-06-05-10-53-34\n",
      "[2023-06-05 11:53:36] Uploaded result file: file-bLBLcw59YdDkimhwNaq6dMPm\n",
      "[2023-06-05 11:53:36] Fine-tune succeeded\n",
      "\n",
      "Job complete! Status: succeeded 🎉\n",
      "Try out your fine-tuned model:\n",
      "\n",
      "openai api completions.create -m davinci:ft-university-of-exeter:l2pcat3-e4-2023-06-05-10-53-34 -p <YOUR_PROMPT>\n"
     ]
    }
   ],
   "source": [
    "!openai api fine_tunes.follow -i ft-FuRrol8pulk9GLgSqZqHivn2\n",
    "!openai api fine_tunes.results -i ft-FuRrol8pulk9GLgSqZqHivn2 > ../Classifiers/Results/result_4_1_davinci_1_epoch4.csv"
   ]
  },
  {
   "cell_type": "code",
   "execution_count": 58,
   "metadata": {},
   "outputs": [
    {
     "name": "stderr",
     "output_type": "stream",
     "text": [
      "/var/folders/np/jbf6hhl91dl0nv07jvzslzl00000gn/T/ipykernel_66243/3034398601.py:5: FutureWarning: The frame.append method is deprecated and will be removed from pandas in a future version. Use pandas.concat instead.\n",
      "  results_4_1 = results_4_1.append(results_4_1_epoch4).reset_index(drop=True)\n"
     ]
    },
    {
     "data": {
      "text/html": [
       "<div>\n",
       "<style scoped>\n",
       "    .dataframe tbody tr th:only-of-type {\n",
       "        vertical-align: middle;\n",
       "    }\n",
       "\n",
       "    .dataframe tbody tr th {\n",
       "        vertical-align: top;\n",
       "    }\n",
       "\n",
       "    .dataframe thead th {\n",
       "        text-align: right;\n",
       "    }\n",
       "</style>\n",
       "<table border=\"1\" class=\"dataframe\">\n",
       "  <thead>\n",
       "    <tr style=\"text-align: right;\">\n",
       "      <th></th>\n",
       "      <th>LLM</th>\n",
       "      <th>claim</th>\n",
       "      <th>classification/accuracy</th>\n",
       "      <th>classification/precision</th>\n",
       "      <th>classification/recall</th>\n",
       "      <th>classification/auroc</th>\n",
       "      <th>classification/auprc</th>\n",
       "      <th>classification/f1.0</th>\n",
       "    </tr>\n",
       "  </thead>\n",
       "  <tbody>\n",
       "    <tr>\n",
       "      <th>2365</th>\n",
       "      <td>davinci</td>\n",
       "      <td>4_1</td>\n",
       "      <td>0.897233</td>\n",
       "      <td>0.774194</td>\n",
       "      <td>0.8</td>\n",
       "      <td>0.947453</td>\n",
       "      <td>0.853717</td>\n",
       "      <td>0.786885</td>\n",
       "    </tr>\n",
       "  </tbody>\n",
       "</table>\n",
       "</div>"
      ],
      "text/plain": [
       "          LLM claim  classification/accuracy  classification/precision  \\\n",
       "2365  davinci   4_1                 0.897233                  0.774194   \n",
       "\n",
       "      classification/recall  classification/auroc  classification/auprc  \\\n",
       "2365                    0.8              0.947453              0.853717   \n",
       "\n",
       "      classification/f1.0  \n",
       "2365             0.786885  "
      ]
     },
     "execution_count": 58,
     "metadata": {},
     "output_type": "execute_result"
    }
   ],
   "source": [
    "results_4_1_epoch4 = pd.read_csv('../Classifiers/Results/result_4_1_davinci_1_epoch4.csv')\n",
    "results_4_1_epoch4.insert(9, 'claim', '4_1' )\n",
    "results_4_1_epoch4.insert(9, 'LLM', 'davinci')\n",
    "results_4_1_epoch4.step = results_4_1_epoch4.step + max(results_4_1.step)\n",
    "results_4_1 = results_4_1.append(results_4_1_epoch4).reset_index(drop=True)\n",
    "results_4_1[results_4_1['classification/accuracy'].notnull()].iloc[:,9:17].tail(1)"
   ]
  },
  {
   "cell_type": "code",
   "execution_count": 59,
   "metadata": {},
   "outputs": [
    {
     "data": {
      "text/plain": [
       "<AxesSubplot: >"
      ]
     },
     "execution_count": 59,
     "metadata": {},
     "output_type": "execute_result"
    },
    {
     "data": {
      "image/png": "[encoded data removed]",
      "text/plain": [
       "<Figure size 640x480 with 1 Axes>"
      ]
     },
     "metadata": {},
     "output_type": "display_data"
    }
   ],
   "source": [
    "results_4_1[results_4_1['classification/precision'].notnull()]['classification/precision'].plot()\n",
    "results_4_1[results_4_1['classification/recall'].notnull()]['classification/recall'].plot()\n",
    "results_4_1[results_4_1['classification/f1.0'].notnull()]['classification/f1.0'].plot()"
   ]
  },
  {
   "cell_type": "code",
   "execution_count": null,
   "metadata": {},
   "outputs": [],
   "source": [
    "# >>> Best model: davinci:ft-university-of-exeter:l2pcat3-e3-2023-06-03-09-48-10 (3 epochs)"
   ]
  },
  {
   "cell_type": "code",
   "execution_count": 77,
   "metadata": {},
   "outputs": [
    {
     "data": {
      "text/html": [
       "<div>\n",
       "<style scoped>\n",
       "    .dataframe tbody tr th:only-of-type {\n",
       "        vertical-align: middle;\n",
       "    }\n",
       "\n",
       "    .dataframe tbody tr th {\n",
       "        vertical-align: top;\n",
       "    }\n",
       "\n",
       "    .dataframe thead th {\n",
       "        text-align: right;\n",
       "    }\n",
       "</style>\n",
       "<table border=\"1\" class=\"dataframe\">\n",
       "  <thead>\n",
       "    <tr style=\"text-align: right;\">\n",
       "      <th></th>\n",
       "      <th>predicted_probabilities</th>\n",
       "      <th>predicted_label</th>\n",
       "    </tr>\n",
       "  </thead>\n",
       "  <tbody>\n",
       "    <tr>\n",
       "      <th>0</th>\n",
       "      <td>{' 1': -6.9740973, ' 0': -0.00094137463}</td>\n",
       "      <td>0</td>\n",
       "    </tr>\n",
       "    <tr>\n",
       "      <th>1</th>\n",
       "      <td>{'0': -10.2131815, ' 0': -5.037998e-05}</td>\n",
       "      <td>0</td>\n",
       "    </tr>\n",
       "    <tr>\n",
       "      <th>2</th>\n",
       "      <td>{' 1': -11.6817465, ' 0': -1.5448071e-05}</td>\n",
       "      <td>0</td>\n",
       "    </tr>\n",
       "    <tr>\n",
       "      <th>3</th>\n",
       "      <td>{' 1': -11.0698185, ' 0': -5.1930627e-05}</td>\n",
       "      <td>0</td>\n",
       "    </tr>\n",
       "    <tr>\n",
       "      <th>4</th>\n",
       "      <td>{' 1': -6.279108, ' 0': -0.0018981381}</td>\n",
       "      <td>0</td>\n",
       "    </tr>\n",
       "    <tr>\n",
       "      <th>...</th>\n",
       "      <td>...</td>\n",
       "      <td>...</td>\n",
       "    </tr>\n",
       "    <tr>\n",
       "      <th>248</th>\n",
       "      <td>{'0': -10.729309, ' 0': -4.2631407e-05}</td>\n",
       "      <td>0</td>\n",
       "    </tr>\n",
       "    <tr>\n",
       "      <th>249</th>\n",
       "      <td>{' 1': -0.8343851, ' 0': -0.56965667}</td>\n",
       "      <td>0</td>\n",
       "    </tr>\n",
       "    <tr>\n",
       "      <th>250</th>\n",
       "      <td>{'0': -10.934892, ' 0': -2.4272329e-05}</td>\n",
       "      <td>0</td>\n",
       "    </tr>\n",
       "    <tr>\n",
       "      <th>251</th>\n",
       "      <td>{' 1': -1.6810936, ' 0': -0.20618276}</td>\n",
       "      <td>0</td>\n",
       "    </tr>\n",
       "    <tr>\n",
       "      <th>252</th>\n",
       "      <td>{' 1': -7.124244e-05, ' 2': -11.054754}</td>\n",
       "      <td>1</td>\n",
       "    </tr>\n",
       "  </tbody>\n",
       "</table>\n",
       "<p>253 rows × 2 columns</p>\n",
       "</div>"
      ],
      "text/plain": [
       "                       predicted_probabilities predicted_label\n",
       "0     {' 1': -6.9740973, ' 0': -0.00094137463}               0\n",
       "1      {'0': -10.2131815, ' 0': -5.037998e-05}               0\n",
       "2    {' 1': -11.6817465, ' 0': -1.5448071e-05}               0\n",
       "3    {' 1': -11.0698185, ' 0': -5.1930627e-05}               0\n",
       "4       {' 1': -6.279108, ' 0': -0.0018981381}               0\n",
       "..                                         ...             ...\n",
       "248    {'0': -10.729309, ' 0': -4.2631407e-05}               0\n",
       "249      {' 1': -0.8343851, ' 0': -0.56965667}               0\n",
       "250    {'0': -10.934892, ' 0': -2.4272329e-05}               0\n",
       "251      {' 1': -1.6810936, ' 0': -0.20618276}               0\n",
       "252    {' 1': -7.124244e-05, ' 2': -11.054754}               1\n",
       "\n",
       "[253 rows x 2 columns]"
      ]
     },
     "execution_count": 77,
     "metadata": {},
     "output_type": "execute_result"
    }
   ],
   "source": [
    "ft_model_4_1 = 'davinci:ft-university-of-exeter:l2pcat3-e3-2023-06-03-09-48-10'\n",
    "\n",
    "predicted_probabilities_4_1 = []\n",
    "predicted_label_4_1 = []\n",
    "for i in val.text:\n",
    "    result = openai.Completion.create(model=ft_model_4_1, prompt=i + ' ->', max_tokens=1, temperature=0, logprobs=2)\n",
    "    predicted_probabilities_4_1.append(result['choices'][0]['logprobs']['top_logprobs'][0])\n",
    "    predicted_label_4_1.append(result['choices'][0]['text'])\n",
    "\n",
    "predictions_4_1 = pd.DataFrame(zip(predicted_probabilities_4_1, predicted_label_4_1), columns=['predicted_probabilities', 'predicted_label'])\n",
    "\n",
    "predictions_4_1"
   ]
  },
  {
   "attachments": {},
   "cell_type": "markdown",
   "metadata": {},
   "source": [
    "### 4.2 Climate policies are ineffective / flawed"
   ]
  },
  {
   "cell_type": "code",
   "execution_count": 63,
   "metadata": {},
   "outputs": [
    {
     "name": "stdout",
     "output_type": "stream",
     "text": [
      "[2023-06-05 12:22:05] Created fine-tune: ft-uXoZ9vO3MtMple5ZIIEPGUHd\n",
      "[2023-06-05 12:23:54] Fine-tune costs $9.18\n",
      "[2023-06-05 12:23:54] Fine-tune enqueued. Queue number: 0\n",
      "[2023-06-05 12:44:01] Fine-tune started\n",
      "[2023-06-05 12:56:36] Completed epoch 1/3\n",
      "[2023-06-05 13:16:47] Completed epoch 3/3\n",
      "[2023-06-05 13:17:50] Uploaded model: davinci:ft-university-of-exeter:l2pcat3-2-e3-2023-06-05-12-17-50\n",
      "[2023-06-05 13:17:52] Uploaded result file: file-9pM1WmT5RxTws2RzExzgnZsn\n",
      "[2023-06-05 13:17:52] Fine-tune succeeded\n",
      "\n",
      "Job complete! Status: succeeded 🎉\n",
      "Try out your fine-tuned model:\n",
      "\n",
      "openai api completions.create -m davinci:ft-university-of-exeter:l2pcat3-2-e3-2023-06-05-12-17-50 -p <YOUR_PROMPT>\n"
     ]
    }
   ],
   "source": [
    "!openai api fine_tunes.follow -i ft-uXoZ9vO3MtMple5ZIIEPGUHd\n",
    "!openai api fine_tunes.results -i ft-uXoZ9vO3MtMple5ZIIEPGUHd > ../Classifiers/Results/result_4_2_davinci_1.csv"
   ]
  },
  {
   "cell_type": "code",
   "execution_count": 64,
   "metadata": {},
   "outputs": [
    {
     "data": {
      "text/html": [
       "<div>\n",
       "<style scoped>\n",
       "    .dataframe tbody tr th:only-of-type {\n",
       "        vertical-align: middle;\n",
       "    }\n",
       "\n",
       "    .dataframe tbody tr th {\n",
       "        vertical-align: top;\n",
       "    }\n",
       "\n",
       "    .dataframe thead th {\n",
       "        text-align: right;\n",
       "    }\n",
       "</style>\n",
       "<table border=\"1\" class=\"dataframe\">\n",
       "  <thead>\n",
       "    <tr style=\"text-align: right;\">\n",
       "      <th></th>\n",
       "      <th>LLM</th>\n",
       "      <th>claim</th>\n",
       "      <th>classification/accuracy</th>\n",
       "      <th>classification/precision</th>\n",
       "      <th>classification/recall</th>\n",
       "      <th>classification/auroc</th>\n",
       "      <th>classification/auprc</th>\n",
       "      <th>classification/f1.0</th>\n",
       "    </tr>\n",
       "  </thead>\n",
       "  <tbody>\n",
       "    <tr>\n",
       "      <th>1772</th>\n",
       "      <td>davinci</td>\n",
       "      <td>4_2</td>\n",
       "      <td>0.952569</td>\n",
       "      <td>0.777778</td>\n",
       "      <td>0.777778</td>\n",
       "      <td>0.930842</td>\n",
       "      <td>0.747945</td>\n",
       "      <td>0.777778</td>\n",
       "    </tr>\n",
       "  </tbody>\n",
       "</table>\n",
       "</div>"
      ],
      "text/plain": [
       "          LLM claim  classification/accuracy  classification/precision  \\\n",
       "1772  davinci   4_2                 0.952569                  0.777778   \n",
       "\n",
       "      classification/recall  classification/auroc  classification/auprc  \\\n",
       "1772               0.777778              0.930842              0.747945   \n",
       "\n",
       "      classification/f1.0  \n",
       "1772             0.777778  "
      ]
     },
     "execution_count": 64,
     "metadata": {},
     "output_type": "execute_result"
    }
   ],
   "source": [
    "results_4_2 = pd.read_csv('../Classifiers/Results/result_4_2_davinci_1.csv')\n",
    "results_4_2.insert(9, 'claim', '4_2' )\n",
    "results_4_2.insert(9, 'LLM', 'davinci')\n",
    "results_4_2[results_4_2['classification/accuracy'].notnull()].iloc[:,9:17].tail(1)"
   ]
  },
  {
   "cell_type": "code",
   "execution_count": 73,
   "metadata": {},
   "outputs": [
    {
     "name": "stdout",
     "output_type": "stream",
     "text": [
      "[2023-06-05 13:47:32] Created fine-tune: ft-WagWHlPaWwCVzliZwMn2edA6\n",
      "[2023-06-05 13:49:06] Fine-tune costs $3.06\n",
      "[2023-06-05 13:49:07] Fine-tune enqueued. Queue number: 0\n",
      "[2023-06-05 13:52:12] Fine-tune started\n",
      "[2023-06-05 14:04:19] Completed epoch 1/1\n",
      "[2023-06-05 14:05:28] Uploaded model: davinci:ft-university-of-exeter:l2pcat3-2-e4-2023-06-05-13-05-28\n",
      "[2023-06-05 14:05:29] Uploaded result file: file-H3Kj1xiweoOz1fkP9jc0WRUi\n",
      "[2023-06-05 14:05:29] Fine-tune succeeded\n",
      "\n",
      "Job complete! Status: succeeded 🎉\n",
      "Try out your fine-tuned model:\n",
      "\n",
      "openai api completions.create -m davinci:ft-university-of-exeter:l2pcat3-2-e4-2023-06-05-13-05-28 -p <YOUR_PROMPT>\n"
     ]
    }
   ],
   "source": [
    "!openai api fine_tunes.follow -i ft-WagWHlPaWwCVzliZwMn2edA6\n",
    "!openai api fine_tunes.results -i ft-WagWHlPaWwCVzliZwMn2edA6 > ../Classifiers/Results/result_4_2_davinci_1_epoch4.csv"
   ]
  },
  {
   "cell_type": "code",
   "execution_count": 75,
   "metadata": {},
   "outputs": [
    {
     "name": "stderr",
     "output_type": "stream",
     "text": [
      "/var/folders/np/jbf6hhl91dl0nv07jvzslzl00000gn/T/ipykernel_66243/3219098953.py:5: FutureWarning: The frame.append method is deprecated and will be removed from pandas in a future version. Use pandas.concat instead.\n",
      "  results_4_2 = results_4_2.append(results_4_2_epoch4).reset_index(drop=True)\n"
     ]
    },
    {
     "data": {
      "text/html": [
       "<div>\n",
       "<style scoped>\n",
       "    .dataframe tbody tr th:only-of-type {\n",
       "        vertical-align: middle;\n",
       "    }\n",
       "\n",
       "    .dataframe tbody tr th {\n",
       "        vertical-align: top;\n",
       "    }\n",
       "\n",
       "    .dataframe thead th {\n",
       "        text-align: right;\n",
       "    }\n",
       "</style>\n",
       "<table border=\"1\" class=\"dataframe\">\n",
       "  <thead>\n",
       "    <tr style=\"text-align: right;\">\n",
       "      <th></th>\n",
       "      <th>LLM</th>\n",
       "      <th>claim</th>\n",
       "      <th>classification/accuracy</th>\n",
       "      <th>classification/precision</th>\n",
       "      <th>classification/recall</th>\n",
       "      <th>classification/auroc</th>\n",
       "      <th>classification/auprc</th>\n",
       "      <th>classification/f1.0</th>\n",
       "    </tr>\n",
       "  </thead>\n",
       "  <tbody>\n",
       "    <tr>\n",
       "      <th>2364</th>\n",
       "      <td>davinci</td>\n",
       "      <td>4_3456</td>\n",
       "      <td>0.940711</td>\n",
       "      <td>0.714286</td>\n",
       "      <td>0.740741</td>\n",
       "      <td>0.934612</td>\n",
       "      <td>0.710402</td>\n",
       "      <td>0.727273</td>\n",
       "    </tr>\n",
       "  </tbody>\n",
       "</table>\n",
       "</div>"
      ],
      "text/plain": [
       "          LLM   claim  classification/accuracy  classification/precision  \\\n",
       "2364  davinci  4_3456                 0.940711                  0.714286   \n",
       "\n",
       "      classification/recall  classification/auroc  classification/auprc  \\\n",
       "2364               0.740741              0.934612              0.710402   \n",
       "\n",
       "      classification/f1.0  \n",
       "2364             0.727273  "
      ]
     },
     "execution_count": 75,
     "metadata": {},
     "output_type": "execute_result"
    }
   ],
   "source": [
    "results_4_2_epoch4 = pd.read_csv('../Classifiers/Results/result_4_2_davinci_1_epoch4.csv')\n",
    "results_4_2_epoch4.insert(9, 'claim', '4_3456' )\n",
    "results_4_2_epoch4.insert(9, 'LLM', 'davinci')\n",
    "results_4_2_epoch4.step = results_4_2_epoch4.step + max(results_4_2.step)\n",
    "results_4_2 = results_4_2.append(results_4_2_epoch4).reset_index(drop=True)\n",
    "results_4_2[results_4_2['classification/accuracy'].notnull()].iloc[:,9:17].tail(1)"
   ]
  },
  {
   "cell_type": "code",
   "execution_count": 76,
   "metadata": {},
   "outputs": [
    {
     "data": {
      "text/plain": [
       "<AxesSubplot: >"
      ]
     },
     "execution_count": 76,
     "metadata": {},
     "output_type": "execute_result"
    },
    {
     "data": {
      "image/png": "[encoded data removed]",
      "text/plain": [
       "<Figure size 640x480 with 1 Axes>"
      ]
     },
     "metadata": {},
     "output_type": "display_data"
    }
   ],
   "source": [
    "results_4_2[results_4_2['classification/precision'].notnull()]['classification/precision'].plot()\n",
    "results_4_2[results_4_2['classification/recall'].notnull()]['classification/recall'].plot()\n",
    "results_4_2[results_4_2['classification/f1.0'].notnull()]['classification/f1.0'].plot()"
   ]
  },
  {
   "cell_type": "code",
   "execution_count": null,
   "metadata": {},
   "outputs": [],
   "source": [
    "# >>> Best model: davinci:ft-university-of-exeter:l2pcat3-2-e3-2023-06-05-12-17-50 (3 epochs)"
   ]
  },
  {
   "cell_type": "code",
   "execution_count": 78,
   "metadata": {},
   "outputs": [
    {
     "data": {
      "text/html": [
       "<div>\n",
       "<style scoped>\n",
       "    .dataframe tbody tr th:only-of-type {\n",
       "        vertical-align: middle;\n",
       "    }\n",
       "\n",
       "    .dataframe tbody tr th {\n",
       "        vertical-align: top;\n",
       "    }\n",
       "\n",
       "    .dataframe thead th {\n",
       "        text-align: right;\n",
       "    }\n",
       "</style>\n",
       "<table border=\"1\" class=\"dataframe\">\n",
       "  <thead>\n",
       "    <tr style=\"text-align: right;\">\n",
       "      <th></th>\n",
       "      <th>predicted_probabilities</th>\n",
       "      <th>predicted_label</th>\n",
       "    </tr>\n",
       "  </thead>\n",
       "  <tbody>\n",
       "    <tr>\n",
       "      <th>0</th>\n",
       "      <td>{'0': -11.036954, ' 0': -1.676031e-05}</td>\n",
       "      <td>0</td>\n",
       "    </tr>\n",
       "    <tr>\n",
       "      <th>1</th>\n",
       "      <td>{'0': -9.337851, ' 0': -9.0318645e-05}</td>\n",
       "      <td>0</td>\n",
       "    </tr>\n",
       "    <tr>\n",
       "      <th>2</th>\n",
       "      <td>{'0': -9.8015995, ' 0': -5.5385808e-05}</td>\n",
       "      <td>0</td>\n",
       "    </tr>\n",
       "    <tr>\n",
       "      <th>3</th>\n",
       "      <td>{'0': -8.05194, ' 0': -0.000319663}</td>\n",
       "      <td>0</td>\n",
       "    </tr>\n",
       "    <tr>\n",
       "      <th>4</th>\n",
       "      <td>{' 1': -0.46537226, ' 0': -0.9887983}</td>\n",
       "      <td>1</td>\n",
       "    </tr>\n",
       "    <tr>\n",
       "      <th>...</th>\n",
       "      <td>...</td>\n",
       "      <td>...</td>\n",
       "    </tr>\n",
       "    <tr>\n",
       "      <th>248</th>\n",
       "      <td>{'0': -8.306153, ' 0': -0.00026087437}</td>\n",
       "      <td>0</td>\n",
       "    </tr>\n",
       "    <tr>\n",
       "      <th>249</th>\n",
       "      <td>{' 1': -2.0358036, ' 0': -0.13996017}</td>\n",
       "      <td>0</td>\n",
       "    </tr>\n",
       "    <tr>\n",
       "      <th>250</th>\n",
       "      <td>{'0': -8.49618, ' 0': -0.0002121687}</td>\n",
       "      <td>0</td>\n",
       "    </tr>\n",
       "    <tr>\n",
       "      <th>251</th>\n",
       "      <td>{' 1': -9.118754, ' 0': -0.00012930272}</td>\n",
       "      <td>0</td>\n",
       "    </tr>\n",
       "    <tr>\n",
       "      <th>252</th>\n",
       "      <td>{' 1': -0.123824775, ' 0': -2.150665}</td>\n",
       "      <td>1</td>\n",
       "    </tr>\n",
       "  </tbody>\n",
       "</table>\n",
       "<p>253 rows × 2 columns</p>\n",
       "</div>"
      ],
      "text/plain": [
       "                     predicted_probabilities predicted_label\n",
       "0     {'0': -11.036954, ' 0': -1.676031e-05}               0\n",
       "1     {'0': -9.337851, ' 0': -9.0318645e-05}               0\n",
       "2    {'0': -9.8015995, ' 0': -5.5385808e-05}               0\n",
       "3        {'0': -8.05194, ' 0': -0.000319663}               0\n",
       "4      {' 1': -0.46537226, ' 0': -0.9887983}               1\n",
       "..                                       ...             ...\n",
       "248   {'0': -8.306153, ' 0': -0.00026087437}               0\n",
       "249    {' 1': -2.0358036, ' 0': -0.13996017}               0\n",
       "250     {'0': -8.49618, ' 0': -0.0002121687}               0\n",
       "251  {' 1': -9.118754, ' 0': -0.00012930272}               0\n",
       "252    {' 1': -0.123824775, ' 0': -2.150665}               1\n",
       "\n",
       "[253 rows x 2 columns]"
      ]
     },
     "execution_count": 78,
     "metadata": {},
     "output_type": "execute_result"
    }
   ],
   "source": [
    "ft_model_4_2 = 'davinci:ft-university-of-exeter:l2pcat3-2-e3-2023-06-05-12-17-50'\n",
    "\n",
    "predicted_probabilities_4_2 = []\n",
    "predicted_label_4_2 = []\n",
    "for i in val.text:\n",
    "    result = openai.Completion.create(model=ft_model_4_2, prompt=i + ' ->', max_tokens=1, temperature=0, logprobs=2)\n",
    "    predicted_probabilities_4_2.append(result['choices'][0]['logprobs']['top_logprobs'][0])\n",
    "    predicted_label_4_2.append(result['choices'][0]['text'])\n",
    "\n",
    "predictions_4_2 = pd.DataFrame(zip(predicted_probabilities_4_2, predicted_label_4_2), columns=['predicted_probabilities', 'predicted_label'])\n",
    "\n",
    "predictions_4_2"
   ]
  },
  {
   "attachments": {},
   "cell_type": "markdown",
   "metadata": {},
   "source": [
    "### 4.3-4.6 Other reasons against policy "
   ]
  },
  {
   "cell_type": "code",
   "execution_count": 29,
   "metadata": {},
   "outputs": [
    {
     "name": "stdout",
     "output_type": "stream",
     "text": [
      "[2023-06-03 10:36:59] Created fine-tune: ft-odHGXVgPpdYxVRnHG1EgTKjq\n",
      "[2023-06-03 10:48:14] Fine-tune costs $9.18\n",
      "[2023-06-03 10:48:14] Fine-tune enqueued. Queue number: 0\n",
      "[2023-06-03 10:48:16] Fine-tune started\n",
      "[2023-06-03 11:01:01] Completed epoch 1/3\n",
      "[2023-06-03 11:21:18] Completed epoch 3/3\n",
      "[2023-06-03 11:22:25] Uploaded model: davinci:ft-university-of-exeter:l2pcat3-3456-e3-2023-06-03-10-22-24\n",
      "[2023-06-03 11:22:26] Uploaded result file: file-nCpGtu8K3P7N0rNDcJnPcbXU\n",
      "[2023-06-03 11:22:27] Fine-tune succeeded\n",
      "\n",
      "Job complete! Status: succeeded 🎉\n",
      "Try out your fine-tuned model:\n",
      "\n",
      "openai api completions.create -m davinci:ft-university-of-exeter:l2pcat3-3456-e3-2023-06-03-10-22-24 -p <YOUR_PROMPT>\n"
     ]
    }
   ],
   "source": [
    "!openai api fine_tunes.follow -i ft-odHGXVgPpdYxVRnHG1EgTKjq\n",
    "!openai api fine_tunes.results -i ft-odHGXVgPpdYxVRnHG1EgTKjq > ../Classifiers/Results/result_4_3456_davinci_1.csv"
   ]
  },
  {
   "cell_type": "code",
   "execution_count": 30,
   "metadata": {},
   "outputs": [
    {
     "data": {
      "text/html": [
       "<div>\n",
       "<style scoped>\n",
       "    .dataframe tbody tr th:only-of-type {\n",
       "        vertical-align: middle;\n",
       "    }\n",
       "\n",
       "    .dataframe tbody tr th {\n",
       "        vertical-align: top;\n",
       "    }\n",
       "\n",
       "    .dataframe thead th {\n",
       "        text-align: right;\n",
       "    }\n",
       "</style>\n",
       "<table border=\"1\" class=\"dataframe\">\n",
       "  <thead>\n",
       "    <tr style=\"text-align: right;\">\n",
       "      <th></th>\n",
       "      <th>LLM</th>\n",
       "      <th>claim</th>\n",
       "      <th>classification/accuracy</th>\n",
       "      <th>classification/precision</th>\n",
       "      <th>classification/recall</th>\n",
       "      <th>classification/auroc</th>\n",
       "      <th>classification/auprc</th>\n",
       "      <th>classification/f1.0</th>\n",
       "    </tr>\n",
       "  </thead>\n",
       "  <tbody>\n",
       "    <tr>\n",
       "      <th>1773</th>\n",
       "      <td>davinci</td>\n",
       "      <td>4_3456</td>\n",
       "      <td>0.865613</td>\n",
       "      <td>0.53125</td>\n",
       "      <td>0.472222</td>\n",
       "      <td>0.871096</td>\n",
       "      <td>0.524044</td>\n",
       "      <td>0.5</td>\n",
       "    </tr>\n",
       "  </tbody>\n",
       "</table>\n",
       "</div>"
      ],
      "text/plain": [
       "          LLM   claim  classification/accuracy  classification/precision  \\\n",
       "1773  davinci  4_3456                 0.865613                   0.53125   \n",
       "\n",
       "      classification/recall  classification/auroc  classification/auprc  \\\n",
       "1773               0.472222              0.871096              0.524044   \n",
       "\n",
       "      classification/f1.0  \n",
       "1773                  0.5  "
      ]
     },
     "execution_count": 30,
     "metadata": {},
     "output_type": "execute_result"
    }
   ],
   "source": [
    "results_4_3456 = pd.read_csv('../Classifiers/Results/result_4_3456_davinci_1.csv')\n",
    "results_4_3456.insert(9, 'claim', '4_3456' )\n",
    "results_4_3456.insert(9, 'LLM', 'davinci')\n",
    "results_4_3456[results_4_3456['classification/accuracy'].notnull()].iloc[:,9:17].tail(1)"
   ]
  },
  {
   "cell_type": "code",
   "execution_count": 38,
   "metadata": {},
   "outputs": [
    {
     "name": "stdout",
     "output_type": "stream",
     "text": [
      "[2023-06-03 11:29:36] Created fine-tune: ft-yK4GWEwOx9FoK0fQ7ubZaiCW\n",
      "[2023-06-03 11:31:06] Fine-tune costs $3.06\n",
      "[2023-06-03 11:31:06] Fine-tune enqueued. Queue number: 0\n",
      "[2023-06-03 11:31:08] Fine-tune started\n",
      "[2023-06-03 11:43:37] Completed epoch 1/1\n",
      "[2023-06-03 11:44:45] Uploaded model: davinci:ft-university-of-exeter:l2pcat3-3456-e4-2023-06-03-10-44-44\n",
      "[2023-06-03 11:44:46] Uploaded result file: file-7NiNrqIhU2YWqa81bVjNIWZU\n",
      "[2023-06-03 11:44:46] Fine-tune succeeded\n",
      "\n",
      "Job complete! Status: succeeded 🎉\n",
      "Try out your fine-tuned model:\n",
      "\n",
      "openai api completions.create -m davinci:ft-university-of-exeter:l2pcat3-3456-e4-2023-06-03-10-44-44 -p <YOUR_PROMPT>\n"
     ]
    }
   ],
   "source": [
    "!openai api fine_tunes.follow -i ft-yK4GWEwOx9FoK0fQ7ubZaiCW\n",
    "!openai api fine_tunes.results -i ft-yK4GWEwOx9FoK0fQ7ubZaiCW > ../Classifiers/Results/result_4_3456_davinci_1_epoch4.csv"
   ]
  },
  {
   "cell_type": "code",
   "execution_count": 39,
   "metadata": {},
   "outputs": [
    {
     "name": "stderr",
     "output_type": "stream",
     "text": [
      "/var/folders/np/jbf6hhl91dl0nv07jvzslzl00000gn/T/ipykernel_66243/3548520175.py:5: FutureWarning: The frame.append method is deprecated and will be removed from pandas in a future version. Use pandas.concat instead.\n",
      "  results_4_3456 = results_4_3456.append(results_4_3456_epoch4).reset_index(drop=True)\n"
     ]
    },
    {
     "data": {
      "text/html": [
       "<div>\n",
       "<style scoped>\n",
       "    .dataframe tbody tr th:only-of-type {\n",
       "        vertical-align: middle;\n",
       "    }\n",
       "\n",
       "    .dataframe tbody tr th {\n",
       "        vertical-align: top;\n",
       "    }\n",
       "\n",
       "    .dataframe thead th {\n",
       "        text-align: right;\n",
       "    }\n",
       "</style>\n",
       "<table border=\"1\" class=\"dataframe\">\n",
       "  <thead>\n",
       "    <tr style=\"text-align: right;\">\n",
       "      <th></th>\n",
       "      <th>LLM</th>\n",
       "      <th>claim</th>\n",
       "      <th>classification/accuracy</th>\n",
       "      <th>classification/precision</th>\n",
       "      <th>classification/recall</th>\n",
       "      <th>classification/auroc</th>\n",
       "      <th>classification/auprc</th>\n",
       "      <th>classification/f1.0</th>\n",
       "    </tr>\n",
       "  </thead>\n",
       "  <tbody>\n",
       "    <tr>\n",
       "      <th>2365</th>\n",
       "      <td>davinci</td>\n",
       "      <td>4_3456</td>\n",
       "      <td>0.889328</td>\n",
       "      <td>0.633333</td>\n",
       "      <td>0.527778</td>\n",
       "      <td>0.878648</td>\n",
       "      <td>0.580337</td>\n",
       "      <td>0.575758</td>\n",
       "    </tr>\n",
       "  </tbody>\n",
       "</table>\n",
       "</div>"
      ],
      "text/plain": [
       "          LLM   claim  classification/accuracy  classification/precision  \\\n",
       "2365  davinci  4_3456                 0.889328                  0.633333   \n",
       "\n",
       "      classification/recall  classification/auroc  classification/auprc  \\\n",
       "2365               0.527778              0.878648              0.580337   \n",
       "\n",
       "      classification/f1.0  \n",
       "2365             0.575758  "
      ]
     },
     "execution_count": 39,
     "metadata": {},
     "output_type": "execute_result"
    }
   ],
   "source": [
    "results_4_3456_epoch4 = pd.read_csv('../Classifiers/Results/result_4_3456_davinci_1_epoch4.csv')\n",
    "results_4_3456_epoch4.insert(9, 'claim', '4_3456' )\n",
    "results_4_3456_epoch4.insert(9, 'LLM', 'davinci')\n",
    "results_4_3456_epoch4.step = results_4_3456_epoch4.step + max(results_4_3456.step)\n",
    "results_4_3456 = results_4_3456.append(results_4_3456_epoch4).reset_index(drop=True)\n",
    "results_4_3456[results_4_3456['classification/accuracy'].notnull()].iloc[:,9:17].tail(1)"
   ]
  },
  {
   "cell_type": "code",
   "execution_count": 44,
   "metadata": {},
   "outputs": [
    {
     "name": "stdout",
     "output_type": "stream",
     "text": [
      "[2023-06-03 12:15:11] Created fine-tune: ft-JtwazKbn6e5Ax7HMTLGaKpFt\n",
      "[2023-06-03 12:17:27] Fine-tune costs $3.06\n",
      "[2023-06-03 12:17:27] Fine-tune enqueued. Queue number: 0\n",
      "[2023-06-03 12:17:29] Fine-tune started\n",
      "[2023-06-03 12:29:50] Completed epoch 1/1\n",
      "[2023-06-03 12:30:56] Uploaded model: davinci:ft-university-of-exeter:l2pcat3-3456-e5-2023-06-03-11-30-56\n",
      "[2023-06-03 12:30:57] Uploaded result file: file-JsnKecwyn5TPE0NDi8IQ6MdQ\n",
      "[2023-06-03 12:30:58] Fine-tune succeeded\n",
      "\n",
      "Job complete! Status: succeeded 🎉\n",
      "Try out your fine-tuned model:\n",
      "\n",
      "openai api completions.create -m davinci:ft-university-of-exeter:l2pcat3-3456-e5-2023-06-03-11-30-56 -p <YOUR_PROMPT>\n"
     ]
    }
   ],
   "source": [
    "! openai api fine_tunes.follow -i ft-JtwazKbn6e5Ax7HMTLGaKpFt\n",
    "! openai api fine_tunes.results -i ft-JtwazKbn6e5Ax7HMTLGaKpFt > ../Classifiers/Results/result_4_3456_davinci_1_epoch5.csv"
   ]
  },
  {
   "cell_type": "code",
   "execution_count": 45,
   "metadata": {},
   "outputs": [
    {
     "name": "stderr",
     "output_type": "stream",
     "text": [
      "/var/folders/np/jbf6hhl91dl0nv07jvzslzl00000gn/T/ipykernel_66243/2471579726.py:5: FutureWarning: The frame.append method is deprecated and will be removed from pandas in a future version. Use pandas.concat instead.\n",
      "  results_4_3456 = results_4_3456.append(results_4_3456_epoch5).reset_index(drop=True)\n"
     ]
    },
    {
     "data": {
      "text/html": [
       "<div>\n",
       "<style scoped>\n",
       "    .dataframe tbody tr th:only-of-type {\n",
       "        vertical-align: middle;\n",
       "    }\n",
       "\n",
       "    .dataframe tbody tr th {\n",
       "        vertical-align: top;\n",
       "    }\n",
       "\n",
       "    .dataframe thead th {\n",
       "        text-align: right;\n",
       "    }\n",
       "</style>\n",
       "<table border=\"1\" class=\"dataframe\">\n",
       "  <thead>\n",
       "    <tr style=\"text-align: right;\">\n",
       "      <th></th>\n",
       "      <th>LLM</th>\n",
       "      <th>claim</th>\n",
       "      <th>classification/accuracy</th>\n",
       "      <th>classification/precision</th>\n",
       "      <th>classification/recall</th>\n",
       "      <th>classification/auroc</th>\n",
       "      <th>classification/auprc</th>\n",
       "      <th>classification/f1.0</th>\n",
       "    </tr>\n",
       "  </thead>\n",
       "  <tbody>\n",
       "    <tr>\n",
       "      <th>2957</th>\n",
       "      <td>davinci</td>\n",
       "      <td>4_3456</td>\n",
       "      <td>0.857708</td>\n",
       "      <td>0.5</td>\n",
       "      <td>0.444444</td>\n",
       "      <td>0.887225</td>\n",
       "      <td>0.557334</td>\n",
       "      <td>0.470588</td>\n",
       "    </tr>\n",
       "  </tbody>\n",
       "</table>\n",
       "</div>"
      ],
      "text/plain": [
       "          LLM   claim  classification/accuracy  classification/precision  \\\n",
       "2957  davinci  4_3456                 0.857708                       0.5   \n",
       "\n",
       "      classification/recall  classification/auroc  classification/auprc  \\\n",
       "2957               0.444444              0.887225              0.557334   \n",
       "\n",
       "      classification/f1.0  \n",
       "2957             0.470588  "
      ]
     },
     "execution_count": 45,
     "metadata": {},
     "output_type": "execute_result"
    }
   ],
   "source": [
    "results_4_3456_epoch5 = pd.read_csv('../Classifiers/Results/result_4_3456_davinci_1_epoch5.csv')\n",
    "results_4_3456_epoch5.insert(9, 'claim', '4_3456' )\n",
    "results_4_3456_epoch5.insert(9, 'LLM', 'davinci')\n",
    "results_4_3456_epoch5.step = results_4_3456_epoch5.step + max(results_4_3456.step)\n",
    "results_4_3456 = results_4_3456.append(results_4_3456_epoch5).reset_index(drop=True)\n",
    "results_4_3456[results_4_3456['classification/accuracy'].notnull()].iloc[:,9:17].tail(1)"
   ]
  },
  {
   "cell_type": "code",
   "execution_count": 46,
   "metadata": {},
   "outputs": [
    {
     "data": {
      "text/plain": [
       "<AxesSubplot: >"
      ]
     },
     "execution_count": 46,
     "metadata": {},
     "output_type": "execute_result"
    },
    {
     "data": {
      "image/png": "[encoded data removed]",
      "text/plain": [
       "<Figure size 640x480 with 1 Axes>"
      ]
     },
     "metadata": {},
     "output_type": "display_data"
    }
   ],
   "source": [
    "results_4_3456[results_4_3456['classification/precision'].notnull()]['classification/precision'].plot()\n",
    "results_4_3456[results_4_3456['classification/recall'].notnull()]['classification/recall'].plot()\n",
    "results_4_3456[results_4_3456['classification/f1.0'].notnull()]['classification/f1.0'].plot()"
   ]
  },
  {
   "cell_type": "code",
   "execution_count": 60,
   "metadata": {},
   "outputs": [],
   "source": [
    "# >>> Best model: davinci:ft-university-of-exeter:l2pcat3-3456-e4-2023-06-03-10-44-44 (4 epochs)"
   ]
  },
  {
   "cell_type": "code",
   "execution_count": 79,
   "metadata": {},
   "outputs": [
    {
     "data": {
      "text/html": [
       "<div>\n",
       "<style scoped>\n",
       "    .dataframe tbody tr th:only-of-type {\n",
       "        vertical-align: middle;\n",
       "    }\n",
       "\n",
       "    .dataframe tbody tr th {\n",
       "        vertical-align: top;\n",
       "    }\n",
       "\n",
       "    .dataframe thead th {\n",
       "        text-align: right;\n",
       "    }\n",
       "</style>\n",
       "<table border=\"1\" class=\"dataframe\">\n",
       "  <thead>\n",
       "    <tr style=\"text-align: right;\">\n",
       "      <th></th>\n",
       "      <th>predicted_probabilities</th>\n",
       "      <th>predicted_label</th>\n",
       "    </tr>\n",
       "  </thead>\n",
       "  <tbody>\n",
       "    <tr>\n",
       "      <th>0</th>\n",
       "      <td>{' 1': -0.0002903283, ' 0': -8.189293}</td>\n",
       "      <td>1</td>\n",
       "    </tr>\n",
       "    <tr>\n",
       "      <th>1</th>\n",
       "      <td>{'0': -11.528332, ' 0': -1.771398e-05}</td>\n",
       "      <td>0</td>\n",
       "    </tr>\n",
       "    <tr>\n",
       "      <th>2</th>\n",
       "      <td>{'0': -14.272926, ' 0': -1.022884e-06}</td>\n",
       "      <td>0</td>\n",
       "    </tr>\n",
       "    <tr>\n",
       "      <th>3</th>\n",
       "      <td>{' 1': -0.0004975345, ' 0': -7.656167}</td>\n",
       "      <td>1</td>\n",
       "    </tr>\n",
       "    <tr>\n",
       "      <th>4</th>\n",
       "      <td>{'0': -13.970338, ' 0': -1.8601542e-06}</td>\n",
       "      <td>0</td>\n",
       "    </tr>\n",
       "    <tr>\n",
       "      <th>...</th>\n",
       "      <td>...</td>\n",
       "      <td>...</td>\n",
       "    </tr>\n",
       "    <tr>\n",
       "      <th>248</th>\n",
       "      <td>{'0': -13.045104, ' 0': -2.693682e-06}</td>\n",
       "      <td>0</td>\n",
       "    </tr>\n",
       "    <tr>\n",
       "      <th>249</th>\n",
       "      <td>{' 1': -12.367308, ' 0': -5.79217e-06}</td>\n",
       "      <td>0</td>\n",
       "    </tr>\n",
       "    <tr>\n",
       "      <th>250</th>\n",
       "      <td>{'0': -12.72806, ' 0': -4.1232483e-06}</td>\n",
       "      <td>0</td>\n",
       "    </tr>\n",
       "    <tr>\n",
       "      <th>251</th>\n",
       "      <td>{' 1': -0.14578271, ' 0': -1.9978602}</td>\n",
       "      <td>1</td>\n",
       "    </tr>\n",
       "    <tr>\n",
       "      <th>252</th>\n",
       "      <td>{' 1': -2.6606522, ' 0': -0.07246803}</td>\n",
       "      <td>0</td>\n",
       "    </tr>\n",
       "  </tbody>\n",
       "</table>\n",
       "<p>253 rows × 2 columns</p>\n",
       "</div>"
      ],
      "text/plain": [
       "                     predicted_probabilities predicted_label\n",
       "0     {' 1': -0.0002903283, ' 0': -8.189293}               1\n",
       "1     {'0': -11.528332, ' 0': -1.771398e-05}               0\n",
       "2     {'0': -14.272926, ' 0': -1.022884e-06}               0\n",
       "3     {' 1': -0.0004975345, ' 0': -7.656167}               1\n",
       "4    {'0': -13.970338, ' 0': -1.8601542e-06}               0\n",
       "..                                       ...             ...\n",
       "248   {'0': -13.045104, ' 0': -2.693682e-06}               0\n",
       "249   {' 1': -12.367308, ' 0': -5.79217e-06}               0\n",
       "250   {'0': -12.72806, ' 0': -4.1232483e-06}               0\n",
       "251    {' 1': -0.14578271, ' 0': -1.9978602}               1\n",
       "252    {' 1': -2.6606522, ' 0': -0.07246803}               0\n",
       "\n",
       "[253 rows x 2 columns]"
      ]
     },
     "execution_count": 79,
     "metadata": {},
     "output_type": "execute_result"
    }
   ],
   "source": [
    "ft_model_4_3 = 'davinci:ft-university-of-exeter:l2pcat3-3456-e4-2023-06-03-10-44-44'\n",
    "\n",
    "predicted_probabilities_4_3 = []\n",
    "predicted_label_4_3 = []\n",
    "for i in val.text:\n",
    "    result = openai.Completion.create(model=ft_model_4_3, prompt=i + ' ->', max_tokens=1, temperature=0, logprobs=2)\n",
    "    predicted_probabilities_4_3.append(result['choices'][0]['logprobs']['top_logprobs'][0])\n",
    "    predicted_label_4_3.append(result['choices'][0]['text'])\n",
    "\n",
    "predictions_4_3 = pd.DataFrame(zip(predicted_probabilities_4_3, predicted_label_4_3), columns=['predicted_probabilities', 'predicted_label'])\n",
    "\n",
    "predictions_4_3"
   ]
  },
  {
   "attachments": {},
   "cell_type": "markdown",
   "metadata": {},
   "source": [
    "## Summary"
   ]
  },
  {
   "cell_type": "code",
   "execution_count": 81,
   "metadata": {},
   "outputs": [
    {
     "data": {
      "text/html": [
       "<div>\n",
       "<style scoped>\n",
       "    .dataframe tbody tr th:only-of-type {\n",
       "        vertical-align: middle;\n",
       "    }\n",
       "\n",
       "    .dataframe tbody tr th {\n",
       "        vertical-align: top;\n",
       "    }\n",
       "\n",
       "    .dataframe thead th {\n",
       "        text-align: right;\n",
       "    }\n",
       "</style>\n",
       "<table border=\"1\" class=\"dataframe\">\n",
       "  <thead>\n",
       "    <tr style=\"text-align: right;\">\n",
       "      <th></th>\n",
       "      <th>LLM</th>\n",
       "      <th>claim</th>\n",
       "      <th>classification/accuracy</th>\n",
       "      <th>classification/precision</th>\n",
       "      <th>classification/recall</th>\n",
       "      <th>classification/auroc</th>\n",
       "      <th>classification/auprc</th>\n",
       "      <th>classification/f1.0</th>\n",
       "    </tr>\n",
       "  </thead>\n",
       "  <tbody>\n",
       "    <tr>\n",
       "      <th>0</th>\n",
       "      <td>davinci</td>\n",
       "      <td>4_1</td>\n",
       "      <td>0.897233</td>\n",
       "      <td>0.774194</td>\n",
       "      <td>0.800000</td>\n",
       "      <td>0.947453</td>\n",
       "      <td>0.853717</td>\n",
       "      <td>0.786885</td>\n",
       "    </tr>\n",
       "    <tr>\n",
       "      <th>1</th>\n",
       "      <td>davinci</td>\n",
       "      <td>4_3456</td>\n",
       "      <td>0.940711</td>\n",
       "      <td>0.714286</td>\n",
       "      <td>0.740741</td>\n",
       "      <td>0.934612</td>\n",
       "      <td>0.710402</td>\n",
       "      <td>0.727273</td>\n",
       "    </tr>\n",
       "    <tr>\n",
       "      <th>2</th>\n",
       "      <td>davinci</td>\n",
       "      <td>4_3456</td>\n",
       "      <td>0.857708</td>\n",
       "      <td>0.500000</td>\n",
       "      <td>0.444444</td>\n",
       "      <td>0.887225</td>\n",
       "      <td>0.557334</td>\n",
       "      <td>0.470588</td>\n",
       "    </tr>\n",
       "  </tbody>\n",
       "</table>\n",
       "</div>"
      ],
      "text/plain": [
       "       LLM   claim  classification/accuracy  classification/precision  \\\n",
       "0  davinci     4_1                 0.897233                  0.774194   \n",
       "1  davinci  4_3456                 0.940711                  0.714286   \n",
       "2  davinci  4_3456                 0.857708                  0.500000   \n",
       "\n",
       "   classification/recall  classification/auroc  classification/auprc  \\\n",
       "0               0.800000              0.947453              0.853717   \n",
       "1               0.740741              0.934612              0.710402   \n",
       "2               0.444444              0.887225              0.557334   \n",
       "\n",
       "   classification/f1.0  \n",
       "0             0.786885  \n",
       "1             0.727273  \n",
       "2             0.470588  "
      ]
     },
     "execution_count": 81,
     "metadata": {},
     "output_type": "execute_result"
    }
   ],
   "source": [
    "pd.concat([results_4_1[results_4_1['classification/accuracy'].notnull()].iloc[:,9:17].tail(1),\n",
    "           results_4_2[results_4_2['classification/accuracy'].notnull()].iloc[:,9:17].tail(1),\n",
    "           results_4_3456[results_4_3456['classification/accuracy'].notnull()].iloc[:,9:17].tail(1)]).reset_index(drop=True)"
   ]
  },
  {
   "cell_type": "code",
   "execution_count": 82,
   "metadata": {},
   "outputs": [],
   "source": [
    "# Multi-hot encode the labels\n",
    "val['predicted_labels_davinci'] = pd.concat([predictions_4_1.predicted_label.apply(lambda x: re.findall(r'\\d+', x)[0]).astype(int),\n",
    "                                             predictions_4_2.predicted_label.apply(lambda x: re.findall(r'\\d+', x)[0]).astype(int),\n",
    "                                             predictions_4_3.predicted_label.apply(lambda x: re.findall(r'\\d+', x)[0]).astype(int)], axis=1).values.tolist()"
   ]
  },
  {
   "cell_type": "code",
   "execution_count": 83,
   "metadata": {},
   "outputs": [
    {
     "name": "stdout",
     "output_type": "stream",
     "text": [
      "Classification performance\n",
      "-------------------\n",
      "              precision    recall  f1-score   support\n",
      "\n",
      "           0       0.78      0.83      0.81        60\n",
      "           1       0.78      0.78      0.78        27\n",
      "           2       0.61      0.53      0.57        36\n",
      "\n",
      "   micro avg       0.74      0.73      0.73       123\n",
      "   macro avg       0.72      0.71      0.72       123\n",
      "weighted avg       0.73      0.73      0.73       123\n",
      " samples avg       0.29      0.29      0.28       123\n",
      "\n",
      "Overall performance\n",
      "-------------------\n",
      "              precision    recall  f1-score   support\n",
      "\n",
      "           0       0.88      0.90      0.89       153\n",
      "           1       0.84      0.81      0.82       100\n",
      "\n",
      "    accuracy                           0.86       253\n",
      "   macro avg       0.86      0.85      0.85       253\n",
      "weighted avg       0.86      0.86      0.86       253\n",
      "\n"
     ]
    },
    {
     "name": "stderr",
     "output_type": "stream",
     "text": [
      "/Users/mn/Library/CloudStorage/OneDrive-UniversityofExeter/Projects/GitHub/.venv/lib/python3.11/site-packages/sklearn/metrics/_classification.py:1344: UndefinedMetricWarning: Precision and F-score are ill-defined and being set to 0.0 in samples with no predicted labels. Use `zero_division` parameter to control this behavior.\n",
      "  _warn_prf(average, modifier, msg_start, len(result))\n",
      "/Users/mn/Library/CloudStorage/OneDrive-UniversityofExeter/Projects/GitHub/.venv/lib/python3.11/site-packages/sklearn/metrics/_classification.py:1344: UndefinedMetricWarning: Recall and F-score are ill-defined and being set to 0.0 in samples with no true labels. Use `zero_division` parameter to control this behavior.\n",
      "  _warn_prf(average, modifier, msg_start, len(result))\n"
     ]
    }
   ],
   "source": [
    "# davinci model results on validation data\n",
    "\n",
    "# Print the classification report\n",
    "print(\"Classification performance\\n-------------------\")\n",
    "print(classification_report(val['labels'].values.tolist(), val['predicted_labels_davinci'].values.tolist()))\n",
    "\n",
    "# Check overall performance\n",
    "# Print the classification report\n",
    "print(\"Overall performance\\n-------------------\")\n",
    "print(classification_report([1 if sum(i)>0 else 0 for i in val['labels']], [1 if sum(i)>0 else 0 for i in val['predicted_labels_davinci']]))"
   ]
  },
  {
   "cell_type": "code",
   "execution_count": 84,
   "metadata": {},
   "outputs": [],
   "source": [
    "# Save the predictions\n",
    "\n",
    "val.to_json(\"../Classifiers/Data/cat_hearings_03_10_val_davinci_labels.json\")"
   ]
  },
  {
   "cell_type": "code",
   "execution_count": 85,
   "metadata": {},
   "outputs": [
    {
     "data": {
      "text/html": [
       "<div>\n",
       "<style scoped>\n",
       "    .dataframe tbody tr th:only-of-type {\n",
       "        vertical-align: middle;\n",
       "    }\n",
       "\n",
       "    .dataframe tbody tr th {\n",
       "        vertical-align: top;\n",
       "    }\n",
       "\n",
       "    .dataframe thead th {\n",
       "        text-align: right;\n",
       "    }\n",
       "</style>\n",
       "<table border=\"1\" class=\"dataframe\">\n",
       "  <thead>\n",
       "    <tr style=\"text-align: right;\">\n",
       "      <th></th>\n",
       "      <th>congress</th>\n",
       "      <th>chamber</th>\n",
       "      <th>committee</th>\n",
       "      <th>committee_short</th>\n",
       "      <th>year</th>\n",
       "      <th>date</th>\n",
       "      <th>title</th>\n",
       "      <th>hearing_id</th>\n",
       "      <th>type</th>\n",
       "      <th>last_name</th>\n",
       "      <th>...</th>\n",
       "      <th>L2policyclaims</th>\n",
       "      <th>L3policyclaims</th>\n",
       "      <th>L4policyclaims</th>\n",
       "      <th>L2policyclaims_multi_hot</th>\n",
       "      <th>labelled</th>\n",
       "      <th>L2dummy_4_45</th>\n",
       "      <th>L2dummy_4_3456</th>\n",
       "      <th>CLAIMS</th>\n",
       "      <th>labels</th>\n",
       "      <th>predicted_labels_davinci</th>\n",
       "    </tr>\n",
       "  </thead>\n",
       "  <tbody>\n",
       "    <tr>\n",
       "      <th>1479</th>\n",
       "      <td>111</td>\n",
       "      <td>SENATE</td>\n",
       "      <td>Committee on Environment and Public Works</td>\n",
       "      <td>Environment and Public Works</td>\n",
       "      <td>2009</td>\n",
       "      <td>2009-10-29</td>\n",
       "      <td>Legislative Hearing on S. 1733, Clean Energy J...</td>\n",
       "      <td>111shrg20183</td>\n",
       "      <td>witness</td>\n",
       "      <td>Cicio</td>\n",
       "      <td>...</td>\n",
       "      <td>[4.6]</td>\n",
       "      <td>[4.6.2]</td>\n",
       "      <td>[0.0]</td>\n",
       "      <td>[1, 0, 0, 0, 0, 0, 1, 0]</td>\n",
       "      <td>True</td>\n",
       "      <td>0</td>\n",
       "      <td>1</td>\n",
       "      <td>[0.0, 0.0, 1.0]</td>\n",
       "      <td>[0, 0, 1]</td>\n",
       "      <td>[0, 0, 1]</td>\n",
       "    </tr>\n",
       "    <tr>\n",
       "      <th>903</th>\n",
       "      <td>111</td>\n",
       "      <td>HOUSE</td>\n",
       "      <td>Committee on Energy and Commerce</td>\n",
       "      <td>Energy and Commerce</td>\n",
       "      <td>2009</td>\n",
       "      <td>2009-02-12</td>\n",
       "      <td>The Climate Crisis: National Security, Public ...</td>\n",
       "      <td>111hhrg63825</td>\n",
       "      <td>witness</td>\n",
       "      <td>Michaels</td>\n",
       "      <td>...</td>\n",
       "      <td>[0.0]</td>\n",
       "      <td>[0.0]</td>\n",
       "      <td>[0.0]</td>\n",
       "      <td>[1, 0, 0, 0, 0, 0, 0, 0]</td>\n",
       "      <td>True</td>\n",
       "      <td>0</td>\n",
       "      <td>0</td>\n",
       "      <td>[0.0, 0.0, 0.0]</td>\n",
       "      <td>[0, 0, 0]</td>\n",
       "      <td>[0, 0, 0]</td>\n",
       "    </tr>\n",
       "    <tr>\n",
       "      <th>803</th>\n",
       "      <td>110</td>\n",
       "      <td>HOUSE</td>\n",
       "      <td>Committee on Energy and Commerce</td>\n",
       "      <td>Energy and Commerce</td>\n",
       "      <td>2008</td>\n",
       "      <td>2008-06-19</td>\n",
       "      <td>Legislative Proposals to Reduce Greenhouse Gas...</td>\n",
       "      <td>110hhrg56980</td>\n",
       "      <td>witness</td>\n",
       "      <td>Kuhn</td>\n",
       "      <td>...</td>\n",
       "      <td>[0.0]</td>\n",
       "      <td>[0.0]</td>\n",
       "      <td>[0.0]</td>\n",
       "      <td>[1, 0, 0, 0, 0, 0, 0, 0]</td>\n",
       "      <td>True</td>\n",
       "      <td>0</td>\n",
       "      <td>0</td>\n",
       "      <td>[0.0, 0.0, 0.0]</td>\n",
       "      <td>[0, 0, 0]</td>\n",
       "      <td>[0, 0, 0]</td>\n",
       "    </tr>\n",
       "    <tr>\n",
       "      <th>664</th>\n",
       "      <td>110</td>\n",
       "      <td>HOUSE</td>\n",
       "      <td>Select Committee on Energy Independence and Gl...</td>\n",
       "      <td>Energy Independence and Global Warming</td>\n",
       "      <td>2007</td>\n",
       "      <td>2007-04-26</td>\n",
       "      <td>Dangerous Climate Change</td>\n",
       "      <td>110hhrg57965</td>\n",
       "      <td>witness</td>\n",
       "      <td>Curry</td>\n",
       "      <td>...</td>\n",
       "      <td>[0.0]</td>\n",
       "      <td>[0.0]</td>\n",
       "      <td>[0.0]</td>\n",
       "      <td>[1, 0, 0, 0, 0, 0, 0, 0]</td>\n",
       "      <td>True</td>\n",
       "      <td>0</td>\n",
       "      <td>0</td>\n",
       "      <td>[0.0, 0.0, 0.0]</td>\n",
       "      <td>[0, 0, 0]</td>\n",
       "      <td>[0, 0, 1]</td>\n",
       "    </tr>\n",
       "    <tr>\n",
       "      <th>1453</th>\n",
       "      <td>111</td>\n",
       "      <td>SENATE</td>\n",
       "      <td>Committee on Environment and Public Works</td>\n",
       "      <td>Environment and Public Works</td>\n",
       "      <td>2009</td>\n",
       "      <td>2009-10-29</td>\n",
       "      <td>Legislative Hearing on S. 1733, Clean Energy J...</td>\n",
       "      <td>111shrg20183</td>\n",
       "      <td>witness</td>\n",
       "      <td>Murray</td>\n",
       "      <td>...</td>\n",
       "      <td>[4.2]</td>\n",
       "      <td>[4.2.5]</td>\n",
       "      <td>[0.0]</td>\n",
       "      <td>[1, 0, 1, 0, 0, 0, 0, 0]</td>\n",
       "      <td>True</td>\n",
       "      <td>0</td>\n",
       "      <td>0</td>\n",
       "      <td>[0.0, 1.0, 0.0]</td>\n",
       "      <td>[0, 1, 0]</td>\n",
       "      <td>[0, 1, 0]</td>\n",
       "    </tr>\n",
       "    <tr>\n",
       "      <th>...</th>\n",
       "      <td>...</td>\n",
       "      <td>...</td>\n",
       "      <td>...</td>\n",
       "      <td>...</td>\n",
       "      <td>...</td>\n",
       "      <td>...</td>\n",
       "      <td>...</td>\n",
       "      <td>...</td>\n",
       "      <td>...</td>\n",
       "      <td>...</td>\n",
       "      <td>...</td>\n",
       "      <td>...</td>\n",
       "      <td>...</td>\n",
       "      <td>...</td>\n",
       "      <td>...</td>\n",
       "      <td>...</td>\n",
       "      <td>...</td>\n",
       "      <td>...</td>\n",
       "      <td>...</td>\n",
       "      <td>...</td>\n",
       "      <td>...</td>\n",
       "    </tr>\n",
       "    <tr>\n",
       "      <th>1632</th>\n",
       "      <td>111</td>\n",
       "      <td>HOUSE</td>\n",
       "      <td>Committee on Science and Technology</td>\n",
       "      <td>Science and Technology</td>\n",
       "      <td>2010</td>\n",
       "      <td>2010-11-17</td>\n",
       "      <td>A Rational Discussion of Climate Change: The S...</td>\n",
       "      <td>111hhrg62618</td>\n",
       "      <td>witness</td>\n",
       "      <td>Lindzen</td>\n",
       "      <td>...</td>\n",
       "      <td>[0.0]</td>\n",
       "      <td>[0.0]</td>\n",
       "      <td>[0.0]</td>\n",
       "      <td>[1, 0, 0, 0, 0, 0, 0, 0]</td>\n",
       "      <td>True</td>\n",
       "      <td>0</td>\n",
       "      <td>0</td>\n",
       "      <td>[0.0, 0.0, 0.0]</td>\n",
       "      <td>[0, 0, 0]</td>\n",
       "      <td>[0, 0, 0]</td>\n",
       "    </tr>\n",
       "    <tr>\n",
       "      <th>1474</th>\n",
       "      <td>111</td>\n",
       "      <td>SENATE</td>\n",
       "      <td>Committee on Environment and Public Works</td>\n",
       "      <td>Environment and Public Works</td>\n",
       "      <td>2009</td>\n",
       "      <td>2009-10-29</td>\n",
       "      <td>Legislative Hearing on S. 1733, Clean Energy J...</td>\n",
       "      <td>111shrg20183</td>\n",
       "      <td>witness</td>\n",
       "      <td>Cicio</td>\n",
       "      <td>...</td>\n",
       "      <td>[4.1, 4.2]</td>\n",
       "      <td>[4.1.1, 4.2.6]</td>\n",
       "      <td>[4.1.1.1]</td>\n",
       "      <td>[0, 1, 1, 0, 0, 0, 0, 0]</td>\n",
       "      <td>True</td>\n",
       "      <td>0</td>\n",
       "      <td>0</td>\n",
       "      <td>[1.0, 1.0, 0.0]</td>\n",
       "      <td>[1, 1, 0]</td>\n",
       "      <td>[0, 0, 0]</td>\n",
       "    </tr>\n",
       "    <tr>\n",
       "      <th>853</th>\n",
       "      <td>110</td>\n",
       "      <td>SENATE</td>\n",
       "      <td>Committee on Environment and Public Works</td>\n",
       "      <td>Environment and Public Works</td>\n",
       "      <td>2008</td>\n",
       "      <td>2008-07-22</td>\n",
       "      <td>An Update on the Science of Global Warming and...</td>\n",
       "      <td>110shrg88902</td>\n",
       "      <td>witness</td>\n",
       "      <td>Spencer</td>\n",
       "      <td>...</td>\n",
       "      <td>[0.0]</td>\n",
       "      <td>[0.0]</td>\n",
       "      <td>[0.0]</td>\n",
       "      <td>[1, 0, 0, 0, 0, 0, 0, 0]</td>\n",
       "      <td>True</td>\n",
       "      <td>0</td>\n",
       "      <td>0</td>\n",
       "      <td>[0.0, 0.0, 0.0]</td>\n",
       "      <td>[0, 0, 0]</td>\n",
       "      <td>[0, 0, 0]</td>\n",
       "    </tr>\n",
       "    <tr>\n",
       "      <th>1682</th>\n",
       "      <td>111</td>\n",
       "      <td>HOUSE</td>\n",
       "      <td>Committee on Science and Technology</td>\n",
       "      <td>Science and Technology</td>\n",
       "      <td>2010</td>\n",
       "      <td>2010-11-17</td>\n",
       "      <td>A Rational Discussion of Climate Change: The S...</td>\n",
       "      <td>111hhrg62618</td>\n",
       "      <td>witness</td>\n",
       "      <td>Curry</td>\n",
       "      <td>...</td>\n",
       "      <td>[0.0]</td>\n",
       "      <td>[0.0]</td>\n",
       "      <td>[0.0]</td>\n",
       "      <td>[1, 0, 0, 0, 0, 0, 0, 0]</td>\n",
       "      <td>True</td>\n",
       "      <td>0</td>\n",
       "      <td>0</td>\n",
       "      <td>[0.0, 0.0, 0.0]</td>\n",
       "      <td>[0, 0, 0]</td>\n",
       "      <td>[0, 0, 1]</td>\n",
       "    </tr>\n",
       "    <tr>\n",
       "      <th>1353</th>\n",
       "      <td>111</td>\n",
       "      <td>SENATE</td>\n",
       "      <td>Committee on Foreign Relations</td>\n",
       "      <td>Foreign Relations</td>\n",
       "      <td>2009</td>\n",
       "      <td>2009-07-08</td>\n",
       "      <td>Industrial Competitiveness Under Climate Polic...</td>\n",
       "      <td>111shrg52910</td>\n",
       "      <td>witness</td>\n",
       "      <td>Lieberman</td>\n",
       "      <td>...</td>\n",
       "      <td>[4.1]</td>\n",
       "      <td>[4.1.1, 4.1.4]</td>\n",
       "      <td>[0.0]</td>\n",
       "      <td>[1, 1, 0, 0, 0, 0, 0, 0]</td>\n",
       "      <td>True</td>\n",
       "      <td>0</td>\n",
       "      <td>0</td>\n",
       "      <td>[1.0, 0.0, 0.0]</td>\n",
       "      <td>[1, 0, 0]</td>\n",
       "      <td>[1, 1, 0]</td>\n",
       "    </tr>\n",
       "  </tbody>\n",
       "</table>\n",
       "<p>253 rows × 181 columns</p>\n",
       "</div>"
      ],
      "text/plain": [
       "      congress chamber                                          committee  \\\n",
       "1479       111  SENATE          Committee on Environment and Public Works   \n",
       "903        111   HOUSE                   Committee on Energy and Commerce   \n",
       "803        110   HOUSE                   Committee on Energy and Commerce   \n",
       "664        110   HOUSE  Select Committee on Energy Independence and Gl...   \n",
       "1453       111  SENATE          Committee on Environment and Public Works   \n",
       "...        ...     ...                                                ...   \n",
       "1632       111   HOUSE                Committee on Science and Technology   \n",
       "1474       111  SENATE          Committee on Environment and Public Works   \n",
       "853        110  SENATE          Committee on Environment and Public Works   \n",
       "1682       111   HOUSE                Committee on Science and Technology   \n",
       "1353       111  SENATE                     Committee on Foreign Relations   \n",
       "\n",
       "                             committee_short  year       date  \\\n",
       "1479            Environment and Public Works  2009 2009-10-29   \n",
       "903                      Energy and Commerce  2009 2009-02-12   \n",
       "803                      Energy and Commerce  2008 2008-06-19   \n",
       "664   Energy Independence and Global Warming  2007 2007-04-26   \n",
       "1453            Environment and Public Works  2009 2009-10-29   \n",
       "...                                      ...   ...        ...   \n",
       "1632                  Science and Technology  2010 2010-11-17   \n",
       "1474            Environment and Public Works  2009 2009-10-29   \n",
       "853             Environment and Public Works  2008 2008-07-22   \n",
       "1682                  Science and Technology  2010 2010-11-17   \n",
       "1353                       Foreign Relations  2009 2009-07-08   \n",
       "\n",
       "                                                  title    hearing_id  \\\n",
       "1479  Legislative Hearing on S. 1733, Clean Energy J...  111shrg20183   \n",
       "903   The Climate Crisis: National Security, Public ...  111hhrg63825   \n",
       "803   Legislative Proposals to Reduce Greenhouse Gas...  110hhrg56980   \n",
       "664                            Dangerous Climate Change  110hhrg57965   \n",
       "1453  Legislative Hearing on S. 1733, Clean Energy J...  111shrg20183   \n",
       "...                                                 ...           ...   \n",
       "1632  A Rational Discussion of Climate Change: The S...  111hhrg62618   \n",
       "1474  Legislative Hearing on S. 1733, Clean Energy J...  111shrg20183   \n",
       "853   An Update on the Science of Global Warming and...  110shrg88902   \n",
       "1682  A Rational Discussion of Climate Change: The S...  111hhrg62618   \n",
       "1353  Industrial Competitiveness Under Climate Polic...  111shrg52910   \n",
       "\n",
       "         type  last_name  ... L2policyclaims  L3policyclaims L4policyclaims  \\\n",
       "1479  witness      Cicio  ...          [4.6]         [4.6.2]          [0.0]   \n",
       "903   witness   Michaels  ...          [0.0]           [0.0]          [0.0]   \n",
       "803   witness       Kuhn  ...          [0.0]           [0.0]          [0.0]   \n",
       "664   witness      Curry  ...          [0.0]           [0.0]          [0.0]   \n",
       "1453  witness     Murray  ...          [4.2]         [4.2.5]          [0.0]   \n",
       "...       ...        ...  ...            ...             ...            ...   \n",
       "1632  witness    Lindzen  ...          [0.0]           [0.0]          [0.0]   \n",
       "1474  witness      Cicio  ...     [4.1, 4.2]  [4.1.1, 4.2.6]      [4.1.1.1]   \n",
       "853   witness    Spencer  ...          [0.0]           [0.0]          [0.0]   \n",
       "1682  witness      Curry  ...          [0.0]           [0.0]          [0.0]   \n",
       "1353  witness  Lieberman  ...          [4.1]  [4.1.1, 4.1.4]          [0.0]   \n",
       "\n",
       "      L2policyclaims_multi_hot labelled L2dummy_4_45 L2dummy_4_3456  \\\n",
       "1479  [1, 0, 0, 0, 0, 0, 1, 0]     True            0              1   \n",
       "903   [1, 0, 0, 0, 0, 0, 0, 0]     True            0              0   \n",
       "803   [1, 0, 0, 0, 0, 0, 0, 0]     True            0              0   \n",
       "664   [1, 0, 0, 0, 0, 0, 0, 0]     True            0              0   \n",
       "1453  [1, 0, 1, 0, 0, 0, 0, 0]     True            0              0   \n",
       "...                        ...      ...          ...            ...   \n",
       "1632  [1, 0, 0, 0, 0, 0, 0, 0]     True            0              0   \n",
       "1474  [0, 1, 1, 0, 0, 0, 0, 0]     True            0              0   \n",
       "853   [1, 0, 0, 0, 0, 0, 0, 0]     True            0              0   \n",
       "1682  [1, 0, 0, 0, 0, 0, 0, 0]     True            0              0   \n",
       "1353  [1, 1, 0, 0, 0, 0, 0, 0]     True            0              0   \n",
       "\n",
       "               CLAIMS     labels  predicted_labels_davinci  \n",
       "1479  [0.0, 0.0, 1.0]  [0, 0, 1]                 [0, 0, 1]  \n",
       "903   [0.0, 0.0, 0.0]  [0, 0, 0]                 [0, 0, 0]  \n",
       "803   [0.0, 0.0, 0.0]  [0, 0, 0]                 [0, 0, 0]  \n",
       "664   [0.0, 0.0, 0.0]  [0, 0, 0]                 [0, 0, 1]  \n",
       "1453  [0.0, 1.0, 0.0]  [0, 1, 0]                 [0, 1, 0]  \n",
       "...               ...        ...                       ...  \n",
       "1632  [0.0, 0.0, 0.0]  [0, 0, 0]                 [0, 0, 0]  \n",
       "1474  [1.0, 1.0, 0.0]  [1, 1, 0]                 [0, 0, 0]  \n",
       "853   [0.0, 0.0, 0.0]  [0, 0, 0]                 [0, 0, 0]  \n",
       "1682  [0.0, 0.0, 0.0]  [0, 0, 0]                 [0, 0, 1]  \n",
       "1353  [1.0, 0.0, 0.0]  [1, 0, 0]                 [1, 1, 0]  \n",
       "\n",
       "[253 rows x 181 columns]"
      ]
     },
     "execution_count": 85,
     "metadata": {},
     "output_type": "execute_result"
    }
   ],
   "source": [
    "val"
   ]
  }
 ],
 "metadata": {
  "interpreter": {
   "hash": "3b138a8faad971cc852f62bcf00f59ea0e31721743ea2c5a866ca26adf572e75"
  },
  "kernelspec": {
   "display_name": "Python 3.7.3 64-bit ('base': conda)",
   "name": "python3"
  },
  "language_info": {
   "codemirror_mode": {
    "name": "ipython",
    "version": 3
   },
   "file_extension": ".py",
   "mimetype": "text/x-python",
   "name": "python",
   "nbconvert_exporter": "python",
   "pygments_lexer": "ipython3",
   "version": "3.11.1"
  },
  "orig_nbformat": 4
 },
 "nbformat": 4,
 "nbformat_minor": 2
}
