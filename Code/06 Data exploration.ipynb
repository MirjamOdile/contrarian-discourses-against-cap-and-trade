{
 "cells": [
  {
   "cell_type": "code",
   "execution_count": 5,
   "metadata": {},
   "outputs": [],
   "source": [
    "import pandas as pd\n",
    "import re\n",
    "import seaborn as sns\n",
    "import numpy as np\n",
    "\n",
    "# Preprocess the text data by removing stopwords, punctuation, and numbers\n",
    "\n",
    "def preprocess_text(text):\n",
    "    text = text.lower()\n",
    "    text = re.sub(r'[^\\w\\s]', '', text)\n",
    "    text = re.sub(r'\\d+', '', text)\n",
    "    text = text.strip()\n",
    "    return text"
   ]
  },
  {
   "cell_type": "code",
   "execution_count": 16,
   "metadata": {},
   "outputs": [
    {
     "data": {
      "text/html": [
       "<div>\n",
       "<style scoped>\n",
       "    .dataframe tbody tr th:only-of-type {\n",
       "        vertical-align: middle;\n",
       "    }\n",
       "\n",
       "    .dataframe tbody tr th {\n",
       "        vertical-align: top;\n",
       "    }\n",
       "\n",
       "    .dataframe thead th {\n",
       "        text-align: right;\n",
       "    }\n",
       "</style>\n",
       "<table border=\"1\" class=\"dataframe\">\n",
       "  <thead>\n",
       "    <tr style=\"text-align: right;\">\n",
       "      <th></th>\n",
       "      <th>congress</th>\n",
       "      <th>chamber</th>\n",
       "      <th>committee</th>\n",
       "      <th>committee_short</th>\n",
       "      <th>year</th>\n",
       "      <th>date</th>\n",
       "      <th>title</th>\n",
       "      <th>hearing_id</th>\n",
       "      <th>type</th>\n",
       "      <th>last_name</th>\n",
       "      <th>...</th>\n",
       "      <th>L4claims</th>\n",
       "      <th>L4claims_multi_hot</th>\n",
       "      <th>L1policyclaims</th>\n",
       "      <th>L2policyclaims</th>\n",
       "      <th>L3policyclaims</th>\n",
       "      <th>L4policyclaims</th>\n",
       "      <th>L2policyclaims_multi_hot</th>\n",
       "      <th>labelled</th>\n",
       "      <th>L2dummy_4_45</th>\n",
       "      <th>L2dummy_4_3456</th>\n",
       "    </tr>\n",
       "  </thead>\n",
       "  <tbody>\n",
       "    <tr>\n",
       "      <th>0</th>\n",
       "      <td>108</td>\n",
       "      <td>SENATE</td>\n",
       "      <td>Committee on Commerce, Science, and Transporta...</td>\n",
       "      <td>Commerce, Science, and Transportation</td>\n",
       "      <td>2003</td>\n",
       "      <td>2003-01-08</td>\n",
       "      <td>Climate Change</td>\n",
       "      <td>108shrg95341</td>\n",
       "      <td>MoC</td>\n",
       "      <td>McCain</td>\n",
       "      <td>...</td>\n",
       "      <td>None</td>\n",
       "      <td>None</td>\n",
       "      <td>NaN</td>\n",
       "      <td>None</td>\n",
       "      <td>None</td>\n",
       "      <td>None</td>\n",
       "      <td>None</td>\n",
       "      <td>False</td>\n",
       "      <td>0.0</td>\n",
       "      <td>0.0</td>\n",
       "    </tr>\n",
       "  </tbody>\n",
       "</table>\n",
       "<p>1 rows × 178 columns</p>\n",
       "</div>"
      ],
      "text/plain": [
       "   congress chamber                                          committee  \\\n",
       "0       108  SENATE  Committee on Commerce, Science, and Transporta...   \n",
       "\n",
       "                         committee_short  year       date           title  \\\n",
       "0  Commerce, Science, and Transportation  2003 2003-01-08  Climate Change   \n",
       "\n",
       "     hearing_id type last_name  ... L4claims  L4claims_multi_hot  \\\n",
       "0  108shrg95341  MoC    McCain  ...     None                None   \n",
       "\n",
       "  L1policyclaims L2policyclaims L3policyclaims L4policyclaims  \\\n",
       "0            NaN           None           None           None   \n",
       "\n",
       "  L2policyclaims_multi_hot labelled L2dummy_4_45  L2dummy_4_3456  \n",
       "0                     None    False          0.0             0.0  \n",
       "\n",
       "[1 rows x 178 columns]"
      ]
     },
     "execution_count": 16,
     "metadata": {},
     "output_type": "execute_result"
    }
   ],
   "source": [
    "# Load the data\n",
    "df = pd.read_json('../Data/cat_hearings_03_10_utterances_witnesses_MoCs_labels.json')\n",
    "# Add a new dummy combining policy claim 4.4 and 4.5\n",
    "df[\"L2dummy_4_45\"] = df.apply(lambda x: [1.0 if i > 0 else 0.0 for i in [x.L2dummy_4_4 + x.L2dummy_4_5]][0], axis = 1)\n",
    "# Add a new dummy combining policy claim 4.3 ,4.4, 4.5 and 4.6\n",
    "df[\"L2dummy_4_3456\"] = df.apply(lambda x: [1.0 if i > 0 else 0.0 for i in [x.L2dummy_4_3 + x.L2dummy_4_4 + x.L2dummy_4_5 + x.L2dummy_4_6]][0], axis = 1)\n",
    "df.head(1)"
   ]
  },
  {
   "cell_type": "code",
   "execution_count": 25,
   "metadata": {},
   "outputs": [],
   "source": [
    "# Subset labelled contrarian witnesse testimonies\n",
    "con = con[con.labelled == True].reset_index(drop=True)"
   ]
  },
  {
   "cell_type": "code",
   "execution_count": null,
   "metadata": {},
   "outputs": [],
   "source": [
    "[i for i in df.keys()]"
   ]
  },
  {
   "cell_type": "code",
   "execution_count": 9,
   "metadata": {},
   "outputs": [
    {
     "data": {
      "text/plain": [
       "<AxesSubplot: >"
      ]
     },
     "execution_count": 9,
     "metadata": {},
     "output_type": "execute_result"
    },
    {
     "data": {
      "image/png": "[encoded data removed]",
      "text/plain": [
       "<Figure size 640x480 with 1 Axes>"
      ]
     },
     "metadata": {},
     "output_type": "display_data"
    }
   ],
   "source": [
    "df.loc[:, \"L1dummy_1\":\"L1dummy_5\"].sum(axis=0).plot(kind=\"bar\")"
   ]
  },
  {
   "cell_type": "code",
   "execution_count": 57,
   "metadata": {},
   "outputs": [
    {
     "data": {
      "text/plain": [
       "0       100000\n",
       "1       100000\n",
       "2       100000\n",
       "3       100000\n",
       "4       100000\n",
       "         ...  \n",
       "1682    100000\n",
       "1683    000001\n",
       "1684    100000\n",
       "1685    000001\n",
       "1686    000001\n",
       "Name: L1claims_multi_hot, Length: 1687, dtype: object"
      ]
     },
     "execution_count": 57,
     "metadata": {},
     "output_type": "execute_result"
    }
   ],
   "source": [
    "con['L1claims_multi_hot'].apply(lambda x: \"\".join([str(i) for i in x]))"
   ]
  },
  {
   "cell_type": "code",
   "execution_count": 45,
   "metadata": {},
   "outputs": [
    {
     "data": {
      "text/plain": [
       "['congress',\n",
       " 'chamber',\n",
       " 'committee',\n",
       " 'committee_short',\n",
       " 'year',\n",
       " 'date',\n",
       " 'title',\n",
       " 'hearing_id',\n",
       " 'type',\n",
       " 'last_name',\n",
       " 'matched_speaker',\n",
       " 'utterance',\n",
       " 'text',\n",
       " 'witness',\n",
       " 'witness_affiliation',\n",
       " 'witness_opensectrets_industry',\n",
       " 'witness_opensectrets_sector',\n",
       " 'witness_category',\n",
       " 'witness_subcategory',\n",
       " 'witness_state_research',\n",
       " 'witness_contrarian_organisation',\n",
       " 'witness_contrarian',\n",
       " 'witness_denialist',\n",
       " 'MoC_bioguide_id',\n",
       " 'MoC_govtrack_id',\n",
       " 'MoC_id',\n",
       " 'MoC_name',\n",
       " 'MoC_maj_min',\n",
       " 'MoC_rank_within_party',\n",
       " 'MoC_party_code',\n",
       " 'MoC_date_of_assignment',\n",
       " 'MoC_date_of_termination',\n",
       " 'MoC_senior_party_member',\n",
       " 'MoC_committee_seniority',\n",
       " 'MoC_committee_period_of_service',\n",
       " 'MoC_committee_status_at_end_of_this_congress',\n",
       " 'MoC_committee_continuity_of_assignment_in_next_congress',\n",
       " 'MoC_appointment_citation',\n",
       " 'MoC_state_icpsr',\n",
       " 'MoC_cd_code',\n",
       " 'MoC_stab',\n",
       " 'MoC_notes',\n",
       " 'MoC_Party',\n",
       " 'MoC_CID',\n",
       " 'MoC_last_name',\n",
       " 'MoC_first_name',\n",
       " 'MoC_birthday',\n",
       " 'MoC_gender',\n",
       " 'word_count',\n",
       " 'id',\n",
       " 'DataRow Workflow Info_taskId',\n",
       " 'batch',\n",
       " 'labels_raw_CARDS',\n",
       " 'labels_CARDS',\n",
       " 'labels_raw_DOCD',\n",
       " 'labels_DOCD',\n",
       " 'discourse_DOCD',\n",
       " 'C0',\n",
       " 'L1dummy_1',\n",
       " 'L1dummy_2',\n",
       " 'L1dummy_3',\n",
       " 'L1dummy_4',\n",
       " 'L1dummy_5',\n",
       " 'L2dummy_1_1',\n",
       " 'L2dummy_1_2',\n",
       " 'L2dummy_1_3',\n",
       " 'L2dummy_1_4',\n",
       " 'L2dummy_1_5',\n",
       " 'L2dummy_1_6',\n",
       " 'L2dummy_1_7',\n",
       " 'L2dummy_1_8',\n",
       " 'L2dummy_2_1',\n",
       " 'L2dummy_2_2',\n",
       " 'L2dummy_2_3',\n",
       " 'L2dummy_2_4',\n",
       " 'L2dummy_2_5',\n",
       " 'L2dummy_3_1',\n",
       " 'L2dummy_3_2',\n",
       " 'L2dummy_3_3',\n",
       " 'L2dummy_3_4',\n",
       " 'L2dummy_3_5',\n",
       " 'L2dummy_3_6',\n",
       " 'L2dummy_3_7',\n",
       " 'L2dummy_3_8',\n",
       " 'L2dummy_4_1',\n",
       " 'L2dummy_4_2',\n",
       " 'L2dummy_4_3',\n",
       " 'L2dummy_4_4',\n",
       " 'L2dummy_4_5',\n",
       " 'L2dummy_4_6',\n",
       " 'L2dummy_4_7',\n",
       " 'L2dummy_5_1',\n",
       " 'L2dummy_5_2',\n",
       " 'L2dummy_5_3',\n",
       " 'L3dummy_1_1_1',\n",
       " 'L3dummy_1_1_2',\n",
       " 'L3dummy_1_1_3',\n",
       " 'L3dummy_1_1_4',\n",
       " 'L3dummy_2_1_1',\n",
       " 'L3dummy_2_1_2',\n",
       " 'L3dummy_2_1_3',\n",
       " 'L3dummy_2_1_4',\n",
       " 'L3dummy_2_1_5',\n",
       " 'L3dummy_2_1_6',\n",
       " 'L3dummy_2_3_1',\n",
       " 'L3dummy_2_3_2',\n",
       " 'L3dummy_2_3_3',\n",
       " 'L3dummy_2_3_4',\n",
       " 'L3dummy_2_3_5',\n",
       " 'L3dummy_2_3_6',\n",
       " 'L3dummy_3_2_1',\n",
       " 'L3dummy_3_2_2',\n",
       " 'L3dummy_3_2_3',\n",
       " 'L3dummy_3_3_1',\n",
       " 'L3dummy_4_1_1',\n",
       " 'L3dummy_4_1_2',\n",
       " 'L3dummy_4_1_3',\n",
       " 'L3dummy_4_1_4',\n",
       " 'L3dummy_4_1_5',\n",
       " 'L3dummy_4_2_1',\n",
       " 'L3dummy_4_2_2',\n",
       " 'L3dummy_4_2_3',\n",
       " 'L3dummy_4_2_4',\n",
       " 'L3dummy_4_2_5',\n",
       " 'L3dummy_4_2_6',\n",
       " 'L3dummy_4_3_1',\n",
       " 'L3dummy_4_3_2',\n",
       " 'L3dummy_4_3_3',\n",
       " 'L3dummy_4_3_4',\n",
       " 'L3dummy_4_3_5',\n",
       " 'L3dummy_4_4_1',\n",
       " 'L3dummy_4_4_2',\n",
       " 'L3dummy_4_4_3',\n",
       " 'L3dummy_4_4_4',\n",
       " 'L3dummy_4_5_1',\n",
       " 'L3dummy_4_5_2',\n",
       " 'L3dummy_4_6_1',\n",
       " 'L3dummy_4_6_2',\n",
       " 'L3dummy_4_6_3',\n",
       " 'L3dummy_4_7_1',\n",
       " 'L3dummy_4_7_2',\n",
       " 'L3dummy_5_1_1',\n",
       " 'L3dummy_5_1_2',\n",
       " 'L3dummy_5_1_3',\n",
       " 'L3dummy_5_1_4',\n",
       " 'L3dummy_5_2_1',\n",
       " 'L3dummy_5_2_2',\n",
       " 'L3dummy_5_2_3',\n",
       " 'L3dummy_5_2_4',\n",
       " 'L3dummy_5_2_5',\n",
       " 'L3dummy_5_3_1',\n",
       " 'L3dummy_5_3_2',\n",
       " 'L4dummy_4_1_1_1',\n",
       " 'L4dummy_4_1_1_2',\n",
       " 'L4dummy_4_1_1_3',\n",
       " 'L4dummy_4_3_4_1',\n",
       " 'L4dummy_4_3_4_2',\n",
       " 'L4dummy_4_3_4_3',\n",
       " 'L4dummy_4_5_1_1',\n",
       " 'L4dummy_4_5_1_2',\n",
       " 'L4dummy_4_5_2_1',\n",
       " 'L4dummy_4_5_2_2',\n",
       " 'L1claims',\n",
       " 'L1claims_multi_hot',\n",
       " 'L2claims',\n",
       " 'L2claims_multi_hot',\n",
       " 'L3claims',\n",
       " 'L3claims_multi_hot',\n",
       " 'L4claims',\n",
       " 'L4claims_multi_hot',\n",
       " 'L1policyclaims',\n",
       " 'L2policyclaims',\n",
       " 'L3policyclaims',\n",
       " 'L4policyclaims',\n",
       " 'L2policyclaims_multi_hot',\n",
       " 'labelled',\n",
       " 'L2dummy_4_45',\n",
       " 'L2dummy_4_3456']"
      ]
     },
     "execution_count": 45,
     "metadata": {},
     "output_type": "execute_result"
    }
   ],
   "source": [
    "[i for i in con]"
   ]
  },
  {
   "cell_type": "code",
   "execution_count": 109,
   "metadata": {},
   "outputs": [],
   "source": [
    "# Export the data\n",
    "\n",
    "# Select all columns not containing lists\n",
    "export = con.iloc[:, list(range(0,52)) + list(range(57,162))]\n",
    "export.to_json(\"../Data/contrarian_witnesses_03_10_utterances_witnesses_MoCs_labels_for_plotting.json\")\n",
    "export.to_csv(\"../Data/contrarian_witnesses_03_10_utterances_witnesses_MoCs_labels_for_plotting.csv\")"
   ]
  },
  {
   "cell_type": "code",
   "execution_count": 14,
   "metadata": {},
   "outputs": [
    {
     "data": {
      "text/plain": [
       "<AxesSubplot: xlabel='year'>"
      ]
     },
     "execution_count": 14,
     "metadata": {},
     "output_type": "execute_result"
    },
    {
     "data": {
      "image/png": "[encoded data removed]",
      "text/plain": [
       "<Figure size 640x480 with 1 Axes>"
      ]
     },
     "metadata": {},
     "output_type": "display_data"
    }
   ],
   "source": [
    "df.loc[:, (\"year\", \"L1dummy_1\")].groupby(\"year\").sum().plot(kind=\"bar\")"
   ]
  },
  {
   "cell_type": "code",
   "execution_count": 38,
   "metadata": {},
   "outputs": [
    {
     "data": {
      "text/plain": [
       "year  hearing_id    last_name  L1dummy_1\n",
       "2003  108hhrg88427  Holmstead  0.0          42\n",
       "      108shrg91748  Rogers     0.0          18\n",
       "                    Thorning   0.0          13\n",
       "2004  108hhrg98899  Gattuso    0.0           6\n",
       "                    Kovacs     0.0           3\n",
       "                                            ..\n",
       "2010  111hhrg62618  Lindzen    0.0          22\n",
       "                               1.0           2\n",
       "                    Michaels   0.0          14\n",
       "                               1.0           2\n",
       "      111hhrg76568  Drevna     0.0          22\n",
       "Length: 103, dtype: int64"
      ]
     },
     "execution_count": 38,
     "metadata": {},
     "output_type": "execute_result"
    }
   ],
   "source": [
    "con.loc[:, (\"year\", \"hearing_id\", \"last_name\", \"L1dummy_1\")].groupby([\"year\", \"hearing_id\", \"last_name\", \"L1dummy_1\"]).value_counts()"
   ]
  },
  {
   "cell_type": "code",
   "execution_count": 36,
   "metadata": {},
   "outputs": [
    {
     "data": {
      "text/plain": [
       "year  hearing_id    last_name  L1dummy_4\n",
       "2003  108hhrg88427  Holmstead  0.0          39\n",
       "                               1.0           3\n",
       "      108shrg91748  Rogers     0.0           8\n",
       "                               1.0          10\n",
       "                    Thorning   0.0           4\n",
       "                                            ..\n",
       "2010  111hhrg62618  Lindzen    0.0          22\n",
       "                               1.0           2\n",
       "                    Michaels   0.0          16\n",
       "      111hhrg76568  Drevna     0.0           6\n",
       "                               1.0          16\n",
       "Length: 165, dtype: int64"
      ]
     },
     "execution_count": 36,
     "metadata": {},
     "output_type": "execute_result"
    }
   ],
   "source": [
    "con.loc[:, (\"year\", \"hearing_id\", \"last_name\", \"L1dummy_4\")].groupby([\"year\", \"hearing_id\", \"last_name\", \"L1dummy_4\"]).value_counts()"
   ]
  },
  {
   "cell_type": "code",
   "execution_count": 114,
   "metadata": {},
   "outputs": [
    {
     "data": {
      "text/html": [
       "<div>\n",
       "<style scoped>\n",
       "    .dataframe tbody tr th:only-of-type {\n",
       "        vertical-align: middle;\n",
       "    }\n",
       "\n",
       "    .dataframe tbody tr th {\n",
       "        vertical-align: top;\n",
       "    }\n",
       "\n",
       "    .dataframe thead th {\n",
       "        text-align: right;\n",
       "    }\n",
       "</style>\n",
       "<table border=\"1\" class=\"dataframe\">\n",
       "  <thead>\n",
       "    <tr style=\"text-align: right;\">\n",
       "      <th></th>\n",
       "      <th>hearing_id</th>\n",
       "      <th>last_name</th>\n",
       "    </tr>\n",
       "  </thead>\n",
       "  <tbody>\n",
       "    <tr>\n",
       "      <th>0</th>\n",
       "      <td>108shrg91748</td>\n",
       "      <td>Rogers</td>\n",
       "    </tr>\n",
       "    <tr>\n",
       "      <th>18</th>\n",
       "      <td>108shrg91748</td>\n",
       "      <td>Thorning</td>\n",
       "    </tr>\n",
       "    <tr>\n",
       "      <th>31</th>\n",
       "      <td>108hhrg88427</td>\n",
       "      <td>Holmstead</td>\n",
       "    </tr>\n",
       "    <tr>\n",
       "      <th>73</th>\n",
       "      <td>108hhrg98899</td>\n",
       "      <td>Kovacs</td>\n",
       "    </tr>\n",
       "    <tr>\n",
       "      <th>74</th>\n",
       "      <td>108hhrg98899</td>\n",
       "      <td>Gattuso</td>\n",
       "    </tr>\n",
       "    <tr>\n",
       "      <th>...</th>\n",
       "      <td>...</td>\n",
       "      <td>...</td>\n",
       "    </tr>\n",
       "    <tr>\n",
       "      <th>1547</th>\n",
       "      <td>111hhrg62590</td>\n",
       "      <td>Monckton</td>\n",
       "    </tr>\n",
       "    <tr>\n",
       "      <th>1575</th>\n",
       "      <td>111hhrg58145</td>\n",
       "      <td>Happer</td>\n",
       "    </tr>\n",
       "    <tr>\n",
       "      <th>1619</th>\n",
       "      <td>111hhrg62618</td>\n",
       "      <td>Lindzen</td>\n",
       "    </tr>\n",
       "    <tr>\n",
       "      <th>1643</th>\n",
       "      <td>111hhrg62618</td>\n",
       "      <td>Michaels</td>\n",
       "    </tr>\n",
       "    <tr>\n",
       "      <th>1659</th>\n",
       "      <td>111hhrg62618</td>\n",
       "      <td>Curry</td>\n",
       "    </tr>\n",
       "  </tbody>\n",
       "</table>\n",
       "<p>89 rows × 2 columns</p>\n",
       "</div>"
      ],
      "text/plain": [
       "        hearing_id  last_name\n",
       "0     108shrg91748     Rogers\n",
       "18    108shrg91748   Thorning\n",
       "31    108hhrg88427  Holmstead\n",
       "73    108hhrg98899     Kovacs\n",
       "74    108hhrg98899    Gattuso\n",
       "...            ...        ...\n",
       "1547  111hhrg62590   Monckton\n",
       "1575  111hhrg58145     Happer\n",
       "1619  111hhrg62618    Lindzen\n",
       "1643  111hhrg62618   Michaels\n",
       "1659  111hhrg62618      Curry\n",
       "\n",
       "[89 rows x 2 columns]"
      ]
     },
     "execution_count": 114,
     "metadata": {},
     "output_type": "execute_result"
    }
   ],
   "source": [
    "con.loc[:, (\"hearing_id\", \"last_name\")].drop_duplicates()\n"
   ]
  }
 ],
 "metadata": {
  "kernelspec": {
   "display_name": ".venv3.8",
   "language": "python",
   "name": "python3"
  },
  "language_info": {
   "codemirror_mode": {
    "name": "ipython",
    "version": 3
   },
   "file_extension": ".py",
   "mimetype": "text/x-python",
   "name": "python",
   "nbconvert_exporter": "python",
   "pygments_lexer": "ipython3",
   "version": "3.11.1"
  },
  "orig_nbformat": 4,
  "vscode": {
   "interpreter": {
    "hash": "b96e02473e1a50f4b07215bd0878944b5ead58de3c3d4ecfe5c8cb3b994c21a1"
   }
  }
 },
 "nbformat": 4,
 "nbformat_minor": 2
}
